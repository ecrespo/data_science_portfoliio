{
 "cells": [
  {
   "cell_type": "markdown",
   "id": "2cfe433a-2906-46e5-a22e-d97a2568ac41",
   "metadata": {},
   "source": [
    "# Data typing in Python\n",
    "\n",
    "## From regular class to data class then pydantic\n"
   ]
  },
  {
   "cell_type": "markdown",
   "id": "e238dfad-3b74-45a8-9ca0-ffe45dd91b69",
   "metadata": {},
   "source": [
    "### Regular Class\n"
   ]
  },
  {
   "cell_type": "code",
   "execution_count": 1,
   "id": "6fea0ec2-e332-4bae-aa02-adc905f998f2",
   "metadata": {},
   "outputs": [],
   "source": [
    "class Dog:\n",
    "    name: str\n",
    "    race: str\n",
    "    age: int\n",
    "    def __init__(self, name, race, age):\n",
    "        self.name = name\n",
    "        self.race = race\n",
    "        self.age = age\n"
   ]
  },
  {
   "cell_type": "code",
   "execution_count": 2,
   "id": "dab82a27-e5dd-4815-b70e-63d455c6416c",
   "metadata": {},
   "outputs": [],
   "source": [
    "puppet1 = Dog('RUDY', 'Terrier Australiano', 2)\n",
    "puppet2 = Dog('TEDDY', 'bichón frisé', 3)\n",
    "puppet3 = Dog('TEDDY', 'bichón frisé', 3)\n"
   ]
  },
  {
   "cell_type": "code",
   "execution_count": 3,
   "id": "e325d732-81cb-464d-b8d9-613bb5d0faea",
   "metadata": {},
   "outputs": [
    {
     "data": {
      "text/plain": [
       "False"
      ]
     },
     "execution_count": 3,
     "metadata": {},
     "output_type": "execute_result"
    }
   ],
   "source": [
    "puppet2 == puppet3"
   ]
  },
  {
   "cell_type": "markdown",
   "id": "ca40a687-a314-4fa1-b0e7-0d48c195f9d9",
   "metadata": {},
   "source": [
    "Devuelve False por que son dos objetos distintos"
   ]
  },
  {
   "cell_type": "code",
   "execution_count": 4,
   "id": "b7726475-6fb7-4d1a-be93-68193c5368d5",
   "metadata": {},
   "outputs": [
    {
     "name": "stdout",
     "output_type": "stream",
     "text": [
      "<__main__.Dog object at 0x7fc6a0130880>\n"
     ]
    }
   ],
   "source": [
    "print(puppet2)"
   ]
  },
  {
   "cell_type": "markdown",
   "id": "38e0873b-8931-421b-b21c-29fc968dd272",
   "metadata": {},
   "source": [
    "Devuelve el ID en memoria del Objeto"
   ]
  },
  {
   "cell_type": "code",
   "execution_count": 5,
   "id": "d2dc0035-847e-4411-bc7c-07e54eef119c",
   "metadata": {},
   "outputs": [
    {
     "name": "stdout",
     "output_type": "stream",
     "text": [
      "TEDDY bichón frisé 3\n"
     ]
    }
   ],
   "source": [
    "print(puppet2.name,puppet2.race,puppet2.age) "
   ]
  },
  {
   "cell_type": "markdown",
   "id": "7081febf-1a02-431e-912c-0b20e0e95a49",
   "metadata": {},
   "source": [
    "### Data classes\n",
    "\n",
    "Install: pip install dataclasses"
   ]
  },
  {
   "cell_type": "code",
   "execution_count": 6,
   "id": "6bdddf5d-899d-4253-af8b-445b00ca3f52",
   "metadata": {},
   "outputs": [],
   "source": [
    "from dataclasses import dataclass\n",
    "@dataclass\n",
    "class Dog:\n",
    "    name: str\n",
    "    race: str\n",
    "    age: int\n"
   ]
  },
  {
   "cell_type": "code",
   "execution_count": 7,
   "id": "2762f502-7c35-48db-8390-5d015bd3ba77",
   "metadata": {},
   "outputs": [],
   "source": [
    "puppet1 = Dog('RUDY', 'Terrier Australiano', 2)\n",
    "puppet2 = Dog('TEDDY', 'bichón frisé', 3)\n",
    "puppet3 = Dog('TEDDY', 'bichón frisé', 3)\n"
   ]
  },
  {
   "cell_type": "code",
   "execution_count": 8,
   "id": "674c5a59-141d-45ef-a949-eb445e6cb558",
   "metadata": {},
   "outputs": [
    {
     "data": {
      "text/plain": [
       "True"
      ]
     },
     "execution_count": 8,
     "metadata": {},
     "output_type": "execute_result"
    }
   ],
   "source": [
    "puppet2 == puppet3 "
   ]
  },
  {
   "cell_type": "markdown",
   "id": "cec5a0bc-6890-44ab-a83b-460e272f2026",
   "metadata": {},
   "source": [
    "Devuelve True por que son el mismo objeto\n"
   ]
  },
  {
   "cell_type": "code",
   "execution_count": 9,
   "id": "abf45ea2-0850-4153-80f5-c808ef680779",
   "metadata": {},
   "outputs": [
    {
     "name": "stdout",
     "output_type": "stream",
     "text": [
      "Dog(name='TEDDY', race='bichón frisé', age=3)\n"
     ]
    }
   ],
   "source": [
    "print(puppet2) "
   ]
  },
  {
   "cell_type": "code",
   "execution_count": 10,
   "id": "bcd8e347-7a94-49ff-a6f6-66faba2361a1",
   "metadata": {},
   "outputs": [
    {
     "ename": "TypeError",
     "evalue": "'>' not supported between instances of 'Dog' and 'Dog'",
     "output_type": "error",
     "traceback": [
      "\u001b[0;31m---------------------------------------------------------------------------\u001b[0m",
      "\u001b[0;31mTypeError\u001b[0m                                 Traceback (most recent call last)",
      "Input \u001b[0;32mIn [10]\u001b[0m, in \u001b[0;36m<module>\u001b[0;34m\u001b[0m\n\u001b[0;32m----> 1\u001b[0m \u001b[38;5;28mprint\u001b[39m(\u001b[43mpuppet1\u001b[49m\u001b[43m \u001b[49m\u001b[38;5;241;43m>\u001b[39;49m\u001b[43m \u001b[49m\u001b[43mpuppet2\u001b[49m)\n",
      "\u001b[0;31mTypeError\u001b[0m: '>' not supported between instances of 'Dog' and 'Dog'"
     ]
    }
   ],
   "source": [
    "print(puppet1 > puppet2)"
   ]
  },
  {
   "cell_type": "markdown",
   "id": "07b5f237-edeb-435f-b4d8-a1fe0ecd10e3",
   "metadata": {},
   "source": [
    "#### Added method __post__init__\n"
   ]
  },
  {
   "cell_type": "code",
   "execution_count": 11,
   "id": "e96dd15e-34e9-4379-850a-5587e1992930",
   "metadata": {},
   "outputs": [],
   "source": [
    "from dataclasses import dataclass, field\n",
    "@dataclass\n",
    "class Dog:\n",
    "    sort_index: int = field(init=False)\n",
    "    name: str\n",
    "    race: str\n",
    "    age: int\n",
    "    def __repr__(self):\n",
    "        return f\"{self.sort_index} {self.name} {self.race} ({self.age})\"  \n",
    "    def __post_init__(self):\n",
    "      self.sort_index = self.age\n"
   ]
  },
  {
   "cell_type": "code",
   "execution_count": 12,
   "id": "3b7c38d5-216e-4bd7-8ffa-3ddb004e97ed",
   "metadata": {},
   "outputs": [],
   "source": [
    "puppet1 = Dog('RUDY', 'Terrier Australiano', 2)\n",
    "puppet2 = Dog('TEDDY', 'bichón frisé', 3)\n"
   ]
  },
  {
   "cell_type": "code",
   "execution_count": 13,
   "id": "8dc46bef-0588-4f51-87f6-3499d5e931fd",
   "metadata": {},
   "outputs": [
    {
     "name": "stdout",
     "output_type": "stream",
     "text": [
      "3 TEDDY bichón frisé (3)\n"
     ]
    }
   ],
   "source": [
    "print(puppet2)"
   ]
  },
  {
   "cell_type": "code",
   "execution_count": 14,
   "id": "8fa8186a-c7f1-4c91-b06c-0a0556a5939f",
   "metadata": {},
   "outputs": [
    {
     "ename": "TypeError",
     "evalue": "'>' not supported between instances of 'Dog' and 'Dog'",
     "output_type": "error",
     "traceback": [
      "\u001b[0;31m---------------------------------------------------------------------------\u001b[0m",
      "\u001b[0;31mTypeError\u001b[0m                                 Traceback (most recent call last)",
      "Input \u001b[0;32mIn [14]\u001b[0m, in \u001b[0;36m<module>\u001b[0;34m\u001b[0m\n\u001b[0;32m----> 1\u001b[0m \u001b[38;5;28mprint\u001b[39m(\u001b[43mpuppet1\u001b[49m\u001b[43m \u001b[49m\u001b[38;5;241;43m>\u001b[39;49m\u001b[43m \u001b[49m\u001b[43mpuppet2\u001b[49m)\n",
      "\u001b[0;31mTypeError\u001b[0m: '>' not supported between instances of 'Dog' and 'Dog'"
     ]
    }
   ],
   "source": [
    "print(puppet1 > puppet2)\n"
   ]
  },
  {
   "cell_type": "markdown",
   "id": "1b16bc62-aa40-430d-8626-e0f3117e7b60",
   "metadata": {},
   "source": [
    "Sigue devolviendo error, no soporta comparación > o <"
   ]
  },
  {
   "cell_type": "markdown",
   "id": "d6fb380e-21de-485d-ba01-42c18b2e3655",
   "metadata": {},
   "source": [
    "#### Read only dataclasses\n"
   ]
  },
  {
   "cell_type": "code",
   "execution_count": 15,
   "id": "73f0e04b-d94a-4a99-8987-9a27a5f7a483",
   "metadata": {},
   "outputs": [],
   "source": [
    "@dataclass(order=True, frozen=True)\n",
    "class Dog:\n",
    "    sort_index: int = field(init=False)\n",
    "    name: str\n",
    "    race: str\n",
    "    age: int\n",
    "\n",
    "    def __post_init__(self):\n",
    "      object.__setattr__(self, 'sort_index', self.age)\n"
   ]
  },
  {
   "cell_type": "code",
   "execution_count": 16,
   "id": "b0d073e6-a3ea-4075-bfea-788808fca360",
   "metadata": {},
   "outputs": [],
   "source": [
    "puppet1 = Dog('RUDY', 'Terrier Australiano', 2)\n",
    "puppet2 = Dog('TEDDY', 'bichón frisé', 3)\n",
    "puppet3 = Dog('TEDDY', 'bichón frisé', 3)\n"
   ]
  },
  {
   "cell_type": "code",
   "execution_count": 17,
   "id": "a090a285-aaa5-4d75-adcb-97e5596e52b0",
   "metadata": {},
   "outputs": [
    {
     "name": "stdout",
     "output_type": "stream",
     "text": [
      "Dog(sort_index=2, name='RUDY', race='Terrier Australiano', age=2)\n"
     ]
    }
   ],
   "source": [
    "print(puppet1)"
   ]
  },
  {
   "cell_type": "code",
   "execution_count": 18,
   "id": "f6df5d42-374b-4150-a815-c88ea56c7b2b",
   "metadata": {},
   "outputs": [
    {
     "name": "stdout",
     "output_type": "stream",
     "text": [
      "True\n"
     ]
    }
   ],
   "source": [
    "print(puppet1 < puppet2 )"
   ]
  },
  {
   "cell_type": "code",
   "execution_count": 19,
   "id": "1cb9d2cb-e0fb-4ab1-bb18-4e2405f8ff8f",
   "metadata": {},
   "outputs": [
    {
     "name": "stdout",
     "output_type": "stream",
     "text": [
      "False\n"
     ]
    }
   ],
   "source": [
    "print(puppet1 > puppet2 )"
   ]
  },
  {
   "cell_type": "code",
   "execution_count": 20,
   "id": "6499776b-8464-4110-b68f-09c090c0fed3",
   "metadata": {},
   "outputs": [
    {
     "ename": "FrozenInstanceError",
     "evalue": "cannot assign to field 'age'",
     "output_type": "error",
     "traceback": [
      "\u001b[0;31m---------------------------------------------------------------------------\u001b[0m",
      "\u001b[0;31mFrozenInstanceError\u001b[0m                       Traceback (most recent call last)",
      "Input \u001b[0;32mIn [20]\u001b[0m, in \u001b[0;36m<module>\u001b[0;34m\u001b[0m\n\u001b[0;32m----> 1\u001b[0m puppet2\u001b[38;5;241m.\u001b[39mage \u001b[38;5;241m=\u001b[39m \u001b[38;5;241m4\u001b[39m\n",
      "File \u001b[0;32m<string>:4\u001b[0m, in \u001b[0;36m__setattr__\u001b[0;34m(self, name, value)\u001b[0m\n",
      "\u001b[0;31mFrozenInstanceError\u001b[0m: cannot assign to field 'age'"
     ]
    }
   ],
   "source": [
    "puppet2.age = 4"
   ]
  },
  {
   "cell_type": "markdown",
   "id": "b9034de6-3339-49e9-b032-91a0f22fcdc1",
   "metadata": {},
   "source": [
    "Ahora no se puede modificar el objeto"
   ]
  },
  {
   "cell_type": "markdown",
   "id": "5a1d7015-c439-4f47-98d4-06d108de58f4",
   "metadata": {},
   "source": [
    "### Annotation variables\n"
   ]
  },
  {
   "cell_type": "code",
   "execution_count": 21,
   "id": "54d584c5-3714-4ee3-8500-f72e53890a12",
   "metadata": {},
   "outputs": [],
   "source": [
    "from typing import List\n",
    "\n",
    "nombre: str = 'Pedro'\n",
    "edad: int = 24\n",
    "altura_mts: float = 1.7\n",
    "colegas: List[str] = ['Jane', 'John']\n"
   ]
  },
  {
   "cell_type": "markdown",
   "id": "7fd6111b-eedb-42fd-9651-0f740512d2bf",
   "metadata": {},
   "source": [
    "### Special types\n",
    "\n",
    "\n",
    "* Any: A variable of type Any is compatible with all basic types.\n",
    "* Literal: The literal type is used to indicate that it has a value equal to the indicated values (types).\n",
    "* Union: Some variables sometimes need two basic types. \n",
    "* TypeDict: TypedDict allows defining a dictionary data type.\n",
    "* NoReturn: NoReturn is similar to void in other programming languages, You can  use None  when a function returns nothing.\n",
    "* Final: This data type is defined not to redefine a value.\n"
   ]
  },
  {
   "cell_type": "markdown",
   "id": "24e6809c-df45-40da-b7e3-bb76b5a471f2",
   "metadata": {},
   "source": [
    "#### Special types Any"
   ]
  },
  {
   "cell_type": "code",
   "execution_count": 22,
   "id": "8a562a95-3b02-4650-b8cb-634970820492",
   "metadata": {},
   "outputs": [],
   "source": [
    "from typing import Any\n",
    "\n",
    "result: Any = \"Done\"\n",
    "result = 10\n",
    "status: str = \"Pending\"\n",
    "status = result\n"
   ]
  },
  {
   "cell_type": "markdown",
   "id": "2b573829-ec08-4a6c-a6ab-8ec099ce2e73",
   "metadata": {},
   "source": [
    "No genera error el asignar un valor de tipo string y luego un entero"
   ]
  },
  {
   "cell_type": "markdown",
   "id": "3745fa33-b84f-4c80-9748-df0ac297dc8f",
   "metadata": {},
   "source": [
    "#### Special types - Literal\n"
   ]
  },
  {
   "cell_type": "code",
   "execution_count": 23,
   "id": "23ddc6d2-a67c-4e19-af5c-1d667a845d6a",
   "metadata": {},
   "outputs": [],
   "source": [
    "from typing import Literal, Dict\n",
    "GENDER = Literal[\"male\", \"female\", \"No specified\"]\n",
    "def create_user(first_name: str,last_name: str,gender: GENDER,) -> Dict[str, str]:\n",
    "    return {\n",
    "        \"first_name\": first_name,\n",
    "        \"last_name\": last_name,\n",
    "        \"gender\": gender\n",
    "    }\n"
   ]
  },
  {
   "cell_type": "code",
   "execution_count": 24,
   "id": "17bc82bb-f748-42fe-8f98-ce49101afcb6",
   "metadata": {},
   "outputs": [
    {
     "data": {
      "text/plain": [
       "{'first_name': 'John', 'last_name': 'Doe', 'gender': 'male'}"
      ]
     },
     "execution_count": 24,
     "metadata": {},
     "output_type": "execute_result"
    }
   ],
   "source": [
    "create_user(\"John\", \"Doe\", \"male\")"
   ]
  },
  {
   "cell_type": "code",
   "execution_count": 25,
   "id": "ce9a6d1b-29ce-4a8c-a5b2-2819ae86fac3",
   "metadata": {},
   "outputs": [
    {
     "data": {
      "text/plain": [
       "{'first_name': 'Jame', 'last_name': 'Doe', 'gender': 'female'}"
      ]
     },
     "execution_count": 25,
     "metadata": {},
     "output_type": "execute_result"
    }
   ],
   "source": [
    "create_user(\"Jame\", \"Doe\", \"female\")"
   ]
  },
  {
   "cell_type": "code",
   "execution_count": 26,
   "id": "315bbf45-c175-4ed9-8a6b-b303fec29bf2",
   "metadata": {},
   "outputs": [
    {
     "data": {
      "text/plain": [
       "{'first_name': 'X', 'last_name': 'X', 'gender': 'X'}"
      ]
     },
     "execution_count": 26,
     "metadata": {},
     "output_type": "execute_result"
    }
   ],
   "source": [
    "create_user(\"X\", \"X\", \"X\")"
   ]
  },
  {
   "cell_type": "markdown",
   "id": "b1c3da90-d5f5-4b68-a3bd-9c848236a8bd",
   "metadata": {},
   "source": [
    "No devuelve error por que a Python no le importa el valor, pero si le importa a los validadores de código estático como mypy"
   ]
  },
  {
   "cell_type": "markdown",
   "id": "c329642b-cc4f-4173-80e5-e306db20fee6",
   "metadata": {},
   "source": [
    "#### Special types Union\n"
   ]
  },
  {
   "cell_type": "code",
   "execution_count": 27,
   "id": "9eb967b1-6b72-47e5-b84a-090f18a41d4e",
   "metadata": {},
   "outputs": [],
   "source": [
    "from typing import Union\n",
    "\n",
    "def get_temperature() -> Union[int, float]:\n",
    "    return 20.8  # works with 20 too\n"
   ]
  },
  {
   "cell_type": "markdown",
   "id": "ffc89dd3-2d12-4ca5-a9b4-e9df3c3d36e5",
   "metadata": {},
   "source": [
    "#### Special types TypedDict"
   ]
  },
  {
   "cell_type": "code",
   "execution_count": 28,
   "id": "0e99c1cc-6d30-4472-8326-4829c5221406",
   "metadata": {},
   "outputs": [],
   "source": [
    "from typing import TypedDict, Union\n",
    "class Card(TypedDict):\n",
    "    rank: Union[str, int]\n",
    "    suit: str\n"
   ]
  },
  {
   "cell_type": "code",
   "execution_count": 29,
   "id": "041b7195-4e37-496f-a7b2-0615da3801a3",
   "metadata": {},
   "outputs": [],
   "source": [
    "# Card can be used to annotate a variable\n",
    "ace_of_spade: Card = {'rank': 'A', 'suit': '♤'}\n",
    "# or can be instantiated\n",
    "ace_of_spade = Card(rank='A', suit='♤')\n"
   ]
  },
  {
   "cell_type": "code",
   "execution_count": 30,
   "id": "55eaae75-eb03-40ea-b5fd-f045b2f5ef50",
   "metadata": {},
   "outputs": [
    {
     "name": "stdout",
     "output_type": "stream",
     "text": [
      "{'rank': 'A', 'suit': '♤'}\n"
     ]
    }
   ],
   "source": [
    "print(ace_of_spade)\n"
   ]
  },
  {
   "cell_type": "code",
   "execution_count": 31,
   "id": "4e64a244-93c4-4b11-8485-275f9e1b8337",
   "metadata": {},
   "outputs": [
    {
     "name": "stdout",
     "output_type": "stream",
     "text": [
      "{'rank': 2, 'suit': '♤'}\n"
     ]
    }
   ],
   "source": [
    "ace_of_spade2 = Card(rank=2, suit='♤')\n",
    "print(ace_of_spade2)\n",
    "\n"
   ]
  },
  {
   "cell_type": "markdown",
   "id": "4eeebb9b-2365-43e5-b55f-7f42d718bef5",
   "metadata": {},
   "source": [
    "#### Special types NoReturn\n"
   ]
  },
  {
   "cell_type": "code",
   "execution_count": 32,
   "id": "6cd3d20a-0448-4aeb-8fab-c0f00c41cce4",
   "metadata": {},
   "outputs": [],
   "source": [
    "from typing import NoReturn\n",
    "\n",
    "def hi1() -> None:\n",
    "    print(\"Hello world!\")\n",
    "\n",
    "def hi2() -> NoReturn:\n",
    "    print(\"Hello world!\")\n"
   ]
  },
  {
   "cell_type": "markdown",
   "id": "84731d52-d688-41c4-9e50-cdf3454156a0",
   "metadata": {},
   "source": [
    "Las dos formas son válidas para una función que no retorna algo"
   ]
  },
  {
   "cell_type": "markdown",
   "id": "1bce27b2-fbdb-4a8c-b377-7cd3c535c6a7",
   "metadata": {},
   "source": [
    "#### Special type Final\n"
   ]
  },
  {
   "cell_type": "code",
   "execution_count": 33,
   "id": "ec471330-ed80-40d3-9487-dd5031a8627b",
   "metadata": {},
   "outputs": [],
   "source": [
    "from typing import Final\n",
    "MIN_NAME_LONG: Final = 2\n"
   ]
  },
  {
   "cell_type": "code",
   "execution_count": 34,
   "id": "2853eebf-c1ac-484a-876b-29e7af9fc36d",
   "metadata": {},
   "outputs": [],
   "source": [
    "# mypy  reporta  error al asignarle un nuevo valor a la variable\n",
    "MIN_NAME_LONG += 1\n"
   ]
  },
  {
   "cell_type": "code",
   "execution_count": 35,
   "id": "1a07f7b8-ea38-44c9-980a-193b10d8798b",
   "metadata": {},
   "outputs": [],
   "source": [
    "class Validator(object):\n",
    "    MIN_NAME_LONG: Final[int] = 4\n"
   ]
  },
  {
   "cell_type": "code",
   "execution_count": 36,
   "id": "279892bf-1df8-4a57-9f5d-bb10232abec6",
   "metadata": {},
   "outputs": [],
   "source": [
    "class UserValidator(Validator):\n",
    "    #  mark a flag in this line\n",
    "    MIN_NAME_LONG = 3\n"
   ]
  },
  {
   "cell_type": "markdown",
   "id": "8e49f340-6226-4590-ab05-b6a812c462b3",
   "metadata": {},
   "source": [
    "#### Types validators mypy\n",
    "\n",
    "Install: pip install mypy \n",
    "\n",
    "Se crea un archivo pruebas_typing.py"
   ]
  },
  {
   "cell_type": "raw",
   "id": "e8f07360-0b61-490e-ae03-d4d5675ffb31",
   "metadata": {},
   "source": [
    "#!/usr/bin/env python3\n",
    "from typing import Literal\n",
    "GENDER = Literal[\"male\", \"female\", \"No specified\"]\n",
    "def create_user(first_name: str,last_name: str,gender: GENDER,) -> Dict[str, str]:\n",
    "    return {\n",
    "        \"first_name\": first_name,\n",
    "        \"last_name\": last_name,\n",
    "        \"gender\": gender\n",
    "    }\n",
    "create_user(\"John\", \"Doe\", \"male\")\n",
    "create_user(\"Jame\", \"Doe\", \"female\")\n",
    "create_user(\"X\", \"X\", \"X\")\n"
   ]
  },
  {
   "cell_type": "markdown",
   "id": "e0f41aaa-fdc7-4fd4-836b-689386b0ceb2",
   "metadata": {},
   "source": [
    "Se ejecuta mypy"
   ]
  },
  {
   "cell_type": "raw",
   "id": "a363bdeb-a303-45f8-b04a-27da91513d3b",
   "metadata": {},
   "source": [
    "mypy   test_typing.py\n",
    "content/code/pruebas_typing.py:23: error: Argument 3 to \"create_user\" has incompatible type \"Literal['x']\"; expected \"Union[Literal['male'], Literal['female'], Literal['no specified']]\"\n",
    "Found 1 error in 1 file (checked 1 source file)\n"
   ]
  },
  {
   "cell_type": "code",
   "execution_count": 54,
   "id": "2f5768b3-6942-4eac-a91c-03987af9322e",
   "metadata": {},
   "outputs": [
    {
     "name": "stdout",
     "output_type": "stream",
     "text": [
      "Requirement already satisfied: pydantic in /home/ernesto/.venv/lib/python3.9/site-packages (1.9.0)\n",
      "Requirement already satisfied: mypy in /home/ernesto/.venv/lib/python3.9/site-packages (0.931)\n",
      "Requirement already satisfied: email_validator in /home/ernesto/.venv/lib/python3.9/site-packages (1.1.3)\n",
      "Collecting numpy\n",
      "  Downloading numpy-1.22.2-cp39-cp39-manylinux_2_17_x86_64.manylinux2014_x86_64.whl (16.8 MB)\n",
      "\u001b[K     |████████████████████████████████| 16.8 MB 512 kB/s eta 0:00:01\n",
      "\u001b[?25hRequirement already satisfied: dnspython>=1.15.0 in /home/ernesto/.venv/lib/python3.9/site-packages (from email_validator) (2.2.0)\n",
      "Requirement already satisfied: idna>=2.0.0 in /home/ernesto/.venv/lib/python3.9/site-packages (from email_validator) (3.3)\n",
      "Requirement already satisfied: typing-extensions>=3.10 in /home/ernesto/.venv/lib/python3.9/site-packages (from mypy) (4.0.1)\n",
      "Requirement already satisfied: tomli>=1.1.0 in /home/ernesto/.venv/lib/python3.9/site-packages (from mypy) (2.0.1)\n",
      "Requirement already satisfied: mypy-extensions>=0.4.3 in /home/ernesto/.venv/lib/python3.9/site-packages (from mypy) (0.4.3)\n",
      "Installing collected packages: numpy\n",
      "Successfully installed numpy-1.22.2\n"
     ]
    }
   ],
   "source": [
    "!pip install pydantic mypy email_validator numpy"
   ]
  },
  {
   "cell_type": "markdown",
   "id": "d3c42870-d843-47b4-9795-87b92844fd5d",
   "metadata": {},
   "source": [
    "### Pydantic\n",
    "\n",
    "Data validation and settings management using python type annotations.\n",
    "\n"
   ]
  },
  {
   "cell_type": "code",
   "execution_count": 38,
   "id": "6d1cc568-bf8f-4584-ace3-c4476e645ef7",
   "metadata": {},
   "outputs": [],
   "source": [
    "from pydantic import BaseModel\n",
    "from typing import Optional \n",
    "from random import  randrange \n",
    "\n",
    "class Product(BaseModel):\n",
    "    title: str\n",
    "    description: str\n",
    "    price: int\n",
    "    published: Optional[bool]= True \n",
    "    id_obj: Optional[int]= None \n"
   ]
  },
  {
   "cell_type": "markdown",
   "id": "eb2e26b7-f48b-4cab-b95c-1397d331c7a1",
   "metadata": {},
   "source": [
    "#### Pydantic Field Types\n",
    "\n",
    "* None, type(None) or Literal[None]: Allows only None value\n",
    "* bool: Booelan value\n",
    "* int: Integer value\n",
    "* float: Float value\n",
    "* str: String value\n",
    "* bytes: bytes are accepted as-is, bytearray\n",
    "* list: allows list, tuple, set, frozenset, deque, or generators and casts to a list\n",
    "* tuple: allows list, tuple, set, frozenset, deque, or generators and casts to a tuple\n",
    "* Dict: dict(v) is used to attempt to convert a dictionary\n",
    "* Set: allows list, tuple, set, frozenset, deque, or generators and casts to a set\n",
    "* Frozenset:allows list, tuple, set, frozenset, deque, or generators and casts to a frozen set\n",
    "* Deque: allows list, tuple, set, frozenset, deque, or generators and casts to a deque\n",
    "* datetime.date: allow date from datetime.\n",
    "* datetime.time: allow time from datetime\n",
    "* datetime.datetime: allow datetime from datetime\n",
    "* typing.Any: allows any value including None, thus an Any field is optional\n",
    "* ipaddress.Ipv4Address:simply uses the type itself for validation by passing the value to IPv4Address(v)\n",
    "* enum.Enum: checks that the value is a valid IntEnum instance\n",
    "* decimal.Decimal: pydantic attempts to convert the value to a string, then passes the string to Decimal(v)\n",
    "* pathlib.Path:simply uses the type itself for validation by passing the value to Path(v)\n",
    "* uuid.UUID: strings and bytes (converted to strings) are passed to UUID(v)\n",
    "* EmailStr:requires email-validator to be installed; the input string must be a valid email address,\n",
    "* Json: a special type wrapper which loads JSON before parsing\n",
    "* PaymentCardNumber:for parsing and validating payment cards\n",
    "* AnyUrl: any URL\n",
    "* PostgresDsn:a postgres DSN style URL\n"
   ]
  },
  {
   "cell_type": "code",
   "execution_count": 39,
   "id": "94a530a8-2ca5-47e2-9fbe-6a14f223be8e",
   "metadata": {},
   "outputs": [],
   "source": [
    "from datetime import datetime\n",
    "from enum import Enum\n",
    "import re\n",
    "from pydantic import BaseSettings, Field, EmailStr, validator\n",
    "from typing import Optional\n",
    "\n",
    "class Sexo(str, Enum):\n",
    "    masculino = \"Masculino\"\n",
    "    femenino = \"Femenino\"\n",
    "    indefinido = \"Indefinido\"\n"
   ]
  },
  {
   "cell_type": "code",
   "execution_count": 40,
   "id": "02c25a90-cd5e-43e9-b62f-61c23698e7e9",
   "metadata": {},
   "outputs": [],
   "source": [
    "class Documentos(BaseSettings):\n",
    "    IdentificacionFileName: Optional[str] = ''\n",
    "    IdentificacionFile: Optional[str] = ''\n",
    "    CedulaFileName: Optional[str] = ''\n",
    "    CedulaFile: Optional[str] = ''\n"
   ]
  },
  {
   "cell_type": "code",
   "execution_count": 43,
   "id": "1529b948-c8d5-46f4-9749-92c55bb20165",
   "metadata": {},
   "outputs": [],
   "source": [
    "class Paciente(BaseSettings):\n",
    "    Nombre: str\n",
    "    ApellidoPaterno: str\n",
    "    ApellidoMaterno: str\n",
    "    FechaNacimiento: datetime\n",
    "    Sexo: Optional[Sexo]\n",
    "    NumeroCelular: str  # 10 digitos.\n",
    "    CorreoElectronico: EmailStr\n",
    "\n",
    "    \n",
    "    @validator(\"NumeroCelular\")\n",
    "    def phone_number_must_have_10_digits(cls, v):\n",
    "        match = re.match(r\"\\d{10}\", v)\n",
    "        if (match is None) or (len(v) < 10):\n",
    "            raise ValueError(\"Phone number must have at least 10 digits\")\n",
    "        return v\n"
   ]
  },
  {
   "cell_type": "markdown",
   "id": "340606d2-68ec-4531-9cd9-ffd53dd59494",
   "metadata": {},
   "source": [
    "### Introduction to orjson\n",
    "\n",
    "ORJSON and other alternative json parsers to the builtin json package in python’s standard library provide extra tooling for object serialization as well as significantly increased read\\write speed making this an ideal tool where workload demands are higher.\n",
    "Its features and drawbacks compared to other Python JSON libraries:\n",
    "* serializes dataclass instances 40-50x as fast as other libraries\n",
    "* serializes datetime, date, and time instances to RFC 3339 format, e.g., \"1970-01-01T00:00:00+00:00\"\n",
    "* serializes numpy.ndarray instances 4-12x as fast with 0.3x the memory usage of other libraries\n",
    "* pretty prints 10x to 20x as fast as the standard library\n",
    "* serializes to bytes rather than str, i.e., is not a drop-in replacement\n",
    "* serializes str without escaping unicode to ASCII, e.g., \"好\" rather than \"\\\\u597d\"\n",
    "* serializes float 10x as fast and deserializes twice as fast as other libraries\n",
    "* serializes subclasses of str, int, list, and dict natively, requiring default to specify how to serialize others\n",
    "* serializes arbitrary types using a default hook\n",
    "* has strict UTF-8 conformance, more correct than the standard library\n",
    "* has strict JSON conformance in not supporting Nan/Infinity/-Infinity\n",
    "* has an option for strict JSON conformance on 53-bit integers with default support for 64-bit\n",
    "* does not provide load() or dump() functions for reading from/writing to file-like objects\n",
    "\n",
    "\n",
    "\n",
    "Install: pip install orjson"
   ]
  },
  {
   "cell_type": "code",
   "execution_count": 44,
   "id": "4a9847e7-ed67-4564-b6df-26fa0725fdc0",
   "metadata": {},
   "outputs": [
    {
     "name": "stdout",
     "output_type": "stream",
     "text": [
      "Requirement already satisfied: orjson in /home/ernesto/.venv/lib/python3.9/site-packages (3.6.6)\n"
     ]
    }
   ],
   "source": [
    "!pip install orjson"
   ]
  },
  {
   "cell_type": "code",
   "execution_count": 45,
   "id": "ed582c72-6924-4df6-9bd8-38db0983eba8",
   "metadata": {},
   "outputs": [],
   "source": [
    "import orjson\n",
    "from datetime import datetime\n",
    "import uuid\n",
    "dato = {\"emoji_lagrimas\": \"😂\", \"emoji_reloj\": \"⏰\",\"entero\": 123,\"flotante\": 10.4,\"boleano\": False,\"lista\": [\"element1\", \"element2\"],\"diccionario\": {\"key1\": \"value1\", \"key2\": \"value2\"},\n",
    "    \"ruso\": \"Привет\",\"chino\": \"您好\",\"japones\": \"こんにちは\",\"datetime\": datetime.now(),\"uuid\": uuid.uuid1()\n",
    "}\n"
   ]
  },
  {
   "cell_type": "code",
   "execution_count": 48,
   "id": "395c1a2b-4eee-4e61-8808-003d42de8219",
   "metadata": {},
   "outputs": [
    {
     "name": "stdout",
     "output_type": "stream",
     "text": [
      "b'{\"emoji_lagrimas\":\"\\xf0\\x9f\\x98\\x82\",\"emoji_reloj\":\"\\xe2\\x8f\\xb0\",\"entero\":123,\"flotante\":10.4,\"boleano\":false,\"lista\":[\"element1\",\"element2\"],\"diccionario\":{\"key1\":\"value1\",\"key2\":\"value2\"},\"ruso\":\"\\xd0\\x9f\\xd1\\x80\\xd0\\xb8\\xd0\\xb2\\xd0\\xb5\\xd1\\x82\",\"chino\":\"\\xe6\\x82\\xa8\\xe5\\xa5\\xbd\",\"japones\":\"\\xe3\\x81\\x93\\xe3\\x82\\x93\\xe3\\x81\\xab\\xe3\\x81\\xa1\\xe3\\x81\\xaf\",\"datetime\":\"2022-02-10T16:57:55.564860\",\"uuid\":\"1ec25bb4-8ab4-11ec-914e-555cd90dffee\"}'\n"
     ]
    }
   ],
   "source": [
    "json_byte = orjson.dumps(dato)\n",
    "print(json_byte)\n"
   ]
  },
  {
   "cell_type": "markdown",
   "id": "10ca63fe-6a98-4ab6-8ec7-dc0b87ddafc9",
   "metadata": {},
   "source": [
    "#### Convert json byte to text\n"
   ]
  },
  {
   "cell_type": "code",
   "execution_count": 49,
   "id": "e855ad40-1bf3-49bb-ab19-6703005bdd4d",
   "metadata": {},
   "outputs": [
    {
     "name": "stdout",
     "output_type": "stream",
     "text": [
      "{'emoji_lagrimas': '😂', 'emoji_reloj': '⏰', 'entero': 123, 'flotante': 10.4, 'boleano': False, 'lista': ['element1', 'element2'], 'diccionario': {'key1': 'value1', 'key2': 'value2'}, 'ruso': 'Привет', 'chino': '您好', 'japones': 'こんにちは', 'datetime': '2022-02-10T16:57:55.564860', 'uuid': '1ec25bb4-8ab4-11ec-914e-555cd90dffee'}\n"
     ]
    },
    {
     "data": {
      "text/plain": [
       "{'emoji_tears': '😂',\n",
       " 'emoji_clock': '⏰',\n",
       " 'integer': 123,\n",
       " 'float': 10.4,\n",
       " 'boolean': False,\n",
       " 'list': ['element1', 'element2'],\n",
       " 'dict': {'key1': 'value1', 'key2': 'value2'},\n",
       " 'russian': 'Привет',\n",
       " 'chinese': '您好',\n",
       " 'japanese': 'こんにちは',\n",
       " 'datetime': '2022-01-20T19:25:28.555227',\n",
       " 'uuid': '40d49edc-7a48-11ec-865d-9078414427c1'}"
      ]
     },
     "execution_count": 49,
     "metadata": {},
     "output_type": "execute_result"
    }
   ],
   "source": [
    "json_data = orjson.loads(json_byte)\n",
    "print(json_data)\n",
    "{'emoji_tears': '😂',\n",
    " 'emoji_clock': '⏰',\n",
    " 'integer': 123,\n",
    " 'float': 10.4,\n",
    " 'boolean': False,\n",
    " 'list': ['element1', 'element2'],\n",
    " 'dict': {'key1': 'value1', 'key2': 'value2'},\n",
    " 'russian': 'Привет',\n",
    " 'chinese': '您好',\n",
    " 'japanese': 'こんにちは',\n",
    " 'datetime': '2022-01-20T19:25:28.555227',\n",
    " 'uuid': '40d49edc-7a48-11ec-865d-9078414427c1'}\n"
   ]
  },
  {
   "cell_type": "markdown",
   "id": "ae5cfaa2-a14a-41fd-89e3-dcc9c1288579",
   "metadata": {},
   "source": [
    "#### Decimal data type\n"
   ]
  },
  {
   "cell_type": "code",
   "execution_count": 50,
   "id": "1a43a1a1-1aa3-406b-a342-a1c08a726c8c",
   "metadata": {},
   "outputs": [
    {
     "ename": "TypeError",
     "evalue": "Type is not JSON serializable: decimal.Decimal",
     "output_type": "error",
     "traceback": [
      "\u001b[0;31m---------------------------------------------------------------------------\u001b[0m",
      "\u001b[0;31mTypeError\u001b[0m                                 Traceback (most recent call last)",
      "Input \u001b[0;32mIn [50]\u001b[0m, in \u001b[0;36m<module>\u001b[0;34m\u001b[0m\n\u001b[1;32m      1\u001b[0m \u001b[38;5;28;01mimport\u001b[39;00m \u001b[38;5;21;01mdecimal\u001b[39;00m\n\u001b[0;32m----> 2\u001b[0m \u001b[43morjson\u001b[49m\u001b[38;5;241;43m.\u001b[39;49m\u001b[43mdumps\u001b[49m\u001b[43m(\u001b[49m\u001b[43mdecimal\u001b[49m\u001b[38;5;241;43m.\u001b[39;49m\u001b[43mDecimal\u001b[49m\u001b[43m(\u001b[49m\u001b[38;5;124;43m\"\u001b[39;49m\u001b[38;5;124;43m3.141592653\u001b[39;49m\u001b[38;5;124;43m\"\u001b[39;49m\u001b[43m)\u001b[49m\u001b[43m)\u001b[49m\n",
      "\u001b[0;31mTypeError\u001b[0m: Type is not JSON serializable: decimal.Decimal"
     ]
    }
   ],
   "source": [
    "import decimal\n",
    "orjson.dumps(decimal.Decimal(\"3.141592653\"))\n",
    "\n"
   ]
  },
  {
   "cell_type": "markdown",
   "id": "d9b75ad8-ee4b-451e-b312-7b8139c916b6",
   "metadata": {},
   "source": [
    "Solución:"
   ]
  },
  {
   "cell_type": "code",
   "execution_count": 51,
   "id": "b69a352a-4e1e-4dad-be97-1505c5e81f0c",
   "metadata": {},
   "outputs": [],
   "source": [
    "import decimal\n",
    "import math \n",
    "def default(obj):\n",
    "    if isinstance(obj, decimal.Decimal):\n",
    "        return str(obj)\n",
    "    raise TypeError\n"
   ]
  },
  {
   "cell_type": "code",
   "execution_count": 52,
   "id": "c8afd259-eebb-418f-b1a6-8378e9457620",
   "metadata": {},
   "outputs": [
    {
     "data": {
      "text/plain": [
       "b'\"3.141592653589793\"'"
      ]
     },
     "execution_count": 52,
     "metadata": {},
     "output_type": "execute_result"
    }
   ],
   "source": [
    "orjson.dumps(decimal.Decimal(f\"{math.pi}\"), default=default)\n"
   ]
  },
  {
   "cell_type": "markdown",
   "id": "3bf31fe2-ce75-4d61-a3a9-ac0f51ecd0fe",
   "metadata": {},
   "source": [
    "#### Option\n"
   ]
  },
  {
   "cell_type": "code",
   "execution_count": 55,
   "id": "64b42ff5-c64a-41b3-9d3d-27f10630e909",
   "metadata": {},
   "outputs": [],
   "source": [
    "import orjson\n",
    "import datetime\n",
    "import numpy as np\n",
    "\n",
    "data = {\n",
    "\"datetime\": datetime.datetime.now(),\n",
    "\"numpy\": np.array([[1, 2], [3, 4]])\n",
    "}\n"
   ]
  },
  {
   "cell_type": "code",
   "execution_count": 56,
   "id": "ae3ac3b7-a76b-400e-adde-b13e2770e09a",
   "metadata": {},
   "outputs": [
    {
     "name": "stdout",
     "output_type": "stream",
     "text": [
      "b'{\"datetime\":\"2022-02-10T16:59:37.412149+00:00\",\"numpy\":[[1,2],[3,4]]}'\n",
      "{'datetime': '2022-02-10T16:59:37.412149+00:00', 'numpy': [[1, 2], [3, 4]]}\n"
     ]
    }
   ],
   "source": [
    "json_byte = orjson.dumps(data, option=orjson.OPT_NAIVE_UTC | orjson.OPT_SERIALIZE_NUMPY)\n",
    "print(json_byte)\n",
    "print(orjson.loads(json_byte))\n"
   ]
  },
  {
   "cell_type": "markdown",
   "id": "d7650117-83b8-4268-bc97-137580ff3297",
   "metadata": {},
   "source": [
    "#### Dataclass"
   ]
  },
  {
   "cell_type": "code",
   "execution_count": 57,
   "id": "b8cd754c-35c0-4b91-af52-88eb3eb11ec0",
   "metadata": {},
   "outputs": [],
   "source": [
    "import dataclasses, orjson, typing\n",
    "@dataclasses.dataclass\n",
    "class Person:\n",
    "    id: int\n",
    "    name: str\n",
    "    status: bool = dataclasses.field(default=True)\n",
    "\n",
    "@dataclasses.dataclass\n",
    "class Class:\n",
    "    id: int\n",
    "    name: str\n",
    "    students: typing.List[Person]\n",
    "\n",
    "\n"
   ]
  },
  {
   "cell_type": "code",
   "execution_count": 58,
   "id": "595d727d-caf1-44fe-a4a1-eddfaae77e72",
   "metadata": {},
   "outputs": [
    {
     "name": "stdout",
     "output_type": "stream",
     "text": [
      "b'{\"id\":1,\"name\":\"Class A\",\"students\":[{\"id\":1,\"name\":\"John Doe\",\"status\":false},{\"id\":2,\"name\":\"Mary Sue\",\"status\":true}]}'\n",
      "{'id': 1, 'name': 'Class A', 'students': [{'id': 1, 'name': 'John Doe', 'status': False}, {'id': 2, 'name': 'Mary Sue', 'status': True}]}\n"
     ]
    }
   ],
   "source": [
    "data = Class(1, \"Class A\", [Person(1, \"John Doe\", False), Person(2, \"Mary Sue\")])\n",
    "json_byte = orjson.dumps(data)\n",
    "print(json_byte)\n",
    "print(orjson.loads(json_byte))\n"
   ]
  },
  {
   "cell_type": "markdown",
   "id": "374763db-de6f-43e8-8ac5-f06506ca8833",
   "metadata": {},
   "source": [
    "#### Read/Write files"
   ]
  },
  {
   "cell_type": "raw",
   "id": "c7cf188d-b250-4930-831b-fdbc7d08c87c",
   "metadata": {},
   "source": [
    "Read:\n",
    "with open(\"example.json\", \"wb\") as f:\n",
    "    f.write(orjson.dumps(data))\n"
   ]
  },
  {
   "cell_type": "raw",
   "id": "0d792dc8-a8c2-4ccf-b179-26f5a9106e28",
   "metadata": {},
   "source": [
    "Write:\n",
    "with open(\"example.json\", \"rb\") as f:\n",
    "    json_data = orjson.loads(f.read())\n"
   ]
  },
  {
   "cell_type": "markdown",
   "id": "094fa161-e861-4696-b0d5-cfc353cdf2c1",
   "metadata": {},
   "source": [
    "## References:\n",
    "\n",
    "* https://www.seraph.to/python_typing.html#python_typing\n",
    "* https://justgiveacar.medium.com/data-classes-in-python-991a3f68ddf9\n",
    "* https://towardsdatascience.com/9-reasons-why-you-should-start-using-python-dataclasses-98271adadc66\n",
    "* https://www.seraph.to/python_dataclass.html#python_dataclass\n",
    "* https://medium.com/codex/getting-started-with-pydantic-as-a-data-validation-tool-in-api-development-2155deef37c4\n",
    "* https://medium.com/short-bits/pydantic-better-data-validation-for-python-f4d2c07a7c\n",
    "* https://pydantic-docs.helpmanual.io/\n",
    "* https://pythonspeed.com/articles/faster-json-library/\n",
    "* https://github.com/ijl/orjson\n",
    "* https://pydantic-docs.helpmanual.io/usage/types/\n"
   ]
  },
  {
   "cell_type": "code",
   "execution_count": null,
   "id": "4e8bdf33-147e-4f4c-8f27-873a48740b5c",
   "metadata": {},
   "outputs": [],
   "source": []
  }
 ],
 "metadata": {
  "kernelspec": {
   "display_name": "Python 3 (ipykernel)",
   "language": "python",
   "name": "python3"
  },
  "language_info": {
   "codemirror_mode": {
    "name": "ipython",
    "version": 3
   },
   "file_extension": ".py",
   "mimetype": "text/x-python",
   "name": "python",
   "nbconvert_exporter": "python",
   "pygments_lexer": "ipython3",
   "version": "3.8.12"
  }
 },
 "nbformat": 4,
 "nbformat_minor": 5
}
