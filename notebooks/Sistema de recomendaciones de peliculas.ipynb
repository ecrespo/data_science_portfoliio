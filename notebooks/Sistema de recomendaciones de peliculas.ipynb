{
 "cells": [
  {
   "cell_type": "markdown",
   "metadata": {},
   "source": [
    "# Sistema de recomendaciones de Películas usando Python "
   ]
  },
  {
   "cell_type": "markdown",
   "metadata": {},
   "source": [
    "# Ponente: Ernesto Crespo\n",
    "\n",
    "* Desarrollador Python desde el año 2000\n",
    "* Blog: [blog.crespo.org.ve](https://blog.crespo.org.ve) migrando a [www.seraph.to](https://www.seraph.to)  \n",
    "* BI Developer y Data Scientist\n",
    "* Github: [https://github.com/ecrespo](https://github.com/ecrespo)\n",
    "* Gitlab: [https://gitlab.com/ecrespo](https://gitlab.com/ecrespo)\n",
    "* Twitter: [@_seraph1](https://twitter.com/_seraph1)\n",
    "\n",
    "<hr>"
   ]
  },
  {
   "cell_type": "markdown",
   "metadata": {},
   "source": [
    "# Científico de Datos (wikipedia) \n",
    "La ciencia de datos es un campo interdisciplinario que utiliza métodos, procesos, algoritmos y sistemas científicos para extraer conocimientos y conocimientos de datos en diversas formas, tanto estructuradas como no estructuradas,  similar a la minería de datos.\n",
    "\n",
    "La ciencia de datos es un \"concepto para unificar estadísticas, análisis de datos, aprendizaje automático y sus métodos relacionados\" para \"entender y analizar fenómenos reales\" con datos. Emplea técnicas y teorías extraídas de muchos campos dentro del contexto de las matemáticas, estadísticas, ciencias de la información y ciencias de la computación.\n",
    "\n",
    "![](./images/venn-diagram.png)\n",
    "<hr>"
   ]
  },
  {
   "cell_type": "markdown",
   "metadata": {},
   "source": [
    "![](./images/revelando-los-secretos-de-twitter-festival-de-software-libre-2014-24-638.jpg)\n",
    "<hr>"
   ]
  },
  {
   "cell_type": "markdown",
   "metadata": {},
   "source": [
    "![](./images/habilidades-del-cientifico-de-datos.jpg)\n",
    "<hr>"
   ]
  },
  {
   "cell_type": "markdown",
   "metadata": {},
   "source": [
    "![](./images/dsc.png)\n",
    "<hr>"
   ]
  },
  {
   "cell_type": "markdown",
   "metadata": {},
   "source": [
    "# Herramientas \n"
   ]
  },
  {
   "cell_type": "markdown",
   "metadata": {},
   "source": [
    "## Jupyter notebook: \n",
    "[Jupyter](https://jupyter.org/)\n",
    "\n",
    "![](./images/Jupyter3.png)\n",
    "\n",
    "Es una aplicación web opensource que permite crear un compartir código en vivo, ecuaciones, visualización y texto narrativo. \n",
    "\n",
    "Entre sus usos incluye: \n",
    "* Limpieza de datos \n",
    "* Simulación numérica \n",
    "* Modelación estadística \n",
    "* Visualización de datos \n",
    "* Machine Leaarning\n",
    "* Permite contar una historia (Storytelling)\n",
    "* Mucho más ...\n",
    "\n",
    "\n",
    "<hr>"
   ]
  },
  {
   "cell_type": "markdown",
   "metadata": {},
   "source": [
    "## Pandas: \n",
    "[Pandas](https://pandas.pydata.org/)\n",
    "\n",
    "![](./images/pandas_logo.png)\n",
    "\n",
    "Es una librería escrita en Python para manipulación, analisis  y visualización de datos.\n",
    "\n",
    "<hr>"
   ]
  },
  {
   "cell_type": "markdown",
   "metadata": {},
   "source": [
    "## Numpy\n",
    "\n",
    "[Numpy](http://www.numpy.org/)\n",
    "\n",
    "![](./images/numpy.png)\n",
    "\n",
    "Es una librería para Python que soporta grandes arreglos y matrices multidimensionales, con una alta colección de funciones matemáticas de alto nivel para operar con los\n",
    "arreglos.\n",
    "\n",
    "<hr>"
   ]
  },
  {
   "cell_type": "markdown",
   "metadata": {},
   "source": [
    "## Matplotlib\n",
    "\n",
    "[Matplotlib](https://matplotlib.org/)\n",
    "\n",
    "![](./images/matplotlib.png)\n",
    "\n",
    "Es una librería para Python que permite generar gráficas en 2D y 3D \n",
    "\n",
    "<hr>"
   ]
  },
  {
   "cell_type": "markdown",
   "metadata": {},
   "source": [
    "## Seaborn \n",
    "\n",
    "[Seaborn](http://seaborn.pydata.org/)\n",
    "\n",
    "![](./images/seaborn.png)\n",
    "\n",
    "Es una librería basada en matplotlib que provee una interface de alto nivel para gráficos atractivos de información estadística.\n",
    "\n",
    "<hr>\n"
   ]
  },
  {
   "cell_type": "markdown",
   "metadata": {},
   "source": [
    "<hr>"
   ]
  },
  {
   "cell_type": "markdown",
   "metadata": {},
   "source": [
    "# Sistema de recomendaciones de Películas\n",
    "## Fuente de datos \n",
    "\n",
    "El repositorio donde encontrarán el notebook y la fuentes de datos original lo pueden conseguir en el siguiente enlace:\n",
    "\n",
    "https://github.com/krishnaik06/Movie-Recommender-in-python\n",
    "\n",
    "https://github.com/krishnaik06/Movie-Recommender-in-python/blob/master/Recommender%20Systems%20with%20Python.ipynb"
   ]
  },
  {
   "cell_type": "markdown",
   "metadata": {},
   "source": [
    "Este es un sistema básico de recomendaciones, usando simplemente estadística usando Pandas y Numpy en Python"
   ]
  },
  {
   "cell_type": "markdown",
   "metadata": {},
   "source": [
    "### Importar librerías "
   ]
  },
  {
   "cell_type": "code",
   "execution_count": null,
   "metadata": {
    "ExecuteTime": {
     "end_time": "2019-02-08T01:41:41.577147Z",
     "start_time": "2019-02-08T01:41:41.245737Z"
    }
   },
   "outputs": [],
   "source": [
    "import pandas as pd \n",
    "import numpy as np "
   ]
  },
  {
   "cell_type": "markdown",
   "metadata": {},
   "source": [
    "### Obtener los datos \n",
    "\n",
    "* [u.data.txt](./datos/u.data.txt): Archivo que contiene datos separados por tabulador(campos: user_id,item_id,rating,timestamp).\n",
    "* [Mogie Id titles](./datos/Movie_Id_Titles.txt): Archivo csv que contiene los títulos de las películas (campos: item_id, titles)."
   ]
  },
  {
   "cell_type": "code",
   "execution_count": null,
   "metadata": {
    "ExecuteTime": {
     "end_time": "2019-02-08T01:41:43.792487Z",
     "start_time": "2019-02-08T01:41:43.334997Z"
    }
   },
   "outputs": [],
   "source": [
    "column_names = ['user_id', 'item_id', 'rating', 'timestamp']\n",
    "df = pd.read_csv('./datos/u.data.txt', sep='\\t', names=column_names)"
   ]
  },
  {
   "cell_type": "code",
   "execution_count": null,
   "metadata": {
    "ExecuteTime": {
     "end_time": "2019-02-08T01:41:44.893551Z",
     "start_time": "2019-02-08T01:41:44.869839Z"
    }
   },
   "outputs": [],
   "source": [
    "# Obtener los títulos de las películas\n",
    "movie_titles = pd.read_csv(\"./datos/Movie_Id_Titles.txt\")"
   ]
  },
  {
   "cell_type": "markdown",
   "metadata": {},
   "source": [
    "### Revisar los dataframes "
   ]
  },
  {
   "cell_type": "code",
   "execution_count": null,
   "metadata": {
    "ExecuteTime": {
     "end_time": "2019-02-08T01:41:49.757375Z",
     "start_time": "2019-02-08T01:41:49.655167Z"
    }
   },
   "outputs": [],
   "source": [
    "df.head() "
   ]
  },
  {
   "cell_type": "code",
   "execution_count": null,
   "metadata": {
    "ExecuteTime": {
     "end_time": "2019-02-08T01:41:51.920585Z",
     "start_time": "2019-02-08T01:41:51.904427Z"
    }
   },
   "outputs": [],
   "source": [
    "df.tail()"
   ]
  },
  {
   "cell_type": "code",
   "execution_count": null,
   "metadata": {
    "ExecuteTime": {
     "end_time": "2019-02-08T01:41:54.051203Z",
     "start_time": "2019-02-08T01:41:54.024696Z"
    }
   },
   "outputs": [],
   "source": [
    "df.info()"
   ]
  },
  {
   "cell_type": "code",
   "execution_count": null,
   "metadata": {
    "ExecuteTime": {
     "end_time": "2019-02-08T01:41:56.199327Z",
     "start_time": "2019-02-08T01:41:56.189466Z"
    }
   },
   "outputs": [],
   "source": [
    "len(df)"
   ]
  },
  {
   "cell_type": "markdown",
   "metadata": {},
   "source": [
    "<hr>"
   ]
  },
  {
   "cell_type": "code",
   "execution_count": null,
   "metadata": {
    "ExecuteTime": {
     "end_time": "2019-02-08T01:42:01.970619Z",
     "start_time": "2019-02-08T01:42:01.957689Z"
    }
   },
   "outputs": [],
   "source": [
    "movie_titles.head()"
   ]
  },
  {
   "cell_type": "code",
   "execution_count": null,
   "metadata": {
    "ExecuteTime": {
     "end_time": "2019-02-08T01:42:03.830142Z",
     "start_time": "2019-02-08T01:42:03.814374Z"
    }
   },
   "outputs": [],
   "source": [
    "movie_titles.info() "
   ]
  },
  {
   "cell_type": "code",
   "execution_count": null,
   "metadata": {
    "ExecuteTime": {
     "end_time": "2019-02-08T01:42:05.577911Z",
     "start_time": "2019-02-08T01:42:05.568366Z"
    }
   },
   "outputs": [],
   "source": [
    "len(movie_titles)"
   ]
  },
  {
   "cell_type": "code",
   "execution_count": null,
   "metadata": {
    "ExecuteTime": {
     "end_time": "2019-02-08T01:42:07.717706Z",
     "start_time": "2019-02-08T01:42:07.582868Z"
    }
   },
   "outputs": [],
   "source": [
    "df.describe().T"
   ]
  },
  {
   "cell_type": "code",
   "execution_count": null,
   "metadata": {
    "ExecuteTime": {
     "end_time": "2019-02-08T01:42:17.521051Z",
     "start_time": "2019-02-08T01:42:17.413221Z"
    }
   },
   "outputs": [],
   "source": [
    "df.corr()"
   ]
  },
  {
   "cell_type": "code",
   "execution_count": null,
   "metadata": {
    "ExecuteTime": {
     "end_time": "2019-02-08T01:42:19.771093Z",
     "start_time": "2019-02-08T01:42:19.734828Z"
    }
   },
   "outputs": [],
   "source": [
    "movie_titles.describe().T"
   ]
  },
  {
   "cell_type": "code",
   "execution_count": null,
   "metadata": {
    "ExecuteTime": {
     "end_time": "2019-02-08T01:42:27.723579Z",
     "start_time": "2019-02-08T01:42:27.710108Z"
    }
   },
   "outputs": [],
   "source": [
    "movie_titles.corr()"
   ]
  },
  {
   "cell_type": "code",
   "execution_count": null,
   "metadata": {
    "ExecuteTime": {
     "end_time": "2019-02-08T01:43:06.198176Z",
     "start_time": "2019-02-08T01:43:06.175990Z"
    }
   },
   "outputs": [],
   "source": [
    "df['rating'].describe()"
   ]
  },
  {
   "cell_type": "markdown",
   "metadata": {
    "ExecuteTime": {
     "end_time": "2019-02-08T01:44:25.310988Z",
     "start_time": "2019-02-08T01:44:21.098147Z"
    }
   },
   "source": [
    "<hr>"
   ]
  },
  {
   "cell_type": "markdown",
   "metadata": {},
   "source": [
    "### Concatenar dafaframes de títulos de películas con el rating \n",
    "\n",
    "Se concatenarán los dataframes df y movie_titles, noten que ambos dataframes tienen el item_id como campo, así que se usará este campo para realizar la fusión.\n",
    "\n",
    "![](./images/fusion.jpg)"
   ]
  },
  {
   "cell_type": "code",
   "execution_count": null,
   "metadata": {
    "ExecuteTime": {
     "end_time": "2019-02-08T01:44:53.352232Z",
     "start_time": "2019-02-08T01:44:53.211359Z"
    }
   },
   "outputs": [],
   "source": [
    "df = pd.merge(df,movie_titles,on='item_id')\n",
    "df.head()"
   ]
  },
  {
   "cell_type": "code",
   "execution_count": null,
   "metadata": {
    "ExecuteTime": {
     "end_time": "2019-02-08T01:44:55.177593Z",
     "start_time": "2019-02-08T01:44:55.160016Z"
    }
   },
   "outputs": [],
   "source": [
    "df.tail() "
   ]
  },
  {
   "cell_type": "code",
   "execution_count": null,
   "metadata": {
    "ExecuteTime": {
     "end_time": "2019-02-08T01:44:57.356016Z",
     "start_time": "2019-02-08T01:44:57.335460Z"
    }
   },
   "outputs": [],
   "source": [
    "df.info() "
   ]
  },
  {
   "cell_type": "code",
   "execution_count": null,
   "metadata": {
    "ExecuteTime": {
     "end_time": "2019-02-08T01:44:58.302116Z",
     "start_time": "2019-02-08T01:44:58.254072Z"
    }
   },
   "outputs": [],
   "source": [
    "len(df)"
   ]
  },
  {
   "cell_type": "code",
   "execution_count": null,
   "metadata": {
    "ExecuteTime": {
     "end_time": "2019-02-08T01:44:59.854259Z",
     "start_time": "2019-02-08T01:44:59.813087Z"
    }
   },
   "outputs": [],
   "source": [
    "df.describe()"
   ]
  },
  {
   "cell_type": "code",
   "execution_count": null,
   "metadata": {},
   "outputs": [],
   "source": [
    "df.describe().T"
   ]
  },
  {
   "cell_type": "code",
   "execution_count": null,
   "metadata": {
    "ExecuteTime": {
     "end_time": "2019-02-08T01:45:01.048272Z",
     "start_time": "2019-02-08T01:45:01.022280Z"
    }
   },
   "outputs": [],
   "source": [
    "df.corr() "
   ]
  },
  {
   "cell_type": "markdown",
   "metadata": {},
   "source": [
    "<hr>"
   ]
  },
  {
   "cell_type": "markdown",
   "metadata": {},
   "source": [
    "## Visualización de los datos "
   ]
  },
  {
   "cell_type": "markdown",
   "metadata": {},
   "source": [
    "### Importar librerías "
   ]
  },
  {
   "cell_type": "code",
   "execution_count": null,
   "metadata": {
    "ExecuteTime": {
     "end_time": "2019-02-08T01:45:07.662641Z",
     "start_time": "2019-02-08T01:45:07.630492Z"
    }
   },
   "outputs": [],
   "source": [
    "import matplotlib.pyplot as plt\n",
    "import seaborn as sns\n",
    "sns.set_style('white')\n",
    "%matplotlib inline"
   ]
  },
  {
   "cell_type": "markdown",
   "metadata": {},
   "source": [
    "### Gráficar un mapa de calor a partir de una correlación"
   ]
  },
  {
   "cell_type": "code",
   "execution_count": null,
   "metadata": {
    "ExecuteTime": {
     "end_time": "2019-02-08T01:45:09.330639Z",
     "start_time": "2019-02-08T01:45:08.728010Z"
    }
   },
   "outputs": [],
   "source": [
    "sns.heatmap(df.corr());"
   ]
  },
  {
   "cell_type": "markdown",
   "metadata": {},
   "source": [
    "### Gráfica de pares\n",
    "\n",
    "Esta gráfica permite ver el comportamiento de pares de variables gráficamente. "
   ]
  },
  {
   "cell_type": "code",
   "execution_count": null,
   "metadata": {
    "ExecuteTime": {
     "end_time": "2019-02-08T01:45:27.649134Z",
     "start_time": "2019-02-08T01:45:10.304018Z"
    }
   },
   "outputs": [],
   "source": [
    "sns.pairplot(df);"
   ]
  },
  {
   "cell_type": "markdown",
   "metadata": {},
   "source": [
    "Tener información estadística del item_id "
   ]
  },
  {
   "cell_type": "code",
   "execution_count": null,
   "metadata": {
    "ExecuteTime": {
     "end_time": "2019-02-08T01:52:02.599370Z",
     "start_time": "2019-02-08T01:52:02.570552Z"
    }
   },
   "outputs": [],
   "source": [
    "df[\"item_id\"].describe()"
   ]
  },
  {
   "cell_type": "markdown",
   "metadata": {},
   "source": [
    "Se generá una gráfica de vela"
   ]
  },
  {
   "cell_type": "code",
   "execution_count": null,
   "metadata": {
    "ExecuteTime": {
     "end_time": "2019-02-08T01:52:11.956043Z",
     "start_time": "2019-02-08T01:52:11.782650Z"
    }
   },
   "outputs": [],
   "source": [
    "sns.boxplot(x=df[\"item_id\"]);"
   ]
  },
  {
   "cell_type": "markdown",
   "metadata": {},
   "source": [
    "<hr>"
   ]
  },
  {
   "cell_type": "markdown",
   "metadata": {},
   "source": [
    "### Crear un dataframe con el número de rating y el rating promedio"
   ]
  },
  {
   "cell_type": "markdown",
   "metadata": {},
   "source": [
    "### Se agrupa por título ordenando los promedios de rating "
   ]
  },
  {
   "cell_type": "code",
   "execution_count": null,
   "metadata": {
    "ExecuteTime": {
     "end_time": "2019-02-07T19:45:01.556757Z",
     "start_time": "2019-02-07T19:45:01.476623Z"
    }
   },
   "outputs": [],
   "source": [
    "df.groupby('title')['rating'].mean().sort_values(ascending=False).head()"
   ]
  },
  {
   "cell_type": "code",
   "execution_count": null,
   "metadata": {},
   "outputs": [],
   "source": [
    "df.groupby('title')['rating'].mean().sort_values(ascending=False).tail()"
   ]
  },
  {
   "cell_type": "markdown",
   "metadata": {},
   "source": [
    "### Se agrupa por título ordenando los ratings"
   ]
  },
  {
   "cell_type": "code",
   "execution_count": null,
   "metadata": {
    "ExecuteTime": {
     "end_time": "2019-02-07T19:45:21.744100Z",
     "start_time": "2019-02-07T19:45:21.715035Z"
    }
   },
   "outputs": [],
   "source": [
    "df.groupby('title')['rating'].count().sort_values(ascending=False).head()"
   ]
  },
  {
   "cell_type": "code",
   "execution_count": null,
   "metadata": {},
   "outputs": [],
   "source": [
    "df.groupby('title')['rating'].count().sort_values(ascending=False).tail()"
   ]
  },
  {
   "cell_type": "markdown",
   "metadata": {},
   "source": [
    "### Se construye un dataframe del promedio de rating de los títulos de las películas \n",
    "\n",
    "De la agrupación anterior se crea un dataframe por promedio de rating"
   ]
  },
  {
   "cell_type": "code",
   "execution_count": null,
   "metadata": {
    "ExecuteTime": {
     "end_time": "2019-02-07T19:46:49.410135Z",
     "start_time": "2019-02-07T19:46:49.377550Z"
    }
   },
   "outputs": [],
   "source": [
    "ratings = pd.DataFrame(df.groupby('title')['rating'].mean())\n",
    "ratings.head()"
   ]
  },
  {
   "cell_type": "markdown",
   "metadata": {},
   "source": [
    "### Se define el número de rating\n",
    "\n",
    "De la agrupación anterior se crea un dataframe por número de rating"
   ]
  },
  {
   "cell_type": "code",
   "execution_count": null,
   "metadata": {
    "ExecuteTime": {
     "end_time": "2019-02-07T19:48:06.178186Z",
     "start_time": "2019-02-07T19:48:06.135533Z"
    }
   },
   "outputs": [],
   "source": [
    "ratings['num of ratings'] = pd.DataFrame(df.groupby('title')['rating'].count())\n",
    "ratings.head()"
   ]
  },
  {
   "cell_type": "markdown",
   "metadata": {},
   "source": [
    "### Ahora vienen los histogramas\n",
    "\n",
    "Se genera el histograma del número de rating y del promedio de rating a partir de los dataframe anteriores."
   ]
  },
  {
   "cell_type": "code",
   "execution_count": null,
   "metadata": {
    "ExecuteTime": {
     "end_time": "2019-02-07T19:49:12.048595Z",
     "start_time": "2019-02-07T19:49:11.540968Z"
    }
   },
   "outputs": [],
   "source": [
    "plt.figure(figsize=(18,8))\n",
    "ratings['num of ratings'].hist(bins=70);"
   ]
  },
  {
   "cell_type": "markdown",
   "metadata": {},
   "source": [
    "Se puede ver que la mayoría de las películas han recibido menos de 50 ratings, mientras el número de películas que tienen más de 100 ratings es muy bajo."
   ]
  },
  {
   "cell_type": "code",
   "execution_count": null,
   "metadata": {
    "ExecuteTime": {
     "end_time": "2019-02-07T19:51:02.590311Z",
     "start_time": "2019-02-07T19:51:02.094592Z"
    }
   },
   "outputs": [],
   "source": [
    "plt.figure(figsize=(18,8))\n",
    "ratings['rating'].hist(bins=70);"
   ]
  },
  {
   "cell_type": "markdown",
   "metadata": {},
   "source": [
    "Los datos tienen una debil distribución normal, el promedio est;a alrededor de 3.5"
   ]
  },
  {
   "cell_type": "markdown",
   "metadata": {},
   "source": [
    "### Se genera la gráfica que une los dos histogramas anteriores"
   ]
  },
  {
   "cell_type": "code",
   "execution_count": null,
   "metadata": {
    "ExecuteTime": {
     "end_time": "2019-02-07T19:54:59.910799Z",
     "start_time": "2019-02-07T19:54:59.048850Z"
    }
   },
   "outputs": [],
   "source": [
    "sns.jointplot(x='rating',y='num of ratings',data=ratings,alpha=0.5);\n"
   ]
  },
  {
   "cell_type": "markdown",
   "metadata": {},
   "source": [
    "Las películas con mayor promedio de rating, tienen más número de rating, comparadas con películas que tienen bajo promedio de rating."
   ]
  },
  {
   "cell_type": "markdown",
   "metadata": {},
   "source": [
    "<hr>"
   ]
  },
  {
   "cell_type": "markdown",
   "metadata": {},
   "source": [
    "## Recomendar películas similares \n",
    "\n",
    "Se crea un dataframe con la matriz de títulos de películas con el usuario correspondiente"
   ]
  },
  {
   "cell_type": "code",
   "execution_count": null,
   "metadata": {
    "ExecuteTime": {
     "end_time": "2019-02-07T20:04:40.370456Z",
     "start_time": "2019-02-07T20:04:40.203397Z"
    }
   },
   "outputs": [],
   "source": [
    "moviemat = df.pivot_table(index='user_id',columns='title',values='rating')\n",
    "moviemat.head()"
   ]
  },
  {
   "cell_type": "markdown",
   "metadata": {},
   "source": [
    "### Pelicula más ranqueada "
   ]
  },
  {
   "cell_type": "code",
   "execution_count": null,
   "metadata": {
    "ExecuteTime": {
     "end_time": "2019-02-07T20:06:52.900051Z",
     "start_time": "2019-02-07T20:06:52.874427Z"
    }
   },
   "outputs": [],
   "source": [
    "ratings.sort_values('num of ratings',ascending=False).head(10)"
   ]
  },
  {
   "cell_type": "code",
   "execution_count": null,
   "metadata": {},
   "outputs": [],
   "source": [
    "ratings.sort_values('num of ratings',ascending=False).tail(10)"
   ]
  },
  {
   "cell_type": "markdown",
   "metadata": {},
   "source": [
    "Escogemos 2 películas, star wars y mentiroso mentiroso. "
   ]
  },
  {
   "cell_type": "markdown",
   "metadata": {},
   "source": [
    "Se define el rating de usuarios de las dos películas "
   ]
  },
  {
   "cell_type": "code",
   "execution_count": null,
   "metadata": {
    "ExecuteTime": {
     "end_time": "2019-02-07T20:09:13.319554Z",
     "start_time": "2019-02-07T20:09:13.303448Z"
    }
   },
   "outputs": [],
   "source": [
    "starwars_user_ratings = moviemat['Star Wars (1977)']\n",
    "liarliar_user_ratings = moviemat['Liar Liar (1997)']\n",
    "starwars_user_ratings.head()"
   ]
  },
  {
   "cell_type": "code",
   "execution_count": null,
   "metadata": {},
   "outputs": [],
   "source": [
    "liarliar_user_ratings.head()"
   ]
  },
  {
   "cell_type": "markdown",
   "metadata": {},
   "source": [
    "Se puede usar corrwith() para obtener la correlación de las dos series de pandas "
   ]
  },
  {
   "cell_type": "code",
   "execution_count": null,
   "metadata": {
    "ExecuteTime": {
     "end_time": "2019-02-07T20:10:18.059375Z",
     "start_time": "2019-02-07T20:10:17.042857Z"
    }
   },
   "outputs": [],
   "source": [
    "similar_to_starwars = moviemat.corrwith(starwars_user_ratings)\n",
    "similar_to_liarliar = moviemat.corrwith(liarliar_user_ratings)"
   ]
  },
  {
   "cell_type": "code",
   "execution_count": null,
   "metadata": {},
   "outputs": [],
   "source": [
    "similar_to_starwars.head()"
   ]
  },
  {
   "cell_type": "code",
   "execution_count": null,
   "metadata": {},
   "outputs": [],
   "source": [
    "similar_to_liarliar.head()"
   ]
  },
  {
   "cell_type": "markdown",
   "metadata": {},
   "source": [
    "Se remueve los valores NaN "
   ]
  },
  {
   "cell_type": "code",
   "execution_count": null,
   "metadata": {
    "ExecuteTime": {
     "end_time": "2019-02-07T20:11:00.339696Z",
     "start_time": "2019-02-07T20:11:00.298648Z"
    }
   },
   "outputs": [],
   "source": [
    "corr_starwars = pd.DataFrame(similar_to_starwars,columns=['Correlation'])\n",
    "corr_starwars.dropna(inplace=True)\n",
    "corr_starwars.head()"
   ]
  },
  {
   "cell_type": "markdown",
   "metadata": {},
   "source": [
    "Ahora se ordenan las películas por corrlación, esto debería mostrar las películas similares, \n",
    "sin embargo notará que los resultados no tienen sentido, ya que hay películas que sólo \n",
    "se han visto una vez, y hay usuarios que sólo han visto star wars "
   ]
  },
  {
   "cell_type": "code",
   "execution_count": null,
   "metadata": {
    "ExecuteTime": {
     "end_time": "2019-02-07T20:13:31.676024Z",
     "start_time": "2019-02-07T20:13:31.655659Z"
    }
   },
   "outputs": [],
   "source": [
    "corr_starwars.sort_values('Correlation',ascending=False).head(10)"
   ]
  },
  {
   "cell_type": "markdown",
   "metadata": {},
   "source": [
    "Para arreglar esto, se filtrarán las películas que sólo tengan menos de 100 reviews (revisar, el histograma)"
   ]
  },
  {
   "cell_type": "code",
   "execution_count": null,
   "metadata": {
    "ExecuteTime": {
     "end_time": "2019-02-07T20:14:43.701855Z",
     "start_time": "2019-02-07T20:14:43.645635Z"
    }
   },
   "outputs": [],
   "source": [
    "corr_starwars = corr_starwars.join(ratings['num of ratings'])\n",
    "corr_starwars.head()"
   ]
  },
  {
   "cell_type": "markdown",
   "metadata": {},
   "source": [
    "Al ordenar los títulos, la salida tiene más sentido"
   ]
  },
  {
   "cell_type": "code",
   "execution_count": null,
   "metadata": {
    "ExecuteTime": {
     "end_time": "2019-02-07T20:16:52.427506Z",
     "start_time": "2019-02-07T20:16:52.390085Z"
    }
   },
   "outputs": [],
   "source": [
    "corr_starwars[corr_starwars['num of ratings']>100].sort_values('Correlation',ascending=False).head()"
   ]
  },
  {
   "cell_type": "code",
   "execution_count": null,
   "metadata": {},
   "outputs": [],
   "source": [
    "corr_starwars[corr_starwars['num of ratings']>100].sort_values('Correlation',ascending=False).tail()"
   ]
  },
  {
   "cell_type": "markdown",
   "metadata": {},
   "source": [
    "Ahora lo mismo con la comedia mentiroso, mentiroso"
   ]
  },
  {
   "cell_type": "code",
   "execution_count": null,
   "metadata": {
    "ExecuteTime": {
     "end_time": "2019-02-07T20:17:32.885697Z",
     "start_time": "2019-02-07T20:17:32.849591Z"
    }
   },
   "outputs": [],
   "source": [
    "corr_liarliar = pd.DataFrame(similar_to_liarliar,columns=['Correlation'])\n",
    "corr_liarliar.dropna(inplace=True)\n",
    "corr_liarliar = corr_liarliar.join(ratings['num of ratings'])\n",
    "corr_liarliar[corr_liarliar['num of ratings']>100].sort_values('Correlation',ascending=False).head()"
   ]
  },
  {
   "cell_type": "code",
   "execution_count": null,
   "metadata": {},
   "outputs": [],
   "source": [
    "corr_liarliar[corr_liarliar['num of ratings']>100].sort_values('Correlation',ascending=False).tail()"
   ]
  },
  {
   "cell_type": "markdown",
   "metadata": {},
   "source": [
    "<hr>"
   ]
  },
  {
   "cell_type": "markdown",
   "metadata": {},
   "source": [
    "# Más avanzado:\n",
    "* [Creating a Simple Recommender System in Python using Pandas](https://stackabuse.com/creating-a-simple-recommender-system-in-python-using-pandas/)\n",
    "* [Implementing a recommendation system on Tensorflow](https://medium.com/@felsal/implementing-a-recommendation-system-on-tensorflow-e41b80793165)\n",
    "* [How to build a collaborative filtering model for personalized recommendations using TensorFlow and TensorFlow Transform](https://towardsdatascience.com/how-to-build-a-collaborative-filtering-model-for-personalized-recommendations-using-tensorflow-and-b9a77dc1320)\n",
    "* [TensorRec: A Recommendation Engine Framework in TensorFlow](https://hackernoon.com/tensorrec-a-recommendation-engine-framework-in-tensorflow-d85e4f0874e8)\n",
    "* [Perfume Recommendations using Natural Language Processing](https://towardsdatascience.com/perfume-recommendations-using-natural-language-processing-ad3e6736074c)\n",
    "* [Tutorial de Jupyter](https://towardsdatascience.com/power-ups-for-jupyter-notebooks-ebfa6e5e57a)\n",
    "<hr>"
   ]
  },
  {
   "cell_type": "markdown",
   "metadata": {},
   "source": [
    "# Enlaces de Interés para aprender Python y Ciencia de datos\n",
    "\n",
    "* [https://lectures.quantecon.org/py/](https://lectures.quantecon.org/py/)\n",
    "* [https://data-flair.training/blogs/python-tutorials-home/](https://data-flair.training/blogs/python-tutorials-home/)\n",
    "* [https://data-flair.training/blogs/python-tutorial/](https://data-flair.training/blogs/python-tutorial/)\n",
    "* [https://data-flair.training/blogs/data-science-tutorials-home/#tutorials](https://data-flair.training/blogs/data-science-tutorials-home/#tutorials)\n",
    "\n",
    "<hr>"
   ]
  },
  {
   "cell_type": "markdown",
   "metadata": {},
   "source": [
    "# Preguntas?"
   ]
  }
 ],
 "metadata": {
  "kernelspec": {
   "display_name": "Python 3 (ipykernel)",
   "language": "python",
   "name": "python3"
  },
  "language_info": {
   "codemirror_mode": {
    "name": "ipython",
    "version": 3
   },
   "file_extension": ".py",
   "mimetype": "text/x-python",
   "name": "python",
   "nbconvert_exporter": "python",
   "pygments_lexer": "ipython3",
   "version": "3.8.12"
  },
  "nbTranslate": {
   "displayLangs": [
    "*"
   ],
   "hotkey": "alt-t",
   "langInMainMenu": true,
   "sourceLang": "en",
   "targetLang": "fr",
   "useGoogleTranslate": true
  },
  "toc": {
   "base_numbering": 1,
   "nav_menu": {},
   "number_sections": true,
   "sideBar": true,
   "skip_h1_title": false,
   "title_cell": "Table of Contents",
   "title_sidebar": "Contents",
   "toc_cell": false,
   "toc_position": {},
   "toc_section_display": true,
   "toc_window_display": false
  }
 },
 "nbformat": 4,
 "nbformat_minor": 4
}
