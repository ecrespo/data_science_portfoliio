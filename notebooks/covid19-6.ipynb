{
 "cells": [
  {
   "cell_type": "markdown",
   "metadata": {},
   "source": [
    "https://github.com/CSSEGISandData/COVID-19\n",
    "    \n",
    "https://www.fullstackpython.com/blog/learn-pandas-basic-commands-explore-covid-19-data.html\n",
    "    "
   ]
  },
  {
   "cell_type": "code",
   "execution_count": 1,
   "metadata": {},
   "outputs": [],
   "source": [
    "import pandas as pd\n",
    "import datetime\n",
    "import requests\n",
    "from pathlib import Path\n",
    "import matplotlib.pyplot as plt \n",
    "%matplotlib inline "
   ]
  },
  {
   "cell_type": "markdown",
   "metadata": {},
   "source": [
    "# Ruta de los archivos csv"
   ]
  },
  {
   "cell_type": "code",
   "execution_count": 2,
   "metadata": {},
   "outputs": [],
   "source": [
    "path = \"./COVID-19/csse_covid_19_data/csse_covid_19_daily_reports\""
   ]
  },
  {
   "cell_type": "markdown",
   "metadata": {},
   "source": [
    "# Función de listar archivos"
   ]
  },
  {
   "cell_type": "code",
   "execution_count": 3,
   "metadata": {},
   "outputs": [],
   "source": [
    "def ls3(path):\n",
    "    \"\"\"\n",
    "    Retorna una lista de archivos de una ruta (path) dada.\n",
    "    :param path: Ruta del directorio donde se encuentran los archivos a listar\n",
    "    :return filenames \n",
    "    \"\"\"\n",
    "    return [obj.name for obj in Path(path).iterdir() if obj.is_file()]"
   ]
  },
  {
   "cell_type": "markdown",
   "metadata": {},
   "source": [
    "# Función de obtención de datos"
   ]
  },
  {
   "cell_type": "code",
   "execution_count": 4,
   "metadata": {},
   "outputs": [],
   "source": [
    "def getData(country=\"Venezuela\",date=\"03-13-2020\",path=path,encoding=\"ISO-8859-1\"):\n",
    "    \"\"\"\n",
    "    Obtiene los datos desde una fecha y para un país, de la ruta definida de archivos csv.\n",
    "    :param country: País que se quiere generar el dataframe\n",
    "    :param date: Fecha desde que se va a tomar los datos para el dataframe\n",
    "    :param path: Ruta donde se encuentran los archivos csv\n",
    "    :param encoding: Codificación a la que se encuentran los archivos csv.\n",
    "    :return df: Dataframe con los datos extraídos de los csv desde una fecha dada y para un país.\n",
    "    \"\"\"\n",
    "    # Se obtiene los nombres de los archivos.\n",
    "    lista = [file for file in ls3(path) if file.split(\".\")[-1] == \"csv\"]\n",
    "    # Se lee los archivos csv y se convierten en varios dataframe en un diccionario ordenados por fecha.\n",
    "    df = {item.split(\".\")[0]:pd.read_csv(path+ \"/\" +item,encoding=encoding) for item in lista}\n",
    "    # Se lista las fechas\n",
    "    dates = [item.split(\".\")[0] for item in lista]\n",
    "    # Se renombras las columnas de los dataframes.\n",
    "    for i,date in enumerate(dates):\n",
    "        if \"Country_Region\" in list(df[date].columns) or \"Province_State\" in list(df[date].columns) or \"Last_Update\" in list(df[date].columns):\n",
    "            df[date].rename(columns={\"Country_Region\": 'Country/Region',\"Last_Update\":\"Last Update\",\"Province_State\": \"Province/State\"},inplace=True)\n",
    "    # Se convierten las fechas en datetime y se ordenan\n",
    "    dates2 = sorted([datetime.datetime.strptime(date,\"%m-%d-%Y\") for date in dates])\n",
    "    # Se ordena los dataframes en una lista\n",
    "    data = [df[d.strftime(\"%m-%d-%Y\")][df[d.strftime(\"%m-%d-%Y\")][\"Country/Region\"] == country] for d in dates2 if d >= datetime.datetime.strptime(date,\"%m-%d-%Y\")]\n",
    "    #Se concatena los dataframes en uno sólo y se retorna\n",
    "    data_df = pd.concat(data)\n",
    "    return data_df "
   ]
  },
  {
   "cell_type": "markdown",
   "metadata": {},
   "source": [
    "# Función de agregar columna rate"
   ]
  },
  {
   "cell_type": "code",
   "execution_count": 5,
   "metadata": {},
   "outputs": [],
   "source": [
    "def AddColumnRate(df,column_name):\n",
    "    \"\"\"\n",
    "    Agrega una columna al dataframe, dicha columna es la diferencia entre la próxima row y el row actual\n",
    "    :param df: DataFrame a agregar la columna.\n",
    "    :param column_name: Columna a la que se quiere calcular la diferencia.\n",
    "    :return df: Retorna un dataframe con la columna adicional que tiene la diferencia por día.\n",
    "    \"\"\"\n",
    "    elements = []\n",
    "    # Se recorre el dataframe\n",
    "    for i in range(len(df)):\n",
    "        # Si es la fila inicial se toma su valor\n",
    "        if i == 0: \n",
    "            elements.append(df.iloc[0][column_name]) \n",
    "        else:\n",
    "            # Si no es el inicial se calcula la diferencia de su valor actual con el anterior\n",
    "            elements.append(df.iloc[i][column_name] - df.iloc[i-1][column_name])\n",
    "    # Se agrega la lista al dataframe\n",
    "    df.insert(4,f\"rate_{column_name}\",elements)\n",
    "    return df "
   ]
  },
  {
   "cell_type": "markdown",
   "metadata": {},
   "source": [
    "# Función de procesar datos"
   ]
  },
  {
   "cell_type": "code",
   "execution_count": 6,
   "metadata": {},
   "outputs": [],
   "source": [
    "def DataProcessor(df):\n",
    "    \"\"\"\n",
    "    Se remueve columnas del dataframe, se define el index, se reemplaza los NA y se agrega dos columnas.\n",
    "    :param df: Dataframe a procesar\n",
    "    :return df: DataFrame procesado\n",
    "    \"\"\"\n",
    "    # Se obtiene el nombre de una columna a remover\n",
    "    remove = list(df.columns)[0]\n",
    "    # Se remueve la lista de columnas\n",
    "    df.drop(labels=[\"Province/State\",\"Latitude\",\"Longitude\",\"Admin2\",\"Lat\",\"Long_\",\"Combined_Key\",\"FIPS\",remove],axis=1,inplace=True)\n",
    "    df.drop(labels=[df.columns[-2]],axis=1,inplace=True)\n",
    "    # Se reemplaza NA por 0.\n",
    "    df.fillna(0,inplace=True)\n",
    "    # Se conviernte las fechas que son string a datetime\n",
    "    df['Last Update']= pd.to_datetime(df['Last Update'])\n",
    "    # Se define las fechas como indice\n",
    "    df.set_index(\"Last Update\",inplace=True)\n",
    "    # Se calcula los rate de confirmados y muertes\n",
    "    df = AddColumnRate(df,\"Confirmed\")\n",
    "    df = AddColumnRate(df,\"Deaths\")\n",
    "    return df "
   ]
  },
  {
   "cell_type": "markdown",
   "metadata": {},
   "source": [
    "# Función de crear gráficas"
   ]
  },
  {
   "cell_type": "code",
   "execution_count": 7,
   "metadata": {},
   "outputs": [],
   "source": [
    "def PlotData(df,column,title):\n",
    "    \"\"\"\n",
    "    Gráfica una columna del dataframe\n",
    "    :param df: Dataframe a gráficar\n",
    "    :param column: Columna a graficar\n",
    "    :param title: Título de la gŕafica\n",
    "    \"\"\"\n",
    "    # Se recorre los países de la lista\n",
    "    for i,country in enumerate(countries):\n",
    "        if i == 0:\n",
    "            # Si es el primer país se define el título de la gráfica \n",
    "            df[country][column].plot(label=country,figsize=(16,8),title=title)\n",
    "        else:\n",
    "            df[country][column].plot(label=country,figsize=(16,8))\n",
    "    plt.legend();"
   ]
  },
  {
   "cell_type": "markdown",
   "metadata": {},
   "source": [
    "# Obtención de datos"
   ]
  },
  {
   "cell_type": "code",
   "execution_count": 8,
   "metadata": {},
   "outputs": [],
   "source": [
    "# Paises a analizar\n",
    "countries = [\"Venezuela\",\"Chile\"]"
   ]
  },
  {
   "cell_type": "code",
   "execution_count": 9,
   "metadata": {},
   "outputs": [],
   "source": [
    "# Fecha de extracción de datos\n",
    "date= \"02-20-2020\""
   ]
  },
  {
   "cell_type": "code",
   "execution_count": 10,
   "metadata": {},
   "outputs": [],
   "source": [
    "# Construcción de los dataframes\n",
    "df = {country: getData(country=country,date=date) for country in countries}"
   ]
  },
  {
   "cell_type": "markdown",
   "metadata": {},
   "source": [
    "# Procesar gráficos"
   ]
  },
  {
   "cell_type": "code",
   "execution_count": 11,
   "metadata": {},
   "outputs": [],
   "source": [
    "# Procesar los datos\n",
    "df2 = {country: DataProcessor(df[country]) for country in countries}"
   ]
  },
  {
   "cell_type": "markdown",
   "metadata": {},
   "source": [
    "# DataFrame"
   ]
  },
  {
   "cell_type": "markdown",
   "metadata": {},
   "source": [
    "DataFrame de Venezuela"
   ]
  },
  {
   "cell_type": "code",
   "execution_count": 16,
   "metadata": {},
   "outputs": [
    {
     "data": {
      "text/html": [
       "<div>\n",
       "<style scoped>\n",
       "    .dataframe tbody tr th:only-of-type {\n",
       "        vertical-align: middle;\n",
       "    }\n",
       "\n",
       "    .dataframe tbody tr th {\n",
       "        vertical-align: top;\n",
       "    }\n",
       "\n",
       "    .dataframe thead th {\n",
       "        text-align: right;\n",
       "    }\n",
       "</style>\n",
       "<table border=\"1\" class=\"dataframe\">\n",
       "  <thead>\n",
       "    <tr style=\"text-align: right;\">\n",
       "      <th></th>\n",
       "      <th>Country/Region</th>\n",
       "      <th>Confirmed</th>\n",
       "      <th>Deaths</th>\n",
       "      <th>Recovered</th>\n",
       "      <th>rate_Deaths</th>\n",
       "      <th>rate_Confirmed</th>\n",
       "      <th>Active</th>\n",
       "    </tr>\n",
       "    <tr>\n",
       "      <th>Last Update</th>\n",
       "      <th></th>\n",
       "      <th></th>\n",
       "      <th></th>\n",
       "      <th></th>\n",
       "      <th></th>\n",
       "      <th></th>\n",
       "      <th></th>\n",
       "    </tr>\n",
       "  </thead>\n",
       "  <tbody>\n",
       "    <tr>\n",
       "      <th>2020-03-14 12:53:07</th>\n",
       "      <td>Venezuela</td>\n",
       "      <td>2</td>\n",
       "      <td>0.0</td>\n",
       "      <td>0.0</td>\n",
       "      <td>0.0</td>\n",
       "      <td>2</td>\n",
       "      <td>0.0</td>\n",
       "    </tr>\n",
       "    <tr>\n",
       "      <th>2020-03-15 18:20:18</th>\n",
       "      <td>Venezuela</td>\n",
       "      <td>10</td>\n",
       "      <td>0.0</td>\n",
       "      <td>0.0</td>\n",
       "      <td>0.0</td>\n",
       "      <td>8</td>\n",
       "      <td>0.0</td>\n",
       "    </tr>\n",
       "    <tr>\n",
       "      <th>2020-03-16 00:53:03</th>\n",
       "      <td>Venezuela</td>\n",
       "      <td>17</td>\n",
       "      <td>0.0</td>\n",
       "      <td>0.0</td>\n",
       "      <td>0.0</td>\n",
       "      <td>7</td>\n",
       "      <td>0.0</td>\n",
       "    </tr>\n",
       "    <tr>\n",
       "      <th>2020-03-17 11:33:05</th>\n",
       "      <td>Venezuela</td>\n",
       "      <td>33</td>\n",
       "      <td>0.0</td>\n",
       "      <td>0.0</td>\n",
       "      <td>0.0</td>\n",
       "      <td>16</td>\n",
       "      <td>0.0</td>\n",
       "    </tr>\n",
       "    <tr>\n",
       "      <th>2020-03-18 11:33:04</th>\n",
       "      <td>Venezuela</td>\n",
       "      <td>36</td>\n",
       "      <td>0.0</td>\n",
       "      <td>0.0</td>\n",
       "      <td>0.0</td>\n",
       "      <td>3</td>\n",
       "      <td>0.0</td>\n",
       "    </tr>\n",
       "    <tr>\n",
       "      <th>2020-03-19 20:13:34</th>\n",
       "      <td>Venezuela</td>\n",
       "      <td>42</td>\n",
       "      <td>0.0</td>\n",
       "      <td>0.0</td>\n",
       "      <td>0.0</td>\n",
       "      <td>6</td>\n",
       "      <td>0.0</td>\n",
       "    </tr>\n",
       "    <tr>\n",
       "      <th>2020-03-19 20:13:34</th>\n",
       "      <td>Venezuela</td>\n",
       "      <td>42</td>\n",
       "      <td>0.0</td>\n",
       "      <td>0.0</td>\n",
       "      <td>0.0</td>\n",
       "      <td>0</td>\n",
       "      <td>0.0</td>\n",
       "    </tr>\n",
       "    <tr>\n",
       "      <th>2020-03-21 20:43:03</th>\n",
       "      <td>Venezuela</td>\n",
       "      <td>70</td>\n",
       "      <td>0.0</td>\n",
       "      <td>0.0</td>\n",
       "      <td>0.0</td>\n",
       "      <td>28</td>\n",
       "      <td>0.0</td>\n",
       "    </tr>\n",
       "    <tr>\n",
       "      <th>2020-03-22 23:45:00</th>\n",
       "      <td>Venezuela</td>\n",
       "      <td>70</td>\n",
       "      <td>0.0</td>\n",
       "      <td>15.0</td>\n",
       "      <td>0.0</td>\n",
       "      <td>0</td>\n",
       "      <td>55.0</td>\n",
       "    </tr>\n",
       "    <tr>\n",
       "      <th>2020-03-23 23:19:21</th>\n",
       "      <td>Venezuela</td>\n",
       "      <td>77</td>\n",
       "      <td>0.0</td>\n",
       "      <td>15.0</td>\n",
       "      <td>0.0</td>\n",
       "      <td>7</td>\n",
       "      <td>62.0</td>\n",
       "    </tr>\n",
       "    <tr>\n",
       "      <th>2020-03-24 23:37:15</th>\n",
       "      <td>Venezuela</td>\n",
       "      <td>84</td>\n",
       "      <td>0.0</td>\n",
       "      <td>15.0</td>\n",
       "      <td>0.0</td>\n",
       "      <td>7</td>\n",
       "      <td>69.0</td>\n",
       "    </tr>\n",
       "    <tr>\n",
       "      <th>2020-03-25 23:33:04</th>\n",
       "      <td>Venezuela</td>\n",
       "      <td>91</td>\n",
       "      <td>0.0</td>\n",
       "      <td>15.0</td>\n",
       "      <td>0.0</td>\n",
       "      <td>7</td>\n",
       "      <td>76.0</td>\n",
       "    </tr>\n",
       "    <tr>\n",
       "      <th>2020-03-26 23:48:18</th>\n",
       "      <td>Venezuela</td>\n",
       "      <td>107</td>\n",
       "      <td>0.0</td>\n",
       "      <td>15.0</td>\n",
       "      <td>0.0</td>\n",
       "      <td>16</td>\n",
       "      <td>92.0</td>\n",
       "    </tr>\n",
       "    <tr>\n",
       "      <th>2020-03-27 23:23:03</th>\n",
       "      <td>Venezuela</td>\n",
       "      <td>107</td>\n",
       "      <td>1.0</td>\n",
       "      <td>31.0</td>\n",
       "      <td>1.0</td>\n",
       "      <td>0</td>\n",
       "      <td>75.0</td>\n",
       "    </tr>\n",
       "    <tr>\n",
       "      <th>2020-03-28 23:05:00</th>\n",
       "      <td>Venezuela</td>\n",
       "      <td>119</td>\n",
       "      <td>2.0</td>\n",
       "      <td>39.0</td>\n",
       "      <td>1.0</td>\n",
       "      <td>12</td>\n",
       "      <td>78.0</td>\n",
       "    </tr>\n",
       "    <tr>\n",
       "      <th>2020-03-29 23:08:00</th>\n",
       "      <td>Venezuela</td>\n",
       "      <td>119</td>\n",
       "      <td>2.0</td>\n",
       "      <td>39.0</td>\n",
       "      <td>0.0</td>\n",
       "      <td>0</td>\n",
       "      <td>78.0</td>\n",
       "    </tr>\n",
       "    <tr>\n",
       "      <th>2020-03-30 22:52:00</th>\n",
       "      <td>Venezuela</td>\n",
       "      <td>135</td>\n",
       "      <td>3.0</td>\n",
       "      <td>39.0</td>\n",
       "      <td>1.0</td>\n",
       "      <td>16</td>\n",
       "      <td>93.0</td>\n",
       "    </tr>\n",
       "    <tr>\n",
       "      <th>2020-03-31 23:43:43</th>\n",
       "      <td>Venezuela</td>\n",
       "      <td>135</td>\n",
       "      <td>3.0</td>\n",
       "      <td>39.0</td>\n",
       "      <td>0.0</td>\n",
       "      <td>0</td>\n",
       "      <td>93.0</td>\n",
       "    </tr>\n",
       "    <tr>\n",
       "      <th>2020-04-01 21:58:34</th>\n",
       "      <td>Venezuela</td>\n",
       "      <td>143</td>\n",
       "      <td>3.0</td>\n",
       "      <td>41.0</td>\n",
       "      <td>0.0</td>\n",
       "      <td>8</td>\n",
       "      <td>99.0</td>\n",
       "    </tr>\n",
       "    <tr>\n",
       "      <th>2020-04-02 23:25:00</th>\n",
       "      <td>Venezuela</td>\n",
       "      <td>146</td>\n",
       "      <td>5.0</td>\n",
       "      <td>43.0</td>\n",
       "      <td>2.0</td>\n",
       "      <td>3</td>\n",
       "      <td>98.0</td>\n",
       "    </tr>\n",
       "    <tr>\n",
       "      <th>2020-04-03 22:46:20</th>\n",
       "      <td>Venezuela</td>\n",
       "      <td>153</td>\n",
       "      <td>7.0</td>\n",
       "      <td>52.0</td>\n",
       "      <td>2.0</td>\n",
       "      <td>7</td>\n",
       "      <td>94.0</td>\n",
       "    </tr>\n",
       "    <tr>\n",
       "      <th>2020-04-04 23:34:00</th>\n",
       "      <td>Venezuela</td>\n",
       "      <td>155</td>\n",
       "      <td>7.0</td>\n",
       "      <td>52.0</td>\n",
       "      <td>0.0</td>\n",
       "      <td>2</td>\n",
       "      <td>96.0</td>\n",
       "    </tr>\n",
       "    <tr>\n",
       "      <th>2020-04-05 23:06:26</th>\n",
       "      <td>Venezuela</td>\n",
       "      <td>159</td>\n",
       "      <td>7.0</td>\n",
       "      <td>52.0</td>\n",
       "      <td>0.0</td>\n",
       "      <td>4</td>\n",
       "      <td>100.0</td>\n",
       "    </tr>\n",
       "    <tr>\n",
       "      <th>2020-04-06 23:21:00</th>\n",
       "      <td>Venezuela</td>\n",
       "      <td>165</td>\n",
       "      <td>7.0</td>\n",
       "      <td>65.0</td>\n",
       "      <td>0.0</td>\n",
       "      <td>6</td>\n",
       "      <td>93.0</td>\n",
       "    </tr>\n",
       "    <tr>\n",
       "      <th>2020-04-07 23:04:29</th>\n",
       "      <td>Venezuela</td>\n",
       "      <td>165</td>\n",
       "      <td>7.0</td>\n",
       "      <td>65.0</td>\n",
       "      <td>0.0</td>\n",
       "      <td>0</td>\n",
       "      <td>93.0</td>\n",
       "    </tr>\n",
       "    <tr>\n",
       "      <th>2020-04-08 22:51:39</th>\n",
       "      <td>Venezuela</td>\n",
       "      <td>167</td>\n",
       "      <td>9.0</td>\n",
       "      <td>65.0</td>\n",
       "      <td>2.0</td>\n",
       "      <td>2</td>\n",
       "      <td>93.0</td>\n",
       "    </tr>\n",
       "    <tr>\n",
       "      <th>2020-04-09 23:02:19</th>\n",
       "      <td>Venezuela</td>\n",
       "      <td>171</td>\n",
       "      <td>9.0</td>\n",
       "      <td>84.0</td>\n",
       "      <td>0.0</td>\n",
       "      <td>4</td>\n",
       "      <td>78.0</td>\n",
       "    </tr>\n",
       "    <tr>\n",
       "      <th>2020-04-10 22:53:48</th>\n",
       "      <td>Venezuela</td>\n",
       "      <td>171</td>\n",
       "      <td>9.0</td>\n",
       "      <td>84.0</td>\n",
       "      <td>0.0</td>\n",
       "      <td>0</td>\n",
       "      <td>78.0</td>\n",
       "    </tr>\n",
       "    <tr>\n",
       "      <th>2020-04-11 22:45:13</th>\n",
       "      <td>Venezuela</td>\n",
       "      <td>175</td>\n",
       "      <td>9.0</td>\n",
       "      <td>93.0</td>\n",
       "      <td>0.0</td>\n",
       "      <td>4</td>\n",
       "      <td>73.0</td>\n",
       "    </tr>\n",
       "  </tbody>\n",
       "</table>\n",
       "</div>"
      ],
      "text/plain": [
       "                    Country/Region  Confirmed  Deaths  Recovered  rate_Deaths  \\\n",
       "Last Update                                                                     \n",
       "2020-03-14 12:53:07      Venezuela          2     0.0        0.0          0.0   \n",
       "2020-03-15 18:20:18      Venezuela         10     0.0        0.0          0.0   \n",
       "2020-03-16 00:53:03      Venezuela         17     0.0        0.0          0.0   \n",
       "2020-03-17 11:33:05      Venezuela         33     0.0        0.0          0.0   \n",
       "2020-03-18 11:33:04      Venezuela         36     0.0        0.0          0.0   \n",
       "2020-03-19 20:13:34      Venezuela         42     0.0        0.0          0.0   \n",
       "2020-03-19 20:13:34      Venezuela         42     0.0        0.0          0.0   \n",
       "2020-03-21 20:43:03      Venezuela         70     0.0        0.0          0.0   \n",
       "2020-03-22 23:45:00      Venezuela         70     0.0       15.0          0.0   \n",
       "2020-03-23 23:19:21      Venezuela         77     0.0       15.0          0.0   \n",
       "2020-03-24 23:37:15      Venezuela         84     0.0       15.0          0.0   \n",
       "2020-03-25 23:33:04      Venezuela         91     0.0       15.0          0.0   \n",
       "2020-03-26 23:48:18      Venezuela        107     0.0       15.0          0.0   \n",
       "2020-03-27 23:23:03      Venezuela        107     1.0       31.0          1.0   \n",
       "2020-03-28 23:05:00      Venezuela        119     2.0       39.0          1.0   \n",
       "2020-03-29 23:08:00      Venezuela        119     2.0       39.0          0.0   \n",
       "2020-03-30 22:52:00      Venezuela        135     3.0       39.0          1.0   \n",
       "2020-03-31 23:43:43      Venezuela        135     3.0       39.0          0.0   \n",
       "2020-04-01 21:58:34      Venezuela        143     3.0       41.0          0.0   \n",
       "2020-04-02 23:25:00      Venezuela        146     5.0       43.0          2.0   \n",
       "2020-04-03 22:46:20      Venezuela        153     7.0       52.0          2.0   \n",
       "2020-04-04 23:34:00      Venezuela        155     7.0       52.0          0.0   \n",
       "2020-04-05 23:06:26      Venezuela        159     7.0       52.0          0.0   \n",
       "2020-04-06 23:21:00      Venezuela        165     7.0       65.0          0.0   \n",
       "2020-04-07 23:04:29      Venezuela        165     7.0       65.0          0.0   \n",
       "2020-04-08 22:51:39      Venezuela        167     9.0       65.0          2.0   \n",
       "2020-04-09 23:02:19      Venezuela        171     9.0       84.0          0.0   \n",
       "2020-04-10 22:53:48      Venezuela        171     9.0       84.0          0.0   \n",
       "2020-04-11 22:45:13      Venezuela        175     9.0       93.0          0.0   \n",
       "\n",
       "                     rate_Confirmed  Active  \n",
       "Last Update                                  \n",
       "2020-03-14 12:53:07               2     0.0  \n",
       "2020-03-15 18:20:18               8     0.0  \n",
       "2020-03-16 00:53:03               7     0.0  \n",
       "2020-03-17 11:33:05              16     0.0  \n",
       "2020-03-18 11:33:04               3     0.0  \n",
       "2020-03-19 20:13:34               6     0.0  \n",
       "2020-03-19 20:13:34               0     0.0  \n",
       "2020-03-21 20:43:03              28     0.0  \n",
       "2020-03-22 23:45:00               0    55.0  \n",
       "2020-03-23 23:19:21               7    62.0  \n",
       "2020-03-24 23:37:15               7    69.0  \n",
       "2020-03-25 23:33:04               7    76.0  \n",
       "2020-03-26 23:48:18              16    92.0  \n",
       "2020-03-27 23:23:03               0    75.0  \n",
       "2020-03-28 23:05:00              12    78.0  \n",
       "2020-03-29 23:08:00               0    78.0  \n",
       "2020-03-30 22:52:00              16    93.0  \n",
       "2020-03-31 23:43:43               0    93.0  \n",
       "2020-04-01 21:58:34               8    99.0  \n",
       "2020-04-02 23:25:00               3    98.0  \n",
       "2020-04-03 22:46:20               7    94.0  \n",
       "2020-04-04 23:34:00               2    96.0  \n",
       "2020-04-05 23:06:26               4   100.0  \n",
       "2020-04-06 23:21:00               6    93.0  \n",
       "2020-04-07 23:04:29               0    93.0  \n",
       "2020-04-08 22:51:39               2    93.0  \n",
       "2020-04-09 23:02:19               4    78.0  \n",
       "2020-04-10 22:53:48               0    78.0  \n",
       "2020-04-11 22:45:13               4    73.0  "
      ]
     },
     "execution_count": 16,
     "metadata": {},
     "output_type": "execute_result"
    }
   ],
   "source": [
    "df2[\"Venezuela\"]"
   ]
  },
  {
   "cell_type": "markdown",
   "metadata": {},
   "source": [
    "# Gráficas"
   ]
  },
  {
   "cell_type": "markdown",
   "metadata": {},
   "source": [
    "## Casos Confirmados"
   ]
  },
  {
   "cell_type": "code",
   "execution_count": 12,
   "metadata": {},
   "outputs": [
    {
     "data": {
      "image/png": "[encoded data removed]",
      "text/plain": [
       "<Figure size 1152x576 with 1 Axes>"
      ]
     },
     "metadata": {
      "needs_background": "light"
     },
     "output_type": "display_data"
    }
   ],
   "source": [
    "\n",
    "PlotData(df2,\"Confirmed\",\"Casos Confirmados\")"
   ]
  },
  {
   "cell_type": "markdown",
   "metadata": {},
   "source": [
    "## Tasa de Confirmados"
   ]
  },
  {
   "cell_type": "code",
   "execution_count": 13,
   "metadata": {},
   "outputs": [
    {
     "data": {
      "image/png": "[encoded data removed]",
      "text/plain": [
       "<Figure size 1152x576 with 1 Axes>"
      ]
     },
     "metadata": {
      "needs_background": "light"
     },
     "output_type": "display_data"
    }
   ],
   "source": [
    "PlotData(df2,\"rate_Confirmed\",\"Tasa de confirmados\")"
   ]
  },
  {
   "cell_type": "markdown",
   "metadata": {},
   "source": [
    "## Muertes"
   ]
  },
  {
   "cell_type": "code",
   "execution_count": 14,
   "metadata": {},
   "outputs": [
    {
     "data": {
      "image/png": "[encoded data removed]",
      "text/plain": [
       "<Figure size 1152x576 with 1 Axes>"
      ]
     },
     "metadata": {
      "needs_background": "light"
     },
     "output_type": "display_data"
    }
   ],
   "source": [
    "PlotData(df2,\"Deaths\",\"Muertes\")"
   ]
  },
  {
   "cell_type": "markdown",
   "metadata": {},
   "source": [
    "## Recuperados"
   ]
  },
  {
   "cell_type": "code",
   "execution_count": 15,
   "metadata": {},
   "outputs": [
    {
     "data": {
      "image/png": "[encoded data removed]",
      "text/plain": [
       "<Figure size 1152x576 with 1 Axes>"
      ]
     },
     "metadata": {
      "needs_background": "light"
     },
     "output_type": "display_data"
    }
   ],
   "source": [
    "PlotData(df2,\"Recovered\",\"Recuperados\")"
   ]
  },
  {
   "cell_type": "code",
   "execution_count": null,
   "metadata": {},
   "outputs": [],
   "source": []
  }
 ],
 "metadata": {
  "kernelspec": {
   "display_name": "Python 3 (ipykernel)",
   "language": "python",
   "name": "python3"
  },
  "language_info": {
   "codemirror_mode": {
    "name": "ipython",
    "version": 3
   },
   "file_extension": ".py",
   "mimetype": "text/x-python",
   "name": "python",
   "nbconvert_exporter": "python",
   "pygments_lexer": "ipython3",
   "version": "3.8.12"
  }
 },
 "nbformat": 4,
 "nbformat_minor": 4
}
