{
 "cells": [
  {
   "cell_type": "markdown",
   "id": "2c8907f6-f630-48d0-8bc9-559e09504e6f",
   "metadata": {},
   "source": [
    "# Stanford Open Policy Project Dataset\n",
    "\n",
    "https://openpolicing.stanford.edu/data/\n",
    "\n",
    "\n",
    "Imports libraries:\n",
    "\n",
    "* pandas\n",
    "* matplotlib\n"
   ]
  },
  {
   "cell_type": "code",
   "execution_count": 1,
   "id": "bba8d36e-5c19-4ad5-b5c4-5342b39d20aa",
   "metadata": {},
   "outputs": [],
   "source": [
    "import pandas as pd \n",
    "import matplotlib.pyplot as plt"
   ]
  },
  {
   "cell_type": "markdown",
   "id": "c3f06cf2-0144-404f-aeaf-7f05faf7aae5",
   "metadata": {},
   "source": [
    "### Read data and initial review"
   ]
  },
  {
   "cell_type": "code",
   "execution_count": 2,
   "id": "986160f9-5d59-4ea7-b4ec-9f9754d896ab",
   "metadata": {},
   "outputs": [
    {
     "name": "stderr",
     "output_type": "stream",
     "text": [
      "<ipython-input-2-e4dc09c7e9d3>:1: DtypeWarning: Columns (6,17,30) have mixed types. Specify dtype option on import or set low_memory=False.\n",
      "  df = pd.read_csv(\"./data/ri_statewide_2020_04_01.csv\")\n"
     ]
    }
   ],
   "source": [
    "df = pd.read_csv(\"./data/ri_statewide_2020_04_01.csv\")"
   ]
  },
  {
   "cell_type": "code",
   "execution_count": 3,
   "id": "dfbd2be9-852d-4d09-8845-8395b6dc1a35",
   "metadata": {},
   "outputs": [
    {
     "data": {
      "text/html": [
       "<div>\n",
       "<style scoped>\n",
       "    .dataframe tbody tr th:only-of-type {\n",
       "        vertical-align: middle;\n",
       "    }\n",
       "\n",
       "    .dataframe tbody tr th {\n",
       "        vertical-align: top;\n",
       "    }\n",
       "\n",
       "    .dataframe thead th {\n",
       "        text-align: right;\n",
       "    }\n",
       "</style>\n",
       "<table border=\"1\" class=\"dataframe\">\n",
       "  <thead>\n",
       "    <tr style=\"text-align: right;\">\n",
       "      <th></th>\n",
       "      <th>raw_row_number</th>\n",
       "      <th>date</th>\n",
       "      <th>time</th>\n",
       "      <th>zone</th>\n",
       "      <th>subject_race</th>\n",
       "      <th>subject_sex</th>\n",
       "      <th>department_id</th>\n",
       "      <th>type</th>\n",
       "      <th>arrest_made</th>\n",
       "      <th>citation_issued</th>\n",
       "      <th>...</th>\n",
       "      <th>reason_for_stop</th>\n",
       "      <th>vehicle_make</th>\n",
       "      <th>vehicle_model</th>\n",
       "      <th>raw_BasisForStop</th>\n",
       "      <th>raw_OperatorRace</th>\n",
       "      <th>raw_OperatorSex</th>\n",
       "      <th>raw_ResultOfStop</th>\n",
       "      <th>raw_SearchResultOne</th>\n",
       "      <th>raw_SearchResultTwo</th>\n",
       "      <th>raw_SearchResultThree</th>\n",
       "    </tr>\n",
       "  </thead>\n",
       "  <tbody>\n",
       "    <tr>\n",
       "      <th>0</th>\n",
       "      <td>1</td>\n",
       "      <td>2005-11-22</td>\n",
       "      <td>11:15:00</td>\n",
       "      <td>X3</td>\n",
       "      <td>white</td>\n",
       "      <td>male</td>\n",
       "      <td>200</td>\n",
       "      <td>vehicular</td>\n",
       "      <td>False</td>\n",
       "      <td>True</td>\n",
       "      <td>...</td>\n",
       "      <td>Speeding</td>\n",
       "      <td>NaN</td>\n",
       "      <td>NaN</td>\n",
       "      <td>SP</td>\n",
       "      <td>W</td>\n",
       "      <td>M</td>\n",
       "      <td>M</td>\n",
       "      <td>NaN</td>\n",
       "      <td>NaN</td>\n",
       "      <td>NaN</td>\n",
       "    </tr>\n",
       "    <tr>\n",
       "      <th>1</th>\n",
       "      <td>2</td>\n",
       "      <td>2005-10-01</td>\n",
       "      <td>12:20:00</td>\n",
       "      <td>X3</td>\n",
       "      <td>white</td>\n",
       "      <td>male</td>\n",
       "      <td>200</td>\n",
       "      <td>vehicular</td>\n",
       "      <td>False</td>\n",
       "      <td>True</td>\n",
       "      <td>...</td>\n",
       "      <td>Speeding</td>\n",
       "      <td>NaN</td>\n",
       "      <td>NaN</td>\n",
       "      <td>SP</td>\n",
       "      <td>W</td>\n",
       "      <td>M</td>\n",
       "      <td>M</td>\n",
       "      <td>NaN</td>\n",
       "      <td>NaN</td>\n",
       "      <td>NaN</td>\n",
       "    </tr>\n",
       "    <tr>\n",
       "      <th>2</th>\n",
       "      <td>3</td>\n",
       "      <td>2005-10-01</td>\n",
       "      <td>12:30:00</td>\n",
       "      <td>X3</td>\n",
       "      <td>white</td>\n",
       "      <td>female</td>\n",
       "      <td>200</td>\n",
       "      <td>vehicular</td>\n",
       "      <td>False</td>\n",
       "      <td>True</td>\n",
       "      <td>...</td>\n",
       "      <td>Speeding</td>\n",
       "      <td>NaN</td>\n",
       "      <td>NaN</td>\n",
       "      <td>SP</td>\n",
       "      <td>W</td>\n",
       "      <td>F</td>\n",
       "      <td>M</td>\n",
       "      <td>NaN</td>\n",
       "      <td>NaN</td>\n",
       "      <td>NaN</td>\n",
       "    </tr>\n",
       "  </tbody>\n",
       "</table>\n",
       "<p>3 rows × 31 columns</p>\n",
       "</div>"
      ],
      "text/plain": [
       "   raw_row_number        date      time zone subject_race subject_sex  \\\n",
       "0               1  2005-11-22  11:15:00   X3        white        male   \n",
       "1               2  2005-10-01  12:20:00   X3        white        male   \n",
       "2               3  2005-10-01  12:30:00   X3        white      female   \n",
       "\n",
       "  department_id       type arrest_made citation_issued  ... reason_for_stop  \\\n",
       "0           200  vehicular       False            True  ...        Speeding   \n",
       "1           200  vehicular       False            True  ...        Speeding   \n",
       "2           200  vehicular       False            True  ...        Speeding   \n",
       "\n",
       "  vehicle_make vehicle_model raw_BasisForStop raw_OperatorRace  \\\n",
       "0          NaN           NaN               SP                W   \n",
       "1          NaN           NaN               SP                W   \n",
       "2          NaN           NaN               SP                W   \n",
       "\n",
       "  raw_OperatorSex raw_ResultOfStop raw_SearchResultOne  raw_SearchResultTwo  \\\n",
       "0               M                M                 NaN                  NaN   \n",
       "1               M                M                 NaN                  NaN   \n",
       "2               F                M                 NaN                  NaN   \n",
       "\n",
       "  raw_SearchResultThree  \n",
       "0                   NaN  \n",
       "1                   NaN  \n",
       "2                   NaN  \n",
       "\n",
       "[3 rows x 31 columns]"
      ]
     },
     "execution_count": 3,
     "metadata": {},
     "output_type": "execute_result"
    }
   ],
   "source": [
    "df.head(3)"
   ]
  },
  {
   "cell_type": "code",
   "execution_count": 4,
   "id": "835d0a75-ed6d-4531-a923-41794d7f64c2",
   "metadata": {},
   "outputs": [
    {
     "data": {
      "text/plain": [
       "Index(['raw_row_number', 'date', 'time', 'zone', 'subject_race', 'subject_sex',\n",
       "       'department_id', 'type', 'arrest_made', 'citation_issued',\n",
       "       'warning_issued', 'outcome', 'contraband_found', 'contraband_drugs',\n",
       "       'contraband_weapons', 'contraband_alcohol', 'contraband_other',\n",
       "       'frisk_performed', 'search_conducted', 'search_basis',\n",
       "       'reason_for_search', 'reason_for_stop', 'vehicle_make', 'vehicle_model',\n",
       "       'raw_BasisForStop', 'raw_OperatorRace', 'raw_OperatorSex',\n",
       "       'raw_ResultOfStop', 'raw_SearchResultOne', 'raw_SearchResultTwo',\n",
       "       'raw_SearchResultThree'],\n",
       "      dtype='object')"
      ]
     },
     "execution_count": 4,
     "metadata": {},
     "output_type": "execute_result"
    }
   ],
   "source": [
    "df.columns"
   ]
  },
  {
   "cell_type": "code",
   "execution_count": 5,
   "id": "2cf75cb8-8e94-48ea-974d-a1781e4a957a",
   "metadata": {},
   "outputs": [
    {
     "name": "stdout",
     "output_type": "stream",
     "text": [
      "<class 'pandas.core.frame.DataFrame'>\n",
      "RangeIndex: 509681 entries, 0 to 509680\n",
      "Data columns (total 31 columns):\n",
      " #   Column                 Non-Null Count   Dtype \n",
      "---  ------                 --------------   ----- \n",
      " 0   raw_row_number         509681 non-null  int64 \n",
      " 1   date                   509671 non-null  object\n",
      " 2   time                   509671 non-null  object\n",
      " 3   zone                   509671 non-null  object\n",
      " 4   subject_race           480608 non-null  object\n",
      " 5   subject_sex            480584 non-null  object\n",
      " 6   department_id          509671 non-null  object\n",
      " 7   type                   509681 non-null  object\n",
      " 8   arrest_made            480608 non-null  object\n",
      " 9   citation_issued        480608 non-null  object\n",
      " 10  warning_issued         480608 non-null  object\n",
      " 11  outcome                473840 non-null  object\n",
      " 12  contraband_found       17762 non-null   object\n",
      " 13  contraband_drugs       15988 non-null   object\n",
      " 14  contraband_weapons     11795 non-null   object\n",
      " 15  contraband_alcohol     1217 non-null    object\n",
      " 16  contraband_other       17762 non-null   object\n",
      " 17  frisk_performed        509671 non-null  object\n",
      " 18  search_conducted       509681 non-null  bool  \n",
      " 19  search_basis           17762 non-null   object\n",
      " 20  reason_for_search      17762 non-null   object\n",
      " 21  reason_for_stop        480608 non-null  object\n",
      " 22  vehicle_make           318117 non-null  object\n",
      " 23  vehicle_model          230088 non-null  object\n",
      " 24  raw_BasisForStop       480608 non-null  object\n",
      " 25  raw_OperatorRace       480608 non-null  object\n",
      " 26  raw_OperatorSex        480608 non-null  object\n",
      " 27  raw_ResultOfStop       480608 non-null  object\n",
      " 28  raw_SearchResultOne    17762 non-null   object\n",
      " 29  raw_SearchResultTwo    819 non-null     object\n",
      " 30  raw_SearchResultThree  168 non-null     object\n",
      "dtypes: bool(1), int64(1), object(29)\n",
      "memory usage: 117.1+ MB\n"
     ]
    }
   ],
   "source": [
    "df.info()"
   ]
  },
  {
   "cell_type": "code",
   "execution_count": 6,
   "id": "c256fdc9-aafc-49a3-813a-c4589081c85a",
   "metadata": {},
   "outputs": [
    {
     "data": {
      "text/plain": [
       "(509681, 31)"
      ]
     },
     "execution_count": 6,
     "metadata": {},
     "output_type": "execute_result"
    }
   ],
   "source": [
    "df.shape"
   ]
  },
  {
   "cell_type": "code",
   "execution_count": 7,
   "id": "6463a4e3-a8b3-4acc-b118-06a4c0e07dcf",
   "metadata": {},
   "outputs": [
    {
     "data": {
      "text/html": [
       "<div>\n",
       "<style scoped>\n",
       "    .dataframe tbody tr th:only-of-type {\n",
       "        vertical-align: middle;\n",
       "    }\n",
       "\n",
       "    .dataframe tbody tr th {\n",
       "        vertical-align: top;\n",
       "    }\n",
       "\n",
       "    .dataframe thead th {\n",
       "        text-align: right;\n",
       "    }\n",
       "</style>\n",
       "<table border=\"1\" class=\"dataframe\">\n",
       "  <thead>\n",
       "    <tr style=\"text-align: right;\">\n",
       "      <th></th>\n",
       "      <th>raw_row_number</th>\n",
       "      <th>date</th>\n",
       "      <th>time</th>\n",
       "      <th>zone</th>\n",
       "      <th>subject_race</th>\n",
       "      <th>subject_sex</th>\n",
       "      <th>department_id</th>\n",
       "      <th>type</th>\n",
       "      <th>arrest_made</th>\n",
       "      <th>citation_issued</th>\n",
       "      <th>...</th>\n",
       "      <th>reason_for_stop</th>\n",
       "      <th>vehicle_make</th>\n",
       "      <th>vehicle_model</th>\n",
       "      <th>raw_BasisForStop</th>\n",
       "      <th>raw_OperatorRace</th>\n",
       "      <th>raw_OperatorSex</th>\n",
       "      <th>raw_ResultOfStop</th>\n",
       "      <th>raw_SearchResultOne</th>\n",
       "      <th>raw_SearchResultTwo</th>\n",
       "      <th>raw_SearchResultThree</th>\n",
       "    </tr>\n",
       "  </thead>\n",
       "  <tbody>\n",
       "    <tr>\n",
       "      <th>0</th>\n",
       "      <td>False</td>\n",
       "      <td>False</td>\n",
       "      <td>False</td>\n",
       "      <td>False</td>\n",
       "      <td>False</td>\n",
       "      <td>False</td>\n",
       "      <td>False</td>\n",
       "      <td>False</td>\n",
       "      <td>False</td>\n",
       "      <td>False</td>\n",
       "      <td>...</td>\n",
       "      <td>False</td>\n",
       "      <td>True</td>\n",
       "      <td>True</td>\n",
       "      <td>False</td>\n",
       "      <td>False</td>\n",
       "      <td>False</td>\n",
       "      <td>False</td>\n",
       "      <td>True</td>\n",
       "      <td>True</td>\n",
       "      <td>True</td>\n",
       "    </tr>\n",
       "    <tr>\n",
       "      <th>1</th>\n",
       "      <td>False</td>\n",
       "      <td>False</td>\n",
       "      <td>False</td>\n",
       "      <td>False</td>\n",
       "      <td>False</td>\n",
       "      <td>False</td>\n",
       "      <td>False</td>\n",
       "      <td>False</td>\n",
       "      <td>False</td>\n",
       "      <td>False</td>\n",
       "      <td>...</td>\n",
       "      <td>False</td>\n",
       "      <td>True</td>\n",
       "      <td>True</td>\n",
       "      <td>False</td>\n",
       "      <td>False</td>\n",
       "      <td>False</td>\n",
       "      <td>False</td>\n",
       "      <td>True</td>\n",
       "      <td>True</td>\n",
       "      <td>True</td>\n",
       "    </tr>\n",
       "    <tr>\n",
       "      <th>2</th>\n",
       "      <td>False</td>\n",
       "      <td>False</td>\n",
       "      <td>False</td>\n",
       "      <td>False</td>\n",
       "      <td>False</td>\n",
       "      <td>False</td>\n",
       "      <td>False</td>\n",
       "      <td>False</td>\n",
       "      <td>False</td>\n",
       "      <td>False</td>\n",
       "      <td>...</td>\n",
       "      <td>False</td>\n",
       "      <td>True</td>\n",
       "      <td>True</td>\n",
       "      <td>False</td>\n",
       "      <td>False</td>\n",
       "      <td>False</td>\n",
       "      <td>False</td>\n",
       "      <td>True</td>\n",
       "      <td>True</td>\n",
       "      <td>True</td>\n",
       "    </tr>\n",
       "    <tr>\n",
       "      <th>3</th>\n",
       "      <td>False</td>\n",
       "      <td>False</td>\n",
       "      <td>False</td>\n",
       "      <td>False</td>\n",
       "      <td>False</td>\n",
       "      <td>False</td>\n",
       "      <td>False</td>\n",
       "      <td>False</td>\n",
       "      <td>False</td>\n",
       "      <td>False</td>\n",
       "      <td>...</td>\n",
       "      <td>False</td>\n",
       "      <td>True</td>\n",
       "      <td>True</td>\n",
       "      <td>False</td>\n",
       "      <td>False</td>\n",
       "      <td>False</td>\n",
       "      <td>False</td>\n",
       "      <td>True</td>\n",
       "      <td>True</td>\n",
       "      <td>True</td>\n",
       "    </tr>\n",
       "    <tr>\n",
       "      <th>4</th>\n",
       "      <td>False</td>\n",
       "      <td>False</td>\n",
       "      <td>False</td>\n",
       "      <td>False</td>\n",
       "      <td>False</td>\n",
       "      <td>False</td>\n",
       "      <td>False</td>\n",
       "      <td>False</td>\n",
       "      <td>False</td>\n",
       "      <td>False</td>\n",
       "      <td>...</td>\n",
       "      <td>False</td>\n",
       "      <td>True</td>\n",
       "      <td>True</td>\n",
       "      <td>False</td>\n",
       "      <td>False</td>\n",
       "      <td>False</td>\n",
       "      <td>False</td>\n",
       "      <td>True</td>\n",
       "      <td>True</td>\n",
       "      <td>True</td>\n",
       "    </tr>\n",
       "    <tr>\n",
       "      <th>...</th>\n",
       "      <td>...</td>\n",
       "      <td>...</td>\n",
       "      <td>...</td>\n",
       "      <td>...</td>\n",
       "      <td>...</td>\n",
       "      <td>...</td>\n",
       "      <td>...</td>\n",
       "      <td>...</td>\n",
       "      <td>...</td>\n",
       "      <td>...</td>\n",
       "      <td>...</td>\n",
       "      <td>...</td>\n",
       "      <td>...</td>\n",
       "      <td>...</td>\n",
       "      <td>...</td>\n",
       "      <td>...</td>\n",
       "      <td>...</td>\n",
       "      <td>...</td>\n",
       "      <td>...</td>\n",
       "      <td>...</td>\n",
       "      <td>...</td>\n",
       "    </tr>\n",
       "    <tr>\n",
       "      <th>509676</th>\n",
       "      <td>False</td>\n",
       "      <td>False</td>\n",
       "      <td>False</td>\n",
       "      <td>False</td>\n",
       "      <td>False</td>\n",
       "      <td>False</td>\n",
       "      <td>False</td>\n",
       "      <td>False</td>\n",
       "      <td>False</td>\n",
       "      <td>False</td>\n",
       "      <td>...</td>\n",
       "      <td>False</td>\n",
       "      <td>False</td>\n",
       "      <td>False</td>\n",
       "      <td>False</td>\n",
       "      <td>False</td>\n",
       "      <td>False</td>\n",
       "      <td>False</td>\n",
       "      <td>True</td>\n",
       "      <td>True</td>\n",
       "      <td>True</td>\n",
       "    </tr>\n",
       "    <tr>\n",
       "      <th>509677</th>\n",
       "      <td>False</td>\n",
       "      <td>False</td>\n",
       "      <td>False</td>\n",
       "      <td>False</td>\n",
       "      <td>False</td>\n",
       "      <td>False</td>\n",
       "      <td>False</td>\n",
       "      <td>False</td>\n",
       "      <td>False</td>\n",
       "      <td>False</td>\n",
       "      <td>...</td>\n",
       "      <td>False</td>\n",
       "      <td>True</td>\n",
       "      <td>True</td>\n",
       "      <td>False</td>\n",
       "      <td>False</td>\n",
       "      <td>False</td>\n",
       "      <td>False</td>\n",
       "      <td>True</td>\n",
       "      <td>True</td>\n",
       "      <td>True</td>\n",
       "    </tr>\n",
       "    <tr>\n",
       "      <th>509678</th>\n",
       "      <td>False</td>\n",
       "      <td>False</td>\n",
       "      <td>False</td>\n",
       "      <td>False</td>\n",
       "      <td>False</td>\n",
       "      <td>False</td>\n",
       "      <td>False</td>\n",
       "      <td>False</td>\n",
       "      <td>False</td>\n",
       "      <td>False</td>\n",
       "      <td>...</td>\n",
       "      <td>False</td>\n",
       "      <td>False</td>\n",
       "      <td>False</td>\n",
       "      <td>False</td>\n",
       "      <td>False</td>\n",
       "      <td>False</td>\n",
       "      <td>False</td>\n",
       "      <td>True</td>\n",
       "      <td>True</td>\n",
       "      <td>True</td>\n",
       "    </tr>\n",
       "    <tr>\n",
       "      <th>509679</th>\n",
       "      <td>False</td>\n",
       "      <td>False</td>\n",
       "      <td>False</td>\n",
       "      <td>False</td>\n",
       "      <td>False</td>\n",
       "      <td>False</td>\n",
       "      <td>False</td>\n",
       "      <td>False</td>\n",
       "      <td>False</td>\n",
       "      <td>False</td>\n",
       "      <td>...</td>\n",
       "      <td>False</td>\n",
       "      <td>False</td>\n",
       "      <td>False</td>\n",
       "      <td>False</td>\n",
       "      <td>False</td>\n",
       "      <td>False</td>\n",
       "      <td>False</td>\n",
       "      <td>True</td>\n",
       "      <td>True</td>\n",
       "      <td>True</td>\n",
       "    </tr>\n",
       "    <tr>\n",
       "      <th>509680</th>\n",
       "      <td>False</td>\n",
       "      <td>True</td>\n",
       "      <td>True</td>\n",
       "      <td>True</td>\n",
       "      <td>True</td>\n",
       "      <td>True</td>\n",
       "      <td>True</td>\n",
       "      <td>False</td>\n",
       "      <td>True</td>\n",
       "      <td>True</td>\n",
       "      <td>...</td>\n",
       "      <td>True</td>\n",
       "      <td>True</td>\n",
       "      <td>True</td>\n",
       "      <td>True</td>\n",
       "      <td>True</td>\n",
       "      <td>True</td>\n",
       "      <td>True</td>\n",
       "      <td>True</td>\n",
       "      <td>True</td>\n",
       "      <td>True</td>\n",
       "    </tr>\n",
       "  </tbody>\n",
       "</table>\n",
       "<p>509681 rows × 31 columns</p>\n",
       "</div>"
      ],
      "text/plain": [
       "        raw_row_number   date   time   zone  subject_race  subject_sex  \\\n",
       "0                False  False  False  False         False        False   \n",
       "1                False  False  False  False         False        False   \n",
       "2                False  False  False  False         False        False   \n",
       "3                False  False  False  False         False        False   \n",
       "4                False  False  False  False         False        False   \n",
       "...                ...    ...    ...    ...           ...          ...   \n",
       "509676           False  False  False  False         False        False   \n",
       "509677           False  False  False  False         False        False   \n",
       "509678           False  False  False  False         False        False   \n",
       "509679           False  False  False  False         False        False   \n",
       "509680           False   True   True   True          True         True   \n",
       "\n",
       "        department_id   type  arrest_made  citation_issued  ...  \\\n",
       "0               False  False        False            False  ...   \n",
       "1               False  False        False            False  ...   \n",
       "2               False  False        False            False  ...   \n",
       "3               False  False        False            False  ...   \n",
       "4               False  False        False            False  ...   \n",
       "...               ...    ...          ...              ...  ...   \n",
       "509676          False  False        False            False  ...   \n",
       "509677          False  False        False            False  ...   \n",
       "509678          False  False        False            False  ...   \n",
       "509679          False  False        False            False  ...   \n",
       "509680           True  False         True             True  ...   \n",
       "\n",
       "        reason_for_stop  vehicle_make  vehicle_model  raw_BasisForStop  \\\n",
       "0                 False          True           True             False   \n",
       "1                 False          True           True             False   \n",
       "2                 False          True           True             False   \n",
       "3                 False          True           True             False   \n",
       "4                 False          True           True             False   \n",
       "...                 ...           ...            ...               ...   \n",
       "509676            False         False          False             False   \n",
       "509677            False          True           True             False   \n",
       "509678            False         False          False             False   \n",
       "509679            False         False          False             False   \n",
       "509680             True          True           True              True   \n",
       "\n",
       "        raw_OperatorRace  raw_OperatorSex  raw_ResultOfStop  \\\n",
       "0                  False            False             False   \n",
       "1                  False            False             False   \n",
       "2                  False            False             False   \n",
       "3                  False            False             False   \n",
       "4                  False            False             False   \n",
       "...                  ...              ...               ...   \n",
       "509676             False            False             False   \n",
       "509677             False            False             False   \n",
       "509678             False            False             False   \n",
       "509679             False            False             False   \n",
       "509680              True             True              True   \n",
       "\n",
       "        raw_SearchResultOne  raw_SearchResultTwo  raw_SearchResultThree  \n",
       "0                      True                 True                   True  \n",
       "1                      True                 True                   True  \n",
       "2                      True                 True                   True  \n",
       "3                      True                 True                   True  \n",
       "4                      True                 True                   True  \n",
       "...                     ...                  ...                    ...  \n",
       "509676                 True                 True                   True  \n",
       "509677                 True                 True                   True  \n",
       "509678                 True                 True                   True  \n",
       "509679                 True                 True                   True  \n",
       "509680                 True                 True                   True  \n",
       "\n",
       "[509681 rows x 31 columns]"
      ]
     },
     "execution_count": 7,
     "metadata": {},
     "output_type": "execute_result"
    }
   ],
   "source": [
    "df.isnull()"
   ]
  },
  {
   "cell_type": "code",
   "execution_count": 8,
   "id": "045aa9db-42df-4d5e-81ab-3ad074790239",
   "metadata": {},
   "outputs": [
    {
     "data": {
      "text/plain": [
       "raw_row_number                0\n",
       "date                         10\n",
       "time                         10\n",
       "zone                         10\n",
       "subject_race              29073\n",
       "subject_sex               29097\n",
       "department_id                10\n",
       "type                          0\n",
       "arrest_made               29073\n",
       "citation_issued           29073\n",
       "warning_issued            29073\n",
       "outcome                   35841\n",
       "contraband_found         491919\n",
       "contraband_drugs         493693\n",
       "contraband_weapons       497886\n",
       "contraband_alcohol       508464\n",
       "contraband_other         491919\n",
       "frisk_performed              10\n",
       "search_conducted              0\n",
       "search_basis             491919\n",
       "reason_for_search        491919\n",
       "reason_for_stop           29073\n",
       "vehicle_make             191564\n",
       "vehicle_model            279593\n",
       "raw_BasisForStop          29073\n",
       "raw_OperatorRace          29073\n",
       "raw_OperatorSex           29073\n",
       "raw_ResultOfStop          29073\n",
       "raw_SearchResultOne      491919\n",
       "raw_SearchResultTwo      508862\n",
       "raw_SearchResultThree    509513\n",
       "dtype: int64"
      ]
     },
     "execution_count": 8,
     "metadata": {},
     "output_type": "execute_result"
    }
   ],
   "source": [
    "df.isnull().sum()"
   ]
  },
  {
   "cell_type": "code",
   "execution_count": 9,
   "id": "293c3304-44f6-4f3e-8bd5-0f3d187d6353",
   "metadata": {},
   "outputs": [
    {
     "data": {
      "text/plain": [
       "raw_row_number           False\n",
       "date                      True\n",
       "time                      True\n",
       "zone                      True\n",
       "subject_race              True\n",
       "subject_sex               True\n",
       "department_id             True\n",
       "type                     False\n",
       "arrest_made               True\n",
       "citation_issued           True\n",
       "warning_issued            True\n",
       "outcome                   True\n",
       "contraband_found          True\n",
       "contraband_drugs          True\n",
       "contraband_weapons        True\n",
       "contraband_alcohol        True\n",
       "contraband_other          True\n",
       "frisk_performed           True\n",
       "search_conducted         False\n",
       "search_basis              True\n",
       "reason_for_search         True\n",
       "reason_for_stop           True\n",
       "vehicle_make              True\n",
       "vehicle_model             True\n",
       "raw_BasisForStop          True\n",
       "raw_OperatorRace          True\n",
       "raw_OperatorSex           True\n",
       "raw_ResultOfStop          True\n",
       "raw_SearchResultOne       True\n",
       "raw_SearchResultTwo       True\n",
       "raw_SearchResultThree     True\n",
       "dtype: bool"
      ]
     },
     "execution_count": 9,
     "metadata": {},
     "output_type": "execute_result"
    }
   ],
   "source": [
    "df.isnull().any()"
   ]
  },
  {
   "cell_type": "code",
   "execution_count": 10,
   "id": "caf8d769-124e-4ade-a1ef-9d0d7752a211",
   "metadata": {},
   "outputs": [
    {
     "data": {
      "text/plain": [
       "raw_row_number           False\n",
       "date                      True\n",
       "time                      True\n",
       "zone                      True\n",
       "subject_race              True\n",
       "subject_sex               True\n",
       "department_id             True\n",
       "type                     False\n",
       "arrest_made               True\n",
       "citation_issued           True\n",
       "warning_issued            True\n",
       "outcome                   True\n",
       "contraband_found          True\n",
       "contraband_drugs          True\n",
       "contraband_weapons        True\n",
       "contraband_alcohol        True\n",
       "contraband_other          True\n",
       "frisk_performed           True\n",
       "search_conducted         False\n",
       "search_basis              True\n",
       "reason_for_search         True\n",
       "reason_for_stop           True\n",
       "vehicle_make              True\n",
       "vehicle_model             True\n",
       "raw_BasisForStop          True\n",
       "raw_OperatorRace          True\n",
       "raw_OperatorSex           True\n",
       "raw_ResultOfStop          True\n",
       "raw_SearchResultOne       True\n",
       "raw_SearchResultTwo       True\n",
       "raw_SearchResultThree     True\n",
       "dtype: bool"
      ]
     },
     "execution_count": 10,
     "metadata": {},
     "output_type": "execute_result"
    }
   ],
   "source": [
    "df.isna().any()"
   ]
  },
  {
   "cell_type": "markdown",
   "id": "53f27b8b-ff3e-4cdc-afaa-ed0de7145f2e",
   "metadata": {},
   "source": [
    "There are only three columns are not none"
   ]
  },
  {
   "cell_type": "code",
   "execution_count": 11,
   "id": "9c19c55c-0190-4ab7-939e-7e95d50f78c6",
   "metadata": {},
   "outputs": [
    {
     "data": {
      "text/plain": [
       "(509681, 31)"
      ]
     },
     "execution_count": 11,
     "metadata": {},
     "output_type": "execute_result"
    }
   ],
   "source": [
    "df.shape"
   ]
  },
  {
   "cell_type": "markdown",
   "id": "da4e6b1b-7276-4370-bf3d-7dba266d96b2",
   "metadata": {},
   "source": [
    "## Drop columns with NAN"
   ]
  },
  {
   "cell_type": "code",
   "execution_count": 12,
   "id": "d8f690f9-0667-4f98-9222-13c55b68e629",
   "metadata": {},
   "outputs": [],
   "source": [
    "df.drop('raw_SearchResultThree',axis='columns',inplace=True)\n",
    "df.drop('raw_SearchResultTwo',axis='columns',inplace=True)\n",
    "df.drop('raw_SearchResultOne',axis='columns',inplace=True)\n",
    "df.drop('search_basis',axis='columns',inplace=True)\n",
    "df.drop('reason_for_search',axis='columns',inplace=True)\n",
    "df.drop('contraband_found',axis='columns',inplace=True)\n",
    "df.drop('contraband_drugs',axis='columns',inplace=True)\n",
    "df.drop('contraband_weapons',axis='columns',inplace=True)\n",
    "df.drop('contraband_alcohol',axis='columns',inplace=True)\n",
    "df.drop('contraband_other',axis='columns',inplace=True)\n"
   ]
  },
  {
   "cell_type": "code",
   "execution_count": 13,
   "id": "6be63936-1ac6-47c7-b238-89f821a4122d",
   "metadata": {},
   "outputs": [
    {
     "data": {
      "text/html": [
       "<div>\n",
       "<style scoped>\n",
       "    .dataframe tbody tr th:only-of-type {\n",
       "        vertical-align: middle;\n",
       "    }\n",
       "\n",
       "    .dataframe tbody tr th {\n",
       "        vertical-align: top;\n",
       "    }\n",
       "\n",
       "    .dataframe thead th {\n",
       "        text-align: right;\n",
       "    }\n",
       "</style>\n",
       "<table border=\"1\" class=\"dataframe\">\n",
       "  <thead>\n",
       "    <tr style=\"text-align: right;\">\n",
       "      <th></th>\n",
       "      <th>raw_row_number</th>\n",
       "      <th>date</th>\n",
       "      <th>time</th>\n",
       "      <th>zone</th>\n",
       "      <th>subject_race</th>\n",
       "      <th>subject_sex</th>\n",
       "      <th>department_id</th>\n",
       "      <th>type</th>\n",
       "      <th>arrest_made</th>\n",
       "      <th>citation_issued</th>\n",
       "      <th>...</th>\n",
       "      <th>outcome</th>\n",
       "      <th>frisk_performed</th>\n",
       "      <th>search_conducted</th>\n",
       "      <th>reason_for_stop</th>\n",
       "      <th>vehicle_make</th>\n",
       "      <th>vehicle_model</th>\n",
       "      <th>raw_BasisForStop</th>\n",
       "      <th>raw_OperatorRace</th>\n",
       "      <th>raw_OperatorSex</th>\n",
       "      <th>raw_ResultOfStop</th>\n",
       "    </tr>\n",
       "  </thead>\n",
       "  <tbody>\n",
       "    <tr>\n",
       "      <th>0</th>\n",
       "      <td>1</td>\n",
       "      <td>2005-11-22</td>\n",
       "      <td>11:15:00</td>\n",
       "      <td>X3</td>\n",
       "      <td>white</td>\n",
       "      <td>male</td>\n",
       "      <td>200</td>\n",
       "      <td>vehicular</td>\n",
       "      <td>False</td>\n",
       "      <td>True</td>\n",
       "      <td>...</td>\n",
       "      <td>citation</td>\n",
       "      <td>False</td>\n",
       "      <td>False</td>\n",
       "      <td>Speeding</td>\n",
       "      <td>NaN</td>\n",
       "      <td>NaN</td>\n",
       "      <td>SP</td>\n",
       "      <td>W</td>\n",
       "      <td>M</td>\n",
       "      <td>M</td>\n",
       "    </tr>\n",
       "    <tr>\n",
       "      <th>1</th>\n",
       "      <td>2</td>\n",
       "      <td>2005-10-01</td>\n",
       "      <td>12:20:00</td>\n",
       "      <td>X3</td>\n",
       "      <td>white</td>\n",
       "      <td>male</td>\n",
       "      <td>200</td>\n",
       "      <td>vehicular</td>\n",
       "      <td>False</td>\n",
       "      <td>True</td>\n",
       "      <td>...</td>\n",
       "      <td>citation</td>\n",
       "      <td>False</td>\n",
       "      <td>False</td>\n",
       "      <td>Speeding</td>\n",
       "      <td>NaN</td>\n",
       "      <td>NaN</td>\n",
       "      <td>SP</td>\n",
       "      <td>W</td>\n",
       "      <td>M</td>\n",
       "      <td>M</td>\n",
       "    </tr>\n",
       "    <tr>\n",
       "      <th>2</th>\n",
       "      <td>3</td>\n",
       "      <td>2005-10-01</td>\n",
       "      <td>12:30:00</td>\n",
       "      <td>X3</td>\n",
       "      <td>white</td>\n",
       "      <td>female</td>\n",
       "      <td>200</td>\n",
       "      <td>vehicular</td>\n",
       "      <td>False</td>\n",
       "      <td>True</td>\n",
       "      <td>...</td>\n",
       "      <td>citation</td>\n",
       "      <td>False</td>\n",
       "      <td>False</td>\n",
       "      <td>Speeding</td>\n",
       "      <td>NaN</td>\n",
       "      <td>NaN</td>\n",
       "      <td>SP</td>\n",
       "      <td>W</td>\n",
       "      <td>F</td>\n",
       "      <td>M</td>\n",
       "    </tr>\n",
       "  </tbody>\n",
       "</table>\n",
       "<p>3 rows × 21 columns</p>\n",
       "</div>"
      ],
      "text/plain": [
       "   raw_row_number        date      time zone subject_race subject_sex  \\\n",
       "0               1  2005-11-22  11:15:00   X3        white        male   \n",
       "1               2  2005-10-01  12:20:00   X3        white        male   \n",
       "2               3  2005-10-01  12:30:00   X3        white      female   \n",
       "\n",
       "  department_id       type arrest_made citation_issued  ...   outcome  \\\n",
       "0           200  vehicular       False            True  ...  citation   \n",
       "1           200  vehicular       False            True  ...  citation   \n",
       "2           200  vehicular       False            True  ...  citation   \n",
       "\n",
       "  frisk_performed search_conducted  reason_for_stop vehicle_make  \\\n",
       "0           False            False         Speeding          NaN   \n",
       "1           False            False         Speeding          NaN   \n",
       "2           False            False         Speeding          NaN   \n",
       "\n",
       "  vehicle_model raw_BasisForStop raw_OperatorRace raw_OperatorSex  \\\n",
       "0           NaN               SP                W               M   \n",
       "1           NaN               SP                W               M   \n",
       "2           NaN               SP                W               F   \n",
       "\n",
       "  raw_ResultOfStop  \n",
       "0                M  \n",
       "1                M  \n",
       "2                M  \n",
       "\n",
       "[3 rows x 21 columns]"
      ]
     },
     "execution_count": 13,
     "metadata": {},
     "output_type": "execute_result"
    }
   ],
   "source": [
    "df.head(3)"
   ]
  },
  {
   "cell_type": "code",
   "execution_count": 14,
   "id": "8bd3816a-6de1-425d-9133-c8f0b082e733",
   "metadata": {},
   "outputs": [
    {
     "name": "stdout",
     "output_type": "stream",
     "text": [
      "<class 'pandas.core.frame.DataFrame'>\n",
      "RangeIndex: 509681 entries, 0 to 509680\n",
      "Data columns (total 21 columns):\n",
      " #   Column            Non-Null Count   Dtype \n",
      "---  ------            --------------   ----- \n",
      " 0   raw_row_number    509681 non-null  int64 \n",
      " 1   date              509671 non-null  object\n",
      " 2   time              509671 non-null  object\n",
      " 3   zone              509671 non-null  object\n",
      " 4   subject_race      480608 non-null  object\n",
      " 5   subject_sex       480584 non-null  object\n",
      " 6   department_id     509671 non-null  object\n",
      " 7   type              509681 non-null  object\n",
      " 8   arrest_made       480608 non-null  object\n",
      " 9   citation_issued   480608 non-null  object\n",
      " 10  warning_issued    480608 non-null  object\n",
      " 11  outcome           473840 non-null  object\n",
      " 12  frisk_performed   509671 non-null  object\n",
      " 13  search_conducted  509681 non-null  bool  \n",
      " 14  reason_for_stop   480608 non-null  object\n",
      " 15  vehicle_make      318117 non-null  object\n",
      " 16  vehicle_model     230088 non-null  object\n",
      " 17  raw_BasisForStop  480608 non-null  object\n",
      " 18  raw_OperatorRace  480608 non-null  object\n",
      " 19  raw_OperatorSex   480608 non-null  object\n",
      " 20  raw_ResultOfStop  480608 non-null  object\n",
      "dtypes: bool(1), int64(1), object(19)\n",
      "memory usage: 78.3+ MB\n"
     ]
    }
   ],
   "source": [
    "df.info()"
   ]
  },
  {
   "cell_type": "markdown",
   "id": "255298cb-e385-4c94-9de8-8d497615f95f",
   "metadata": {},
   "source": [
    "## Drop rows with na"
   ]
  },
  {
   "cell_type": "code",
   "execution_count": 15,
   "id": "5938bdd2-1329-4381-8b75-555096726935",
   "metadata": {},
   "outputs": [],
   "source": [
    "df.dropna(subset=['date','time','subject_sex','vehicle_make','vehicle_model','outcome'], inplace=True)"
   ]
  },
  {
   "cell_type": "code",
   "execution_count": 16,
   "id": "6c4e5344-04d6-464f-8295-ebc8e40e19e2",
   "metadata": {},
   "outputs": [
    {
     "data": {
      "text/plain": [
       "raw_row_number      0\n",
       "date                0\n",
       "time                0\n",
       "zone                0\n",
       "subject_race        0\n",
       "subject_sex         0\n",
       "department_id       0\n",
       "type                0\n",
       "arrest_made         0\n",
       "citation_issued     0\n",
       "warning_issued      0\n",
       "outcome             0\n",
       "frisk_performed     0\n",
       "search_conducted    0\n",
       "reason_for_stop     0\n",
       "vehicle_make        0\n",
       "vehicle_model       0\n",
       "raw_BasisForStop    0\n",
       "raw_OperatorRace    0\n",
       "raw_OperatorSex     0\n",
       "raw_ResultOfStop    0\n",
       "dtype: int64"
      ]
     },
     "execution_count": 16,
     "metadata": {},
     "output_type": "execute_result"
    }
   ],
   "source": [
    "df.isnull().sum()"
   ]
  },
  {
   "cell_type": "markdown",
   "id": "1417716c",
   "metadata": {},
   "source": [
    "There are not None fields in columns and rows"
   ]
  },
  {
   "cell_type": "markdown",
   "id": "433bbce8-0388-4646-849b-c6f437e95487",
   "metadata": {},
   "source": [
    "## Examining the data types"
   ]
  },
  {
   "cell_type": "code",
   "execution_count": 17,
   "id": "4bf8d5bd-d4b5-471e-a9cb-e9fa9b06c791",
   "metadata": {},
   "outputs": [
    {
     "data": {
      "text/plain": [
       "raw_row_number       int64\n",
       "date                object\n",
       "time                object\n",
       "zone                object\n",
       "subject_race        object\n",
       "subject_sex         object\n",
       "department_id       object\n",
       "type                object\n",
       "arrest_made         object\n",
       "citation_issued     object\n",
       "warning_issued      object\n",
       "outcome             object\n",
       "frisk_performed     object\n",
       "search_conducted      bool\n",
       "reason_for_stop     object\n",
       "vehicle_make        object\n",
       "vehicle_model       object\n",
       "raw_BasisForStop    object\n",
       "raw_OperatorRace    object\n",
       "raw_OperatorSex     object\n",
       "raw_ResultOfStop    object\n",
       "dtype: object"
      ]
     },
     "execution_count": 17,
     "metadata": {},
     "output_type": "execute_result"
    }
   ],
   "source": [
    "df.dtypes"
   ]
  },
  {
   "cell_type": "code",
   "execution_count": 18,
   "id": "9095edb6-d529-4533-bef0-a55b4cf0a394",
   "metadata": {},
   "outputs": [
    {
     "data": {
      "text/html": [
       "<div>\n",
       "<style scoped>\n",
       "    .dataframe tbody tr th:only-of-type {\n",
       "        vertical-align: middle;\n",
       "    }\n",
       "\n",
       "    .dataframe tbody tr th {\n",
       "        vertical-align: top;\n",
       "    }\n",
       "\n",
       "    .dataframe thead th {\n",
       "        text-align: right;\n",
       "    }\n",
       "</style>\n",
       "<table border=\"1\" class=\"dataframe\">\n",
       "  <thead>\n",
       "    <tr style=\"text-align: right;\">\n",
       "      <th></th>\n",
       "      <th>raw_row_number</th>\n",
       "      <th>date</th>\n",
       "      <th>time</th>\n",
       "      <th>zone</th>\n",
       "      <th>subject_race</th>\n",
       "      <th>subject_sex</th>\n",
       "      <th>department_id</th>\n",
       "      <th>type</th>\n",
       "      <th>arrest_made</th>\n",
       "      <th>citation_issued</th>\n",
       "      <th>...</th>\n",
       "      <th>outcome</th>\n",
       "      <th>frisk_performed</th>\n",
       "      <th>search_conducted</th>\n",
       "      <th>reason_for_stop</th>\n",
       "      <th>vehicle_make</th>\n",
       "      <th>vehicle_model</th>\n",
       "      <th>raw_BasisForStop</th>\n",
       "      <th>raw_OperatorRace</th>\n",
       "      <th>raw_OperatorSex</th>\n",
       "      <th>raw_ResultOfStop</th>\n",
       "    </tr>\n",
       "  </thead>\n",
       "  <tbody>\n",
       "    <tr>\n",
       "      <th>268</th>\n",
       "      <td>269</td>\n",
       "      <td>2005-12-06</td>\n",
       "      <td>19:14:00</td>\n",
       "      <td>K2</td>\n",
       "      <td>white</td>\n",
       "      <td>male</td>\n",
       "      <td>900</td>\n",
       "      <td>vehicular</td>\n",
       "      <td>False</td>\n",
       "      <td>True</td>\n",
       "      <td>...</td>\n",
       "      <td>citation</td>\n",
       "      <td>False</td>\n",
       "      <td>False</td>\n",
       "      <td>Speeding</td>\n",
       "      <td>TOYT</td>\n",
       "      <td>HIGHLA</td>\n",
       "      <td>SP</td>\n",
       "      <td>W</td>\n",
       "      <td>M</td>\n",
       "      <td>M</td>\n",
       "    </tr>\n",
       "    <tr>\n",
       "      <th>282</th>\n",
       "      <td>283</td>\n",
       "      <td>2005-12-02</td>\n",
       "      <td>09:59:00</td>\n",
       "      <td>K2</td>\n",
       "      <td>black</td>\n",
       "      <td>female</td>\n",
       "      <td>900</td>\n",
       "      <td>vehicular</td>\n",
       "      <td>True</td>\n",
       "      <td>False</td>\n",
       "      <td>...</td>\n",
       "      <td>arrest</td>\n",
       "      <td>False</td>\n",
       "      <td>False</td>\n",
       "      <td>Registration Violation</td>\n",
       "      <td>LINC</td>\n",
       "      <td>TOWN CAR</td>\n",
       "      <td>RV</td>\n",
       "      <td>B</td>\n",
       "      <td>F</td>\n",
       "      <td>D</td>\n",
       "    </tr>\n",
       "    <tr>\n",
       "      <th>297</th>\n",
       "      <td>298</td>\n",
       "      <td>2005-12-06</td>\n",
       "      <td>16:29:00</td>\n",
       "      <td>K2</td>\n",
       "      <td>black</td>\n",
       "      <td>male</td>\n",
       "      <td>900</td>\n",
       "      <td>vehicular</td>\n",
       "      <td>False</td>\n",
       "      <td>True</td>\n",
       "      <td>...</td>\n",
       "      <td>citation</td>\n",
       "      <td>True</td>\n",
       "      <td>True</td>\n",
       "      <td>Registration Violation</td>\n",
       "      <td>AUDI</td>\n",
       "      <td>100S</td>\n",
       "      <td>RV</td>\n",
       "      <td>B</td>\n",
       "      <td>M</td>\n",
       "      <td>M</td>\n",
       "    </tr>\n",
       "    <tr>\n",
       "      <th>546</th>\n",
       "      <td>547</td>\n",
       "      <td>2005-12-07</td>\n",
       "      <td>13:20:00</td>\n",
       "      <td>X4</td>\n",
       "      <td>white</td>\n",
       "      <td>female</td>\n",
       "      <td>600</td>\n",
       "      <td>vehicular</td>\n",
       "      <td>False</td>\n",
       "      <td>False</td>\n",
       "      <td>...</td>\n",
       "      <td>warning</td>\n",
       "      <td>False</td>\n",
       "      <td>False</td>\n",
       "      <td>Speeding</td>\n",
       "      <td>HYUN</td>\n",
       "      <td>SANTA FE</td>\n",
       "      <td>SP</td>\n",
       "      <td>W</td>\n",
       "      <td>F</td>\n",
       "      <td>W</td>\n",
       "    </tr>\n",
       "    <tr>\n",
       "      <th>548</th>\n",
       "      <td>549</td>\n",
       "      <td>2005-12-07</td>\n",
       "      <td>14:45:00</td>\n",
       "      <td>X4</td>\n",
       "      <td>white</td>\n",
       "      <td>male</td>\n",
       "      <td>600</td>\n",
       "      <td>vehicular</td>\n",
       "      <td>False</td>\n",
       "      <td>False</td>\n",
       "      <td>...</td>\n",
       "      <td>warning</td>\n",
       "      <td>False</td>\n",
       "      <td>False</td>\n",
       "      <td>Speeding</td>\n",
       "      <td>FORD</td>\n",
       "      <td>EXPEDITION</td>\n",
       "      <td>SP</td>\n",
       "      <td>W</td>\n",
       "      <td>M</td>\n",
       "      <td>W</td>\n",
       "    </tr>\n",
       "  </tbody>\n",
       "</table>\n",
       "<p>5 rows × 21 columns</p>\n",
       "</div>"
      ],
      "text/plain": [
       "     raw_row_number        date      time zone subject_race subject_sex  \\\n",
       "268             269  2005-12-06  19:14:00   K2        white        male   \n",
       "282             283  2005-12-02  09:59:00   K2        black      female   \n",
       "297             298  2005-12-06  16:29:00   K2        black        male   \n",
       "546             547  2005-12-07  13:20:00   X4        white      female   \n",
       "548             549  2005-12-07  14:45:00   X4        white        male   \n",
       "\n",
       "    department_id       type arrest_made citation_issued  ...   outcome  \\\n",
       "268           900  vehicular       False            True  ...  citation   \n",
       "282           900  vehicular        True           False  ...    arrest   \n",
       "297           900  vehicular       False            True  ...  citation   \n",
       "546           600  vehicular       False           False  ...   warning   \n",
       "548           600  vehicular       False           False  ...   warning   \n",
       "\n",
       "    frisk_performed search_conducted         reason_for_stop vehicle_make  \\\n",
       "268           False            False                Speeding         TOYT   \n",
       "282           False            False  Registration Violation         LINC   \n",
       "297            True             True  Registration Violation         AUDI   \n",
       "546           False            False                Speeding         HYUN   \n",
       "548           False            False                Speeding         FORD   \n",
       "\n",
       "    vehicle_model raw_BasisForStop raw_OperatorRace raw_OperatorSex  \\\n",
       "268        HIGHLA               SP                W               M   \n",
       "282      TOWN CAR               RV                B               F   \n",
       "297          100S               RV                B               M   \n",
       "546      SANTA FE               SP                W               F   \n",
       "548    EXPEDITION               SP                W               M   \n",
       "\n",
       "    raw_ResultOfStop  \n",
       "268                M  \n",
       "282                D  \n",
       "297                M  \n",
       "546                W  \n",
       "548                W  \n",
       "\n",
       "[5 rows x 21 columns]"
      ]
     },
     "execution_count": 18,
     "metadata": {},
     "output_type": "execute_result"
    }
   ],
   "source": [
    "df.head()"
   ]
  },
  {
   "cell_type": "markdown",
   "id": "41a8e495-2753-4819-ba1c-1d83b4007fdc",
   "metadata": {},
   "source": [
    "There are four columns must be bool not an object"
   ]
  },
  {
   "cell_type": "code",
   "execution_count": 19,
   "id": "2a7ccf4a-edca-4cc2-bbf7-41371e2f11a9",
   "metadata": {},
   "outputs": [],
   "source": [
    "df[\"arrest_made\"] = df.arrest_made.astype(\"bool\")\n",
    "df[\"citation_issued\"] = df.citation_issued.astype(\"bool\")\n",
    "df[\"frisk_performed\"] = df.frisk_performed.astype(\"bool\")\n",
    "df[\"search_conducted\"] = df.search_conducted.astype(\"bool\")"
   ]
  },
  {
   "cell_type": "code",
   "execution_count": 20,
   "id": "5b0db046-3f55-45c8-a788-1e0d77c88938",
   "metadata": {},
   "outputs": [
    {
     "data": {
      "text/plain": [
       "raw_row_number       int64\n",
       "date                object\n",
       "time                object\n",
       "zone                object\n",
       "subject_race        object\n",
       "subject_sex         object\n",
       "department_id       object\n",
       "type                object\n",
       "arrest_made           bool\n",
       "citation_issued       bool\n",
       "warning_issued      object\n",
       "outcome             object\n",
       "frisk_performed       bool\n",
       "search_conducted      bool\n",
       "reason_for_stop     object\n",
       "vehicle_make        object\n",
       "vehicle_model       object\n",
       "raw_BasisForStop    object\n",
       "raw_OperatorRace    object\n",
       "raw_OperatorSex     object\n",
       "raw_ResultOfStop    object\n",
       "dtype: object"
      ]
     },
     "execution_count": 20,
     "metadata": {},
     "output_type": "execute_result"
    }
   ],
   "source": [
    "df.dtypes"
   ]
  },
  {
   "cell_type": "code",
   "execution_count": 21,
   "id": "c2f1b963-2964-4171-855d-4f816d0e8679",
   "metadata": {},
   "outputs": [
    {
     "data": {
      "text/html": [
       "<div>\n",
       "<style scoped>\n",
       "    .dataframe tbody tr th:only-of-type {\n",
       "        vertical-align: middle;\n",
       "    }\n",
       "\n",
       "    .dataframe tbody tr th {\n",
       "        vertical-align: top;\n",
       "    }\n",
       "\n",
       "    .dataframe thead th {\n",
       "        text-align: right;\n",
       "    }\n",
       "</style>\n",
       "<table border=\"1\" class=\"dataframe\">\n",
       "  <thead>\n",
       "    <tr style=\"text-align: right;\">\n",
       "      <th></th>\n",
       "      <th>raw_row_number</th>\n",
       "      <th>date</th>\n",
       "      <th>time</th>\n",
       "      <th>zone</th>\n",
       "      <th>subject_race</th>\n",
       "      <th>subject_sex</th>\n",
       "      <th>department_id</th>\n",
       "      <th>type</th>\n",
       "      <th>arrest_made</th>\n",
       "      <th>citation_issued</th>\n",
       "      <th>...</th>\n",
       "      <th>outcome</th>\n",
       "      <th>frisk_performed</th>\n",
       "      <th>search_conducted</th>\n",
       "      <th>reason_for_stop</th>\n",
       "      <th>vehicle_make</th>\n",
       "      <th>vehicle_model</th>\n",
       "      <th>raw_BasisForStop</th>\n",
       "      <th>raw_OperatorRace</th>\n",
       "      <th>raw_OperatorSex</th>\n",
       "      <th>raw_ResultOfStop</th>\n",
       "    </tr>\n",
       "  </thead>\n",
       "  <tbody>\n",
       "    <tr>\n",
       "      <th>268</th>\n",
       "      <td>269</td>\n",
       "      <td>2005-12-06</td>\n",
       "      <td>19:14:00</td>\n",
       "      <td>K2</td>\n",
       "      <td>white</td>\n",
       "      <td>male</td>\n",
       "      <td>900</td>\n",
       "      <td>vehicular</td>\n",
       "      <td>False</td>\n",
       "      <td>True</td>\n",
       "      <td>...</td>\n",
       "      <td>citation</td>\n",
       "      <td>False</td>\n",
       "      <td>False</td>\n",
       "      <td>Speeding</td>\n",
       "      <td>TOYT</td>\n",
       "      <td>HIGHLA</td>\n",
       "      <td>SP</td>\n",
       "      <td>W</td>\n",
       "      <td>M</td>\n",
       "      <td>M</td>\n",
       "    </tr>\n",
       "    <tr>\n",
       "      <th>282</th>\n",
       "      <td>283</td>\n",
       "      <td>2005-12-02</td>\n",
       "      <td>09:59:00</td>\n",
       "      <td>K2</td>\n",
       "      <td>black</td>\n",
       "      <td>female</td>\n",
       "      <td>900</td>\n",
       "      <td>vehicular</td>\n",
       "      <td>True</td>\n",
       "      <td>False</td>\n",
       "      <td>...</td>\n",
       "      <td>arrest</td>\n",
       "      <td>False</td>\n",
       "      <td>False</td>\n",
       "      <td>Registration Violation</td>\n",
       "      <td>LINC</td>\n",
       "      <td>TOWN CAR</td>\n",
       "      <td>RV</td>\n",
       "      <td>B</td>\n",
       "      <td>F</td>\n",
       "      <td>D</td>\n",
       "    </tr>\n",
       "    <tr>\n",
       "      <th>297</th>\n",
       "      <td>298</td>\n",
       "      <td>2005-12-06</td>\n",
       "      <td>16:29:00</td>\n",
       "      <td>K2</td>\n",
       "      <td>black</td>\n",
       "      <td>male</td>\n",
       "      <td>900</td>\n",
       "      <td>vehicular</td>\n",
       "      <td>False</td>\n",
       "      <td>True</td>\n",
       "      <td>...</td>\n",
       "      <td>citation</td>\n",
       "      <td>True</td>\n",
       "      <td>True</td>\n",
       "      <td>Registration Violation</td>\n",
       "      <td>AUDI</td>\n",
       "      <td>100S</td>\n",
       "      <td>RV</td>\n",
       "      <td>B</td>\n",
       "      <td>M</td>\n",
       "      <td>M</td>\n",
       "    </tr>\n",
       "    <tr>\n",
       "      <th>546</th>\n",
       "      <td>547</td>\n",
       "      <td>2005-12-07</td>\n",
       "      <td>13:20:00</td>\n",
       "      <td>X4</td>\n",
       "      <td>white</td>\n",
       "      <td>female</td>\n",
       "      <td>600</td>\n",
       "      <td>vehicular</td>\n",
       "      <td>False</td>\n",
       "      <td>False</td>\n",
       "      <td>...</td>\n",
       "      <td>warning</td>\n",
       "      <td>False</td>\n",
       "      <td>False</td>\n",
       "      <td>Speeding</td>\n",
       "      <td>HYUN</td>\n",
       "      <td>SANTA FE</td>\n",
       "      <td>SP</td>\n",
       "      <td>W</td>\n",
       "      <td>F</td>\n",
       "      <td>W</td>\n",
       "    </tr>\n",
       "    <tr>\n",
       "      <th>548</th>\n",
       "      <td>549</td>\n",
       "      <td>2005-12-07</td>\n",
       "      <td>14:45:00</td>\n",
       "      <td>X4</td>\n",
       "      <td>white</td>\n",
       "      <td>male</td>\n",
       "      <td>600</td>\n",
       "      <td>vehicular</td>\n",
       "      <td>False</td>\n",
       "      <td>False</td>\n",
       "      <td>...</td>\n",
       "      <td>warning</td>\n",
       "      <td>False</td>\n",
       "      <td>False</td>\n",
       "      <td>Speeding</td>\n",
       "      <td>FORD</td>\n",
       "      <td>EXPEDITION</td>\n",
       "      <td>SP</td>\n",
       "      <td>W</td>\n",
       "      <td>M</td>\n",
       "      <td>W</td>\n",
       "    </tr>\n",
       "  </tbody>\n",
       "</table>\n",
       "<p>5 rows × 21 columns</p>\n",
       "</div>"
      ],
      "text/plain": [
       "     raw_row_number        date      time zone subject_race subject_sex  \\\n",
       "268             269  2005-12-06  19:14:00   K2        white        male   \n",
       "282             283  2005-12-02  09:59:00   K2        black      female   \n",
       "297             298  2005-12-06  16:29:00   K2        black        male   \n",
       "546             547  2005-12-07  13:20:00   X4        white      female   \n",
       "548             549  2005-12-07  14:45:00   X4        white        male   \n",
       "\n",
       "    department_id       type  arrest_made  citation_issued  ...   outcome  \\\n",
       "268           900  vehicular        False             True  ...  citation   \n",
       "282           900  vehicular         True            False  ...    arrest   \n",
       "297           900  vehicular        False             True  ...  citation   \n",
       "546           600  vehicular        False            False  ...   warning   \n",
       "548           600  vehicular        False            False  ...   warning   \n",
       "\n",
       "    frisk_performed  search_conducted         reason_for_stop vehicle_make  \\\n",
       "268           False             False                Speeding         TOYT   \n",
       "282           False             False  Registration Violation         LINC   \n",
       "297            True              True  Registration Violation         AUDI   \n",
       "546           False             False                Speeding         HYUN   \n",
       "548           False             False                Speeding         FORD   \n",
       "\n",
       "    vehicle_model raw_BasisForStop raw_OperatorRace raw_OperatorSex  \\\n",
       "268        HIGHLA               SP                W               M   \n",
       "282      TOWN CAR               RV                B               F   \n",
       "297          100S               RV                B               M   \n",
       "546      SANTA FE               SP                W               F   \n",
       "548    EXPEDITION               SP                W               M   \n",
       "\n",
       "    raw_ResultOfStop  \n",
       "268                M  \n",
       "282                D  \n",
       "297                M  \n",
       "546                W  \n",
       "548                W  \n",
       "\n",
       "[5 rows x 21 columns]"
      ]
     },
     "execution_count": 21,
     "metadata": {},
     "output_type": "execute_result"
    }
   ],
   "source": [
    "df.head()"
   ]
  },
  {
   "cell_type": "markdown",
   "id": "e33e076b-f576-4cb0-b851-b53018389a96",
   "metadata": {},
   "source": [
    "#### Combine date and time to datetime field"
   ]
  },
  {
   "cell_type": "code",
   "execution_count": 22,
   "id": "fec927be-1638-44d6-bd3b-800b4cf1f525",
   "metadata": {},
   "outputs": [
    {
     "data": {
      "text/plain": [
       "268    2005-12-06\n",
       "Name: date, dtype: object"
      ]
     },
     "execution_count": 22,
     "metadata": {},
     "output_type": "execute_result"
    }
   ],
   "source": [
    "df[\"date\"].head(1)"
   ]
  },
  {
   "cell_type": "code",
   "execution_count": 23,
   "id": "08092d33-fa1c-46cc-aa73-8c3aabcc136c",
   "metadata": {},
   "outputs": [],
   "source": [
    "combined = df.date.str.cat(df.time, sep=' ')"
   ]
  },
  {
   "cell_type": "code",
   "execution_count": 24,
   "id": "e6caeb36-e267-4106-804f-1c9de436e10f",
   "metadata": {},
   "outputs": [
    {
     "data": {
      "text/plain": [
       "268    2005-12-06 19:14:00\n",
       "Name: date, dtype: object"
      ]
     },
     "execution_count": 24,
     "metadata": {},
     "output_type": "execute_result"
    }
   ],
   "source": [
    "combined.head(1)"
   ]
  },
  {
   "cell_type": "code",
   "execution_count": 25,
   "id": "a8d0f853-65c3-4d1b-a0e4-d10212ed3e8e",
   "metadata": {},
   "outputs": [],
   "source": [
    "df[\"datetime\"] = pd.to_datetime(combined)"
   ]
  },
  {
   "cell_type": "code",
   "execution_count": 26,
   "id": "c220f9a8-097a-447f-ab6a-68f72bc3ac88",
   "metadata": {},
   "outputs": [
    {
     "data": {
      "text/html": [
       "<div>\n",
       "<style scoped>\n",
       "    .dataframe tbody tr th:only-of-type {\n",
       "        vertical-align: middle;\n",
       "    }\n",
       "\n",
       "    .dataframe tbody tr th {\n",
       "        vertical-align: top;\n",
       "    }\n",
       "\n",
       "    .dataframe thead th {\n",
       "        text-align: right;\n",
       "    }\n",
       "</style>\n",
       "<table border=\"1\" class=\"dataframe\">\n",
       "  <thead>\n",
       "    <tr style=\"text-align: right;\">\n",
       "      <th></th>\n",
       "      <th>raw_row_number</th>\n",
       "      <th>date</th>\n",
       "      <th>time</th>\n",
       "      <th>zone</th>\n",
       "      <th>subject_race</th>\n",
       "      <th>subject_sex</th>\n",
       "      <th>department_id</th>\n",
       "      <th>type</th>\n",
       "      <th>arrest_made</th>\n",
       "      <th>citation_issued</th>\n",
       "      <th>...</th>\n",
       "      <th>frisk_performed</th>\n",
       "      <th>search_conducted</th>\n",
       "      <th>reason_for_stop</th>\n",
       "      <th>vehicle_make</th>\n",
       "      <th>vehicle_model</th>\n",
       "      <th>raw_BasisForStop</th>\n",
       "      <th>raw_OperatorRace</th>\n",
       "      <th>raw_OperatorSex</th>\n",
       "      <th>raw_ResultOfStop</th>\n",
       "      <th>datetime</th>\n",
       "    </tr>\n",
       "  </thead>\n",
       "  <tbody>\n",
       "    <tr>\n",
       "      <th>268</th>\n",
       "      <td>269</td>\n",
       "      <td>2005-12-06</td>\n",
       "      <td>19:14:00</td>\n",
       "      <td>K2</td>\n",
       "      <td>white</td>\n",
       "      <td>male</td>\n",
       "      <td>900</td>\n",
       "      <td>vehicular</td>\n",
       "      <td>False</td>\n",
       "      <td>True</td>\n",
       "      <td>...</td>\n",
       "      <td>False</td>\n",
       "      <td>False</td>\n",
       "      <td>Speeding</td>\n",
       "      <td>TOYT</td>\n",
       "      <td>HIGHLA</td>\n",
       "      <td>SP</td>\n",
       "      <td>W</td>\n",
       "      <td>M</td>\n",
       "      <td>M</td>\n",
       "      <td>2005-12-06 19:14:00</td>\n",
       "    </tr>\n",
       "    <tr>\n",
       "      <th>282</th>\n",
       "      <td>283</td>\n",
       "      <td>2005-12-02</td>\n",
       "      <td>09:59:00</td>\n",
       "      <td>K2</td>\n",
       "      <td>black</td>\n",
       "      <td>female</td>\n",
       "      <td>900</td>\n",
       "      <td>vehicular</td>\n",
       "      <td>True</td>\n",
       "      <td>False</td>\n",
       "      <td>...</td>\n",
       "      <td>False</td>\n",
       "      <td>False</td>\n",
       "      <td>Registration Violation</td>\n",
       "      <td>LINC</td>\n",
       "      <td>TOWN CAR</td>\n",
       "      <td>RV</td>\n",
       "      <td>B</td>\n",
       "      <td>F</td>\n",
       "      <td>D</td>\n",
       "      <td>2005-12-02 09:59:00</td>\n",
       "    </tr>\n",
       "    <tr>\n",
       "      <th>297</th>\n",
       "      <td>298</td>\n",
       "      <td>2005-12-06</td>\n",
       "      <td>16:29:00</td>\n",
       "      <td>K2</td>\n",
       "      <td>black</td>\n",
       "      <td>male</td>\n",
       "      <td>900</td>\n",
       "      <td>vehicular</td>\n",
       "      <td>False</td>\n",
       "      <td>True</td>\n",
       "      <td>...</td>\n",
       "      <td>True</td>\n",
       "      <td>True</td>\n",
       "      <td>Registration Violation</td>\n",
       "      <td>AUDI</td>\n",
       "      <td>100S</td>\n",
       "      <td>RV</td>\n",
       "      <td>B</td>\n",
       "      <td>M</td>\n",
       "      <td>M</td>\n",
       "      <td>2005-12-06 16:29:00</td>\n",
       "    </tr>\n",
       "    <tr>\n",
       "      <th>546</th>\n",
       "      <td>547</td>\n",
       "      <td>2005-12-07</td>\n",
       "      <td>13:20:00</td>\n",
       "      <td>X4</td>\n",
       "      <td>white</td>\n",
       "      <td>female</td>\n",
       "      <td>600</td>\n",
       "      <td>vehicular</td>\n",
       "      <td>False</td>\n",
       "      <td>False</td>\n",
       "      <td>...</td>\n",
       "      <td>False</td>\n",
       "      <td>False</td>\n",
       "      <td>Speeding</td>\n",
       "      <td>HYUN</td>\n",
       "      <td>SANTA FE</td>\n",
       "      <td>SP</td>\n",
       "      <td>W</td>\n",
       "      <td>F</td>\n",
       "      <td>W</td>\n",
       "      <td>2005-12-07 13:20:00</td>\n",
       "    </tr>\n",
       "    <tr>\n",
       "      <th>548</th>\n",
       "      <td>549</td>\n",
       "      <td>2005-12-07</td>\n",
       "      <td>14:45:00</td>\n",
       "      <td>X4</td>\n",
       "      <td>white</td>\n",
       "      <td>male</td>\n",
       "      <td>600</td>\n",
       "      <td>vehicular</td>\n",
       "      <td>False</td>\n",
       "      <td>False</td>\n",
       "      <td>...</td>\n",
       "      <td>False</td>\n",
       "      <td>False</td>\n",
       "      <td>Speeding</td>\n",
       "      <td>FORD</td>\n",
       "      <td>EXPEDITION</td>\n",
       "      <td>SP</td>\n",
       "      <td>W</td>\n",
       "      <td>M</td>\n",
       "      <td>W</td>\n",
       "      <td>2005-12-07 14:45:00</td>\n",
       "    </tr>\n",
       "  </tbody>\n",
       "</table>\n",
       "<p>5 rows × 22 columns</p>\n",
       "</div>"
      ],
      "text/plain": [
       "     raw_row_number        date      time zone subject_race subject_sex  \\\n",
       "268             269  2005-12-06  19:14:00   K2        white        male   \n",
       "282             283  2005-12-02  09:59:00   K2        black      female   \n",
       "297             298  2005-12-06  16:29:00   K2        black        male   \n",
       "546             547  2005-12-07  13:20:00   X4        white      female   \n",
       "548             549  2005-12-07  14:45:00   X4        white        male   \n",
       "\n",
       "    department_id       type  arrest_made  citation_issued  ...  \\\n",
       "268           900  vehicular        False             True  ...   \n",
       "282           900  vehicular         True            False  ...   \n",
       "297           900  vehicular        False             True  ...   \n",
       "546           600  vehicular        False            False  ...   \n",
       "548           600  vehicular        False            False  ...   \n",
       "\n",
       "    frisk_performed search_conducted         reason_for_stop  vehicle_make  \\\n",
       "268           False            False                Speeding          TOYT   \n",
       "282           False            False  Registration Violation          LINC   \n",
       "297            True             True  Registration Violation          AUDI   \n",
       "546           False            False                Speeding          HYUN   \n",
       "548           False            False                Speeding          FORD   \n",
       "\n",
       "    vehicle_model raw_BasisForStop raw_OperatorRace raw_OperatorSex  \\\n",
       "268        HIGHLA               SP                W               M   \n",
       "282      TOWN CAR               RV                B               F   \n",
       "297          100S               RV                B               M   \n",
       "546      SANTA FE               SP                W               F   \n",
       "548    EXPEDITION               SP                W               M   \n",
       "\n",
       "    raw_ResultOfStop            datetime  \n",
       "268                M 2005-12-06 19:14:00  \n",
       "282                D 2005-12-02 09:59:00  \n",
       "297                M 2005-12-06 16:29:00  \n",
       "546                W 2005-12-07 13:20:00  \n",
       "548                W 2005-12-07 14:45:00  \n",
       "\n",
       "[5 rows x 22 columns]"
      ]
     },
     "execution_count": 26,
     "metadata": {},
     "output_type": "execute_result"
    }
   ],
   "source": [
    "df.head()"
   ]
  },
  {
   "cell_type": "code",
   "execution_count": 27,
   "id": "f6a6950d-7e91-4547-a63e-68497fdd0740",
   "metadata": {},
   "outputs": [
    {
     "data": {
      "text/plain": [
       "raw_row_number               int64\n",
       "date                        object\n",
       "time                        object\n",
       "zone                        object\n",
       "subject_race                object\n",
       "subject_sex                 object\n",
       "department_id               object\n",
       "type                        object\n",
       "arrest_made                   bool\n",
       "citation_issued               bool\n",
       "warning_issued              object\n",
       "outcome                     object\n",
       "frisk_performed               bool\n",
       "search_conducted              bool\n",
       "reason_for_stop             object\n",
       "vehicle_make                object\n",
       "vehicle_model               object\n",
       "raw_BasisForStop            object\n",
       "raw_OperatorRace            object\n",
       "raw_OperatorSex             object\n",
       "raw_ResultOfStop            object\n",
       "datetime            datetime64[ns]\n",
       "dtype: object"
      ]
     },
     "execution_count": 27,
     "metadata": {},
     "output_type": "execute_result"
    }
   ],
   "source": [
    "df.dtypes"
   ]
  },
  {
   "cell_type": "markdown",
   "id": "b740dd64-9a18-434e-8394-ea3dc7c4c0d1",
   "metadata": {},
   "source": [
    "Set index using column datetime"
   ]
  },
  {
   "cell_type": "code",
   "execution_count": 28,
   "id": "b7a6126d-27fc-422b-8811-75112833ed2a",
   "metadata": {},
   "outputs": [
    {
     "data": {
      "text/html": [
       "<div>\n",
       "<style scoped>\n",
       "    .dataframe tbody tr th:only-of-type {\n",
       "        vertical-align: middle;\n",
       "    }\n",
       "\n",
       "    .dataframe tbody tr th {\n",
       "        vertical-align: top;\n",
       "    }\n",
       "\n",
       "    .dataframe thead th {\n",
       "        text-align: right;\n",
       "    }\n",
       "</style>\n",
       "<table border=\"1\" class=\"dataframe\">\n",
       "  <thead>\n",
       "    <tr style=\"text-align: right;\">\n",
       "      <th></th>\n",
       "      <th>raw_row_number</th>\n",
       "      <th>date</th>\n",
       "      <th>time</th>\n",
       "      <th>zone</th>\n",
       "      <th>subject_race</th>\n",
       "      <th>subject_sex</th>\n",
       "      <th>department_id</th>\n",
       "      <th>type</th>\n",
       "      <th>arrest_made</th>\n",
       "      <th>citation_issued</th>\n",
       "      <th>...</th>\n",
       "      <th>outcome</th>\n",
       "      <th>frisk_performed</th>\n",
       "      <th>search_conducted</th>\n",
       "      <th>reason_for_stop</th>\n",
       "      <th>vehicle_make</th>\n",
       "      <th>vehicle_model</th>\n",
       "      <th>raw_BasisForStop</th>\n",
       "      <th>raw_OperatorRace</th>\n",
       "      <th>raw_OperatorSex</th>\n",
       "      <th>raw_ResultOfStop</th>\n",
       "    </tr>\n",
       "    <tr>\n",
       "      <th>datetime</th>\n",
       "      <th></th>\n",
       "      <th></th>\n",
       "      <th></th>\n",
       "      <th></th>\n",
       "      <th></th>\n",
       "      <th></th>\n",
       "      <th></th>\n",
       "      <th></th>\n",
       "      <th></th>\n",
       "      <th></th>\n",
       "      <th></th>\n",
       "      <th></th>\n",
       "      <th></th>\n",
       "      <th></th>\n",
       "      <th></th>\n",
       "      <th></th>\n",
       "      <th></th>\n",
       "      <th></th>\n",
       "      <th></th>\n",
       "      <th></th>\n",
       "      <th></th>\n",
       "    </tr>\n",
       "  </thead>\n",
       "  <tbody>\n",
       "    <tr>\n",
       "      <th>2005-12-06 19:14:00</th>\n",
       "      <td>269</td>\n",
       "      <td>2005-12-06</td>\n",
       "      <td>19:14:00</td>\n",
       "      <td>K2</td>\n",
       "      <td>white</td>\n",
       "      <td>male</td>\n",
       "      <td>900</td>\n",
       "      <td>vehicular</td>\n",
       "      <td>False</td>\n",
       "      <td>True</td>\n",
       "      <td>...</td>\n",
       "      <td>citation</td>\n",
       "      <td>False</td>\n",
       "      <td>False</td>\n",
       "      <td>Speeding</td>\n",
       "      <td>TOYT</td>\n",
       "      <td>HIGHLA</td>\n",
       "      <td>SP</td>\n",
       "      <td>W</td>\n",
       "      <td>M</td>\n",
       "      <td>M</td>\n",
       "    </tr>\n",
       "    <tr>\n",
       "      <th>2005-12-02 09:59:00</th>\n",
       "      <td>283</td>\n",
       "      <td>2005-12-02</td>\n",
       "      <td>09:59:00</td>\n",
       "      <td>K2</td>\n",
       "      <td>black</td>\n",
       "      <td>female</td>\n",
       "      <td>900</td>\n",
       "      <td>vehicular</td>\n",
       "      <td>True</td>\n",
       "      <td>False</td>\n",
       "      <td>...</td>\n",
       "      <td>arrest</td>\n",
       "      <td>False</td>\n",
       "      <td>False</td>\n",
       "      <td>Registration Violation</td>\n",
       "      <td>LINC</td>\n",
       "      <td>TOWN CAR</td>\n",
       "      <td>RV</td>\n",
       "      <td>B</td>\n",
       "      <td>F</td>\n",
       "      <td>D</td>\n",
       "    </tr>\n",
       "    <tr>\n",
       "      <th>2005-12-06 16:29:00</th>\n",
       "      <td>298</td>\n",
       "      <td>2005-12-06</td>\n",
       "      <td>16:29:00</td>\n",
       "      <td>K2</td>\n",
       "      <td>black</td>\n",
       "      <td>male</td>\n",
       "      <td>900</td>\n",
       "      <td>vehicular</td>\n",
       "      <td>False</td>\n",
       "      <td>True</td>\n",
       "      <td>...</td>\n",
       "      <td>citation</td>\n",
       "      <td>True</td>\n",
       "      <td>True</td>\n",
       "      <td>Registration Violation</td>\n",
       "      <td>AUDI</td>\n",
       "      <td>100S</td>\n",
       "      <td>RV</td>\n",
       "      <td>B</td>\n",
       "      <td>M</td>\n",
       "      <td>M</td>\n",
       "    </tr>\n",
       "    <tr>\n",
       "      <th>2005-12-07 13:20:00</th>\n",
       "      <td>547</td>\n",
       "      <td>2005-12-07</td>\n",
       "      <td>13:20:00</td>\n",
       "      <td>X4</td>\n",
       "      <td>white</td>\n",
       "      <td>female</td>\n",
       "      <td>600</td>\n",
       "      <td>vehicular</td>\n",
       "      <td>False</td>\n",
       "      <td>False</td>\n",
       "      <td>...</td>\n",
       "      <td>warning</td>\n",
       "      <td>False</td>\n",
       "      <td>False</td>\n",
       "      <td>Speeding</td>\n",
       "      <td>HYUN</td>\n",
       "      <td>SANTA FE</td>\n",
       "      <td>SP</td>\n",
       "      <td>W</td>\n",
       "      <td>F</td>\n",
       "      <td>W</td>\n",
       "    </tr>\n",
       "    <tr>\n",
       "      <th>2005-12-07 14:45:00</th>\n",
       "      <td>549</td>\n",
       "      <td>2005-12-07</td>\n",
       "      <td>14:45:00</td>\n",
       "      <td>X4</td>\n",
       "      <td>white</td>\n",
       "      <td>male</td>\n",
       "      <td>600</td>\n",
       "      <td>vehicular</td>\n",
       "      <td>False</td>\n",
       "      <td>False</td>\n",
       "      <td>...</td>\n",
       "      <td>warning</td>\n",
       "      <td>False</td>\n",
       "      <td>False</td>\n",
       "      <td>Speeding</td>\n",
       "      <td>FORD</td>\n",
       "      <td>EXPEDITION</td>\n",
       "      <td>SP</td>\n",
       "      <td>W</td>\n",
       "      <td>M</td>\n",
       "      <td>W</td>\n",
       "    </tr>\n",
       "    <tr>\n",
       "      <th>...</th>\n",
       "      <td>...</td>\n",
       "      <td>...</td>\n",
       "      <td>...</td>\n",
       "      <td>...</td>\n",
       "      <td>...</td>\n",
       "      <td>...</td>\n",
       "      <td>...</td>\n",
       "      <td>...</td>\n",
       "      <td>...</td>\n",
       "      <td>...</td>\n",
       "      <td>...</td>\n",
       "      <td>...</td>\n",
       "      <td>...</td>\n",
       "      <td>...</td>\n",
       "      <td>...</td>\n",
       "      <td>...</td>\n",
       "      <td>...</td>\n",
       "      <td>...</td>\n",
       "      <td>...</td>\n",
       "      <td>...</td>\n",
       "      <td>...</td>\n",
       "    </tr>\n",
       "    <tr>\n",
       "      <th>2015-12-28 02:29:00</th>\n",
       "      <td>509673</td>\n",
       "      <td>2015-12-28</td>\n",
       "      <td>02:29:00</td>\n",
       "      <td>K2</td>\n",
       "      <td>white</td>\n",
       "      <td>male</td>\n",
       "      <td>900.0</td>\n",
       "      <td>vehicular</td>\n",
       "      <td>False</td>\n",
       "      <td>True</td>\n",
       "      <td>...</td>\n",
       "      <td>citation</td>\n",
       "      <td>False</td>\n",
       "      <td>False</td>\n",
       "      <td>Speeding</td>\n",
       "      <td>TOYT</td>\n",
       "      <td>COROLL</td>\n",
       "      <td>SP</td>\n",
       "      <td>W</td>\n",
       "      <td>M</td>\n",
       "      <td>M</td>\n",
       "    </tr>\n",
       "    <tr>\n",
       "      <th>2015-12-30 11:42:00</th>\n",
       "      <td>509674</td>\n",
       "      <td>2015-12-30</td>\n",
       "      <td>11:42:00</td>\n",
       "      <td>K2</td>\n",
       "      <td>white</td>\n",
       "      <td>female</td>\n",
       "      <td>900.0</td>\n",
       "      <td>vehicular</td>\n",
       "      <td>False</td>\n",
       "      <td>True</td>\n",
       "      <td>...</td>\n",
       "      <td>citation</td>\n",
       "      <td>False</td>\n",
       "      <td>False</td>\n",
       "      <td>Other Traffic Violation</td>\n",
       "      <td>PONT</td>\n",
       "      <td>BONNEVILLE</td>\n",
       "      <td>OT</td>\n",
       "      <td>W</td>\n",
       "      <td>F</td>\n",
       "      <td>M</td>\n",
       "    </tr>\n",
       "    <tr>\n",
       "      <th>2015-08-04 10:40:00</th>\n",
       "      <td>509677</td>\n",
       "      <td>2015-08-04</td>\n",
       "      <td>10:40:00</td>\n",
       "      <td>X3</td>\n",
       "      <td>white</td>\n",
       "      <td>male</td>\n",
       "      <td>500.0</td>\n",
       "      <td>vehicular</td>\n",
       "      <td>False</td>\n",
       "      <td>True</td>\n",
       "      <td>...</td>\n",
       "      <td>citation</td>\n",
       "      <td>False</td>\n",
       "      <td>False</td>\n",
       "      <td>Equipment/Inspection Violation</td>\n",
       "      <td>JEEP</td>\n",
       "      <td>GRAND CHEROKEE</td>\n",
       "      <td>EQ</td>\n",
       "      <td>W</td>\n",
       "      <td>M</td>\n",
       "      <td>M</td>\n",
       "    </tr>\n",
       "    <tr>\n",
       "      <th>2015-11-09 23:35:00</th>\n",
       "      <td>509679</td>\n",
       "      <td>2015-11-09</td>\n",
       "      <td>23:35:00</td>\n",
       "      <td>X4</td>\n",
       "      <td>white</td>\n",
       "      <td>male</td>\n",
       "      <td>300.0</td>\n",
       "      <td>vehicular</td>\n",
       "      <td>False</td>\n",
       "      <td>False</td>\n",
       "      <td>...</td>\n",
       "      <td>warning</td>\n",
       "      <td>False</td>\n",
       "      <td>False</td>\n",
       "      <td>Equipment/Inspection Violation</td>\n",
       "      <td>FORD</td>\n",
       "      <td>TAURUS</td>\n",
       "      <td>EQ</td>\n",
       "      <td>W</td>\n",
       "      <td>M</td>\n",
       "      <td>W</td>\n",
       "    </tr>\n",
       "    <tr>\n",
       "      <th>2015-10-30 11:09:00</th>\n",
       "      <td>509680</td>\n",
       "      <td>2015-10-30</td>\n",
       "      <td>11:09:00</td>\n",
       "      <td>X4</td>\n",
       "      <td>white</td>\n",
       "      <td>female</td>\n",
       "      <td>500.0</td>\n",
       "      <td>vehicular</td>\n",
       "      <td>False</td>\n",
       "      <td>True</td>\n",
       "      <td>...</td>\n",
       "      <td>citation</td>\n",
       "      <td>False</td>\n",
       "      <td>False</td>\n",
       "      <td>Speeding</td>\n",
       "      <td>VOLK</td>\n",
       "      <td>BUG</td>\n",
       "      <td>SP</td>\n",
       "      <td>W</td>\n",
       "      <td>F</td>\n",
       "      <td>M</td>\n",
       "    </tr>\n",
       "  </tbody>\n",
       "</table>\n",
       "<p>225816 rows × 21 columns</p>\n",
       "</div>"
      ],
      "text/plain": [
       "                     raw_row_number        date      time zone subject_race  \\\n",
       "datetime                                                                      \n",
       "2005-12-06 19:14:00             269  2005-12-06  19:14:00   K2        white   \n",
       "2005-12-02 09:59:00             283  2005-12-02  09:59:00   K2        black   \n",
       "2005-12-06 16:29:00             298  2005-12-06  16:29:00   K2        black   \n",
       "2005-12-07 13:20:00             547  2005-12-07  13:20:00   X4        white   \n",
       "2005-12-07 14:45:00             549  2005-12-07  14:45:00   X4        white   \n",
       "...                             ...         ...       ...  ...          ...   \n",
       "2015-12-28 02:29:00          509673  2015-12-28  02:29:00   K2        white   \n",
       "2015-12-30 11:42:00          509674  2015-12-30  11:42:00   K2        white   \n",
       "2015-08-04 10:40:00          509677  2015-08-04  10:40:00   X3        white   \n",
       "2015-11-09 23:35:00          509679  2015-11-09  23:35:00   X4        white   \n",
       "2015-10-30 11:09:00          509680  2015-10-30  11:09:00   X4        white   \n",
       "\n",
       "                    subject_sex department_id       type  arrest_made  \\\n",
       "datetime                                                                \n",
       "2005-12-06 19:14:00        male           900  vehicular        False   \n",
       "2005-12-02 09:59:00      female           900  vehicular         True   \n",
       "2005-12-06 16:29:00        male           900  vehicular        False   \n",
       "2005-12-07 13:20:00      female           600  vehicular        False   \n",
       "2005-12-07 14:45:00        male           600  vehicular        False   \n",
       "...                         ...           ...        ...          ...   \n",
       "2015-12-28 02:29:00        male         900.0  vehicular        False   \n",
       "2015-12-30 11:42:00      female         900.0  vehicular        False   \n",
       "2015-08-04 10:40:00        male         500.0  vehicular        False   \n",
       "2015-11-09 23:35:00        male         300.0  vehicular        False   \n",
       "2015-10-30 11:09:00      female         500.0  vehicular        False   \n",
       "\n",
       "                     citation_issued  ...   outcome frisk_performed  \\\n",
       "datetime                              ...                             \n",
       "2005-12-06 19:14:00             True  ...  citation           False   \n",
       "2005-12-02 09:59:00            False  ...    arrest           False   \n",
       "2005-12-06 16:29:00             True  ...  citation            True   \n",
       "2005-12-07 13:20:00            False  ...   warning           False   \n",
       "2005-12-07 14:45:00            False  ...   warning           False   \n",
       "...                              ...  ...       ...             ...   \n",
       "2015-12-28 02:29:00             True  ...  citation           False   \n",
       "2015-12-30 11:42:00             True  ...  citation           False   \n",
       "2015-08-04 10:40:00             True  ...  citation           False   \n",
       "2015-11-09 23:35:00            False  ...   warning           False   \n",
       "2015-10-30 11:09:00             True  ...  citation           False   \n",
       "\n",
       "                     search_conducted                 reason_for_stop  \\\n",
       "datetime                                                                \n",
       "2005-12-06 19:14:00             False                        Speeding   \n",
       "2005-12-02 09:59:00             False          Registration Violation   \n",
       "2005-12-06 16:29:00              True          Registration Violation   \n",
       "2005-12-07 13:20:00             False                        Speeding   \n",
       "2005-12-07 14:45:00             False                        Speeding   \n",
       "...                               ...                             ...   \n",
       "2015-12-28 02:29:00             False                        Speeding   \n",
       "2015-12-30 11:42:00             False         Other Traffic Violation   \n",
       "2015-08-04 10:40:00             False  Equipment/Inspection Violation   \n",
       "2015-11-09 23:35:00             False  Equipment/Inspection Violation   \n",
       "2015-10-30 11:09:00             False                        Speeding   \n",
       "\n",
       "                    vehicle_make   vehicle_model raw_BasisForStop  \\\n",
       "datetime                                                            \n",
       "2005-12-06 19:14:00         TOYT          HIGHLA               SP   \n",
       "2005-12-02 09:59:00         LINC        TOWN CAR               RV   \n",
       "2005-12-06 16:29:00         AUDI            100S               RV   \n",
       "2005-12-07 13:20:00         HYUN        SANTA FE               SP   \n",
       "2005-12-07 14:45:00         FORD      EXPEDITION               SP   \n",
       "...                          ...             ...              ...   \n",
       "2015-12-28 02:29:00         TOYT          COROLL               SP   \n",
       "2015-12-30 11:42:00         PONT      BONNEVILLE               OT   \n",
       "2015-08-04 10:40:00         JEEP  GRAND CHEROKEE               EQ   \n",
       "2015-11-09 23:35:00         FORD          TAURUS               EQ   \n",
       "2015-10-30 11:09:00         VOLK             BUG               SP   \n",
       "\n",
       "                    raw_OperatorRace raw_OperatorSex raw_ResultOfStop  \n",
       "datetime                                                               \n",
       "2005-12-06 19:14:00                W               M                M  \n",
       "2005-12-02 09:59:00                B               F                D  \n",
       "2005-12-06 16:29:00                B               M                M  \n",
       "2005-12-07 13:20:00                W               F                W  \n",
       "2005-12-07 14:45:00                W               M                W  \n",
       "...                              ...             ...              ...  \n",
       "2015-12-28 02:29:00                W               M                M  \n",
       "2015-12-30 11:42:00                W               F                M  \n",
       "2015-08-04 10:40:00                W               M                M  \n",
       "2015-11-09 23:35:00                W               M                W  \n",
       "2015-10-30 11:09:00                W               F                M  \n",
       "\n",
       "[225816 rows x 21 columns]"
      ]
     },
     "execution_count": 28,
     "metadata": {},
     "output_type": "execute_result"
    }
   ],
   "source": [
    "df.set_index(\"datetime\",inplace=True)\n",
    "df"
   ]
  },
  {
   "cell_type": "markdown",
   "id": "6325d50b-8f09-42f8-b099-882c6ab1f57e",
   "metadata": {},
   "source": [
    "## Do the genders commit different violations?"
   ]
  },
  {
   "cell_type": "code",
   "execution_count": 29,
   "id": "631c6aef-40f3-45f3-b5d4-e4f212735dc4",
   "metadata": {},
   "outputs": [
    {
     "data": {
      "text/plain": [
       "citation    199305\n",
       "warning      18977\n",
       "arrest        7534\n",
       "Name: outcome, dtype: int64"
      ]
     },
     "execution_count": 29,
     "metadata": {},
     "output_type": "execute_result"
    }
   ],
   "source": [
    "df.outcome.value_counts()"
   ]
  },
  {
   "cell_type": "code",
   "execution_count": 30,
   "id": "5e5f37b5-87dc-405f-9a1a-f6bcf209ca1f",
   "metadata": {},
   "outputs": [
    {
     "data": {
      "text/plain": [
       "225816"
      ]
     },
     "execution_count": 30,
     "metadata": {},
     "output_type": "execute_result"
    }
   ],
   "source": [
    "df.outcome.value_counts().sum()"
   ]
  },
  {
   "cell_type": "code",
   "execution_count": 31,
   "id": "54ae0602-59be-41e9-b0c0-70574704b20f",
   "metadata": {},
   "outputs": [
    {
     "data": {
      "text/plain": [
       "(225816, 21)"
      ]
     },
     "execution_count": 31,
     "metadata": {},
     "output_type": "execute_result"
    }
   ],
   "source": [
    "df.shape"
   ]
  },
  {
   "cell_type": "code",
   "execution_count": 32,
   "id": "5921b12f-d90c-46b2-9ff5-68d8c13798da",
   "metadata": {},
   "outputs": [
    {
     "data": {
      "text/plain": [
       "citation    0.882599\n",
       "warning     0.084037\n",
       "arrest      0.033363\n",
       "Name: outcome, dtype: float64"
      ]
     },
     "execution_count": 32,
     "metadata": {},
     "output_type": "execute_result"
    }
   ],
   "source": [
    "df.outcome.value_counts()/df.outcome.value_counts().sum()"
   ]
  },
  {
   "cell_type": "code",
   "execution_count": 33,
   "id": "a8e42e77-b290-42f0-9df7-7699d19c253c",
   "metadata": {},
   "outputs": [
    {
     "data": {
      "text/plain": [
       "citation    0.882599\n",
       "warning     0.084037\n",
       "arrest      0.033363\n",
       "Name: outcome, dtype: float64"
      ]
     },
     "execution_count": 33,
     "metadata": {},
     "output_type": "execute_result"
    }
   ],
   "source": [
    "df.outcome.value_counts(normalize=True)"
   ]
  },
  {
   "cell_type": "code",
   "execution_count": 34,
   "id": "fc07e6c9-1f9d-439d-8e72-1af61952a76c",
   "metadata": {},
   "outputs": [
    {
     "data": {
      "text/plain": [
       "white                     151632\n",
       "black                      35204\n",
       "hispanic                   31890\n",
       "asian/pacific islander      6501\n",
       "other                        589\n",
       "Name: subject_race, dtype: int64"
      ]
     },
     "execution_count": 34,
     "metadata": {},
     "output_type": "execute_result"
    }
   ],
   "source": [
    "df.subject_race.value_counts()"
   ]
  },
  {
   "cell_type": "code",
   "execution_count": 35,
   "id": "81a7609e-af9c-4b69-9696-d1325da4dfe2",
   "metadata": {},
   "outputs": [
    {
     "data": {
      "text/plain": [
       "(151632, 21)"
      ]
     },
     "execution_count": 35,
     "metadata": {},
     "output_type": "execute_result"
    }
   ],
   "source": [
    "white = df[df.subject_race == 'white']\n",
    "white.shape"
   ]
  },
  {
   "cell_type": "markdown",
   "id": "fb5f293b-7200-45c0-8b56-723b958f35cf",
   "metadata": {},
   "source": [
    "### Comparing stop outcomes for two groups"
   ]
  },
  {
   "cell_type": "code",
   "execution_count": 36,
   "id": "46311735-a5bb-4b0c-afa9-30ab39d6beb4",
   "metadata": {},
   "outputs": [
    {
     "data": {
      "text/plain": [
       "citation    0.892628\n",
       "warning     0.082028\n",
       "arrest      0.025344\n",
       "Name: outcome, dtype: float64"
      ]
     },
     "execution_count": 36,
     "metadata": {},
     "output_type": "execute_result"
    }
   ],
   "source": [
    "white.outcome.value_counts(normalize=True)"
   ]
  },
  {
   "cell_type": "code",
   "execution_count": 37,
   "id": "68a5c224-4d0f-45cd-94b1-d4bf9de18c95",
   "metadata": {},
   "outputs": [
    {
     "data": {
      "text/plain": [
       "citation    0.921858\n",
       "warning     0.059222\n",
       "arrest      0.018920\n",
       "Name: outcome, dtype: float64"
      ]
     },
     "execution_count": 37,
     "metadata": {},
     "output_type": "execute_result"
    }
   ],
   "source": [
    "asian = df[df.subject_race == 'asian/pacific islander']\n",
    "asian.outcome.value_counts(normalize=True)"
   ]
  },
  {
   "cell_type": "markdown",
   "id": "bc335f9a-1dd3-4981-ac2e-e4e3fd0c113c",
   "metadata": {},
   "source": [
    "### Does gender affect who gets a ticket for speeding? "
   ]
  },
  {
   "cell_type": "code",
   "execution_count": 38,
   "id": "9431d89d-303d-446e-aa14-0edcf19b10d0",
   "metadata": {},
   "outputs": [
    {
     "data": {
      "text/plain": [
       "(62129, 21)"
      ]
     },
     "execution_count": 38,
     "metadata": {},
     "output_type": "execute_result"
    }
   ],
   "source": [
    "female = df[df.subject_sex == 'female']\n",
    "female.shape"
   ]
  },
  {
   "cell_type": "code",
   "execution_count": 39,
   "id": "b4733f25-6b50-4f94-8dde-db2e9f823bee",
   "metadata": {},
   "outputs": [],
   "source": [
    "female_and_arrested = df[(df.subject_sex == 'female') & (df.arrest_made == True)]"
   ]
  },
  {
   "cell_type": "code",
   "execution_count": 40,
   "id": "2b9218f5-9e0d-411f-9c2b-bc33f4a147c2",
   "metadata": {},
   "outputs": [
    {
     "data": {
      "text/plain": [
       "arrest    1.0\n",
       "Name: outcome, dtype: float64"
      ]
     },
     "execution_count": 40,
     "metadata": {},
     "output_type": "execute_result"
    }
   ],
   "source": [
    "female_and_arrested.outcome.value_counts(normalize=True)"
   ]
  },
  {
   "cell_type": "code",
   "execution_count": 41,
   "id": "b51b8bd3-da8b-4348-8733-939125394217",
   "metadata": {},
   "outputs": [
    {
     "data": {
      "text/plain": [
       "(1624, 21)"
      ]
     },
     "execution_count": 41,
     "metadata": {},
     "output_type": "execute_result"
    }
   ],
   "source": [
    "female_and_arrested.shape"
   ]
  },
  {
   "cell_type": "code",
   "execution_count": 42,
   "id": "05a7a500-f04c-4714-b55b-e7c7b0b283d9",
   "metadata": {},
   "outputs": [],
   "source": [
    "female_or_arrested = df[(df.subject_sex == 'female') | (df.arrest_made == True)]"
   ]
  },
  {
   "cell_type": "code",
   "execution_count": 43,
   "id": "921115d1-ed2b-4f58-93a9-98a04ff4c2ac",
   "metadata": {},
   "outputs": [
    {
     "data": {
      "text/plain": [
       "(68039, 21)"
      ]
     },
     "execution_count": 43,
     "metadata": {},
     "output_type": "execute_result"
    }
   ],
   "source": [
    "female_or_arrested.shape"
   ]
  },
  {
   "cell_type": "markdown",
   "id": "0062ddcf-9fcd-4dd7-b472-32ee8179b307",
   "metadata": {},
   "source": [
    "### Does gender affect whose vehicle is searched?"
   ]
  },
  {
   "cell_type": "code",
   "execution_count": 44,
   "id": "5625f613-e6e5-4c7c-9a32-591649c26f84",
   "metadata": {},
   "outputs": [
    {
     "data": {
      "text/plain": [
       "False    0.966637\n",
       "True     0.033363\n",
       "Name: arrest_made, dtype: float64"
      ]
     },
     "execution_count": 44,
     "metadata": {},
     "output_type": "execute_result"
    }
   ],
   "source": [
    "df.arrest_made.value_counts(normalize=True)"
   ]
  },
  {
   "cell_type": "code",
   "execution_count": 45,
   "id": "2beb0b26-3086-40e9-8e85-51c36c72cc7d",
   "metadata": {},
   "outputs": [
    {
     "data": {
      "text/plain": [
       "0.033363446345697385"
      ]
     },
     "execution_count": 45,
     "metadata": {},
     "output_type": "execute_result"
    }
   ],
   "source": [
    "df.arrest_made.mean()"
   ]
  },
  {
   "cell_type": "code",
   "execution_count": 46,
   "id": "2378f1f1-70e6-472f-a15f-8e7cde5c356e",
   "metadata": {},
   "outputs": [
    {
     "data": {
      "text/plain": [
       "dtype('bool')"
      ]
     },
     "execution_count": 46,
     "metadata": {},
     "output_type": "execute_result"
    }
   ],
   "source": [
    "df.arrest_made.dtype"
   ]
  },
  {
   "cell_type": "markdown",
   "id": "4dfcf48e-e88c-4368-afb3-01b73dd5150f",
   "metadata": {},
   "source": [
    "### Comparing groups using groupby"
   ]
  },
  {
   "cell_type": "code",
   "execution_count": 47,
   "id": "134c8c85-cf52-4d4c-b0c6-8eb09571b114",
   "metadata": {},
   "outputs": [
    {
     "data": {
      "text/plain": [
       "array(['K2', 'X4', 'K3', 'K1', 'X3', 'X1'], dtype=object)"
      ]
     },
     "execution_count": 47,
     "metadata": {},
     "output_type": "execute_result"
    }
   ],
   "source": [
    "df.zone.unique()"
   ]
  },
  {
   "cell_type": "code",
   "execution_count": 48,
   "id": "a80db126-8bfe-46c5-99cd-34d181c4adba",
   "metadata": {},
   "outputs": [
    {
     "data": {
      "text/plain": [
       "0.032172351885098746"
      ]
     },
     "execution_count": 48,
     "metadata": {},
     "output_type": "execute_result"
    }
   ],
   "source": [
    "df[df.zone == 'K1'].arrest_made.mean()"
   ]
  },
  {
   "cell_type": "code",
   "execution_count": 49,
   "id": "2dac8324-b920-40bd-aad1-cb21f6b80d60",
   "metadata": {},
   "outputs": [
    {
     "data": {
      "text/plain": [
       "0.02805831010373349"
      ]
     },
     "execution_count": 49,
     "metadata": {},
     "output_type": "execute_result"
    }
   ],
   "source": [
    "df[df.zone == 'K2'].arrest_made.mean()"
   ]
  },
  {
   "cell_type": "code",
   "execution_count": 50,
   "id": "6e3cea29-9c6f-48cb-999d-25e0c26ae450",
   "metadata": {},
   "outputs": [
    {
     "data": {
      "text/plain": [
       "zone\n",
       "K1    0.032172\n",
       "K2    0.028058\n",
       "K3    0.027266\n",
       "X1    0.036102\n",
       "X3    0.032150\n",
       "X4    0.042878\n",
       "Name: arrest_made, dtype: float64"
      ]
     },
     "execution_count": 50,
     "metadata": {},
     "output_type": "execute_result"
    }
   ],
   "source": [
    "df.groupby('zone').arrest_made.mean()"
   ]
  },
  {
   "cell_type": "markdown",
   "id": "32c31614-d6b1-4dd3-b91d-812951a424c6",
   "metadata": {},
   "source": [
    "### Grouping by multiple categories"
   ]
  },
  {
   "cell_type": "code",
   "execution_count": 51,
   "id": "12683f09-da54-42af-91fc-b74c23d4268a",
   "metadata": {},
   "outputs": [
    {
     "data": {
      "text/plain": [
       "zone  subject_sex\n",
       "K1    female         0.023194\n",
       "      male           0.035970\n",
       "K2    female         0.020464\n",
       "      male           0.031181\n",
       "K3    female         0.020992\n",
       "      male           0.029590\n",
       "X1    female         0.031395\n",
       "      male           0.037535\n",
       "X3    female         0.027150\n",
       "      male           0.034272\n",
       "X4    female         0.034725\n",
       "      male           0.045569\n",
       "Name: arrest_made, dtype: float64"
      ]
     },
     "execution_count": 51,
     "metadata": {},
     "output_type": "execute_result"
    }
   ],
   "source": [
    "df.groupby(['zone', 'subject_sex']).arrest_made.mean()"
   ]
  },
  {
   "cell_type": "code",
   "execution_count": 52,
   "id": "a6590423-4d6c-4622-8e49-3b033aec13ca",
   "metadata": {},
   "outputs": [
    {
     "data": {
      "text/plain": [
       "subject_sex  zone\n",
       "female       K1      0.023194\n",
       "             K2      0.020464\n",
       "             K3      0.020992\n",
       "             X1      0.031395\n",
       "             X3      0.027150\n",
       "             X4      0.034725\n",
       "male         K1      0.035970\n",
       "             K2      0.031181\n",
       "             K3      0.029590\n",
       "             X1      0.037535\n",
       "             X3      0.034272\n",
       "             X4      0.045569\n",
       "Name: arrest_made, dtype: float64"
      ]
     },
     "execution_count": 52,
     "metadata": {},
     "output_type": "execute_result"
    }
   ],
   "source": [
    "df.groupby(['subject_sex','zone']).arrest_made.mean()"
   ]
  },
  {
   "cell_type": "markdown",
   "id": "0a568f8b-1a18-4762-a18d-923d002e9f11",
   "metadata": {},
   "source": [
    "## Does gender affect who is frisked during a search?"
   ]
  },
  {
   "cell_type": "code",
   "execution_count": 53,
   "id": "b4375425-78ad-4f5f-a843-59e4510d5299",
   "metadata": {},
   "outputs": [
    {
     "data": {
      "text/plain": [
       "False    216865\n",
       "True       8951\n",
       "Name: search_conducted, dtype: int64"
      ]
     },
     "execution_count": 53,
     "metadata": {},
     "output_type": "execute_result"
    }
   ],
   "source": [
    "df.search_conducted.value_counts()"
   ]
  },
  {
   "cell_type": "code",
   "execution_count": 54,
   "id": "50c65abd-d6d7-41d8-8cd6-81adf586c91b",
   "metadata": {},
   "outputs": [
    {
     "data": {
      "text/plain": [
       "Speeding                            117165\n",
       "Other Traffic Violation              41947\n",
       "Equipment/Inspection Violation       34476\n",
       "Seatbelt Violation                   12242\n",
       "Registration Violation               11383\n",
       "Special Detail/Directed Patrol        4423\n",
       "Call for Service                      3371\n",
       "Violation of City/Town Ordinance       298\n",
       "APB                                    209\n",
       "Motorist Assist/Courtesy               146\n",
       "Suspicious Person                      106\n",
       "Warrant                                 50\n",
       "Name: reason_for_stop, dtype: int64"
      ]
     },
     "execution_count": 54,
     "metadata": {},
     "output_type": "execute_result"
    }
   ],
   "source": [
    "df.reason_for_stop.value_counts()"
   ]
  },
  {
   "cell_type": "code",
   "execution_count": 55,
   "id": "9e4d8f64-390a-4dad-ad75-4b5e2798f299",
   "metadata": {},
   "outputs": [
    {
     "data": {
      "text/plain": [
       "Speeding                            117165\n",
       "Other Traffic Violation              41947\n",
       "Equipment/Inspection Violation       34476\n",
       "Seatbelt Violation                   12242\n",
       "Registration Violation               11383\n",
       "Special Detail/Directed Patrol        4423\n",
       "Call for Service                      3371\n",
       "Violation of City/Town Ordinance       298\n",
       "APB                                    209\n",
       "Motorist Assist/Courtesy               146\n",
       "Suspicious Person                      106\n",
       "Warrant                                 50\n",
       "Name: reason_for_stop, dtype: int64"
      ]
     },
     "execution_count": 55,
     "metadata": {},
     "output_type": "execute_result"
    }
   ],
   "source": [
    "df.reason_for_stop.value_counts(dropna=False)"
   ]
  },
  {
   "cell_type": "code",
   "execution_count": 56,
   "id": "d98f0b63-31dc-4e4d-a738-4be19127420b",
   "metadata": {},
   "outputs": [],
   "source": [
    "df[\"Violation\"] = df.reason_for_stop.str.contains('Violation of City/Town Ordinance',na=False)"
   ]
  },
  {
   "cell_type": "code",
   "execution_count": 57,
   "id": "6da6dc59-4321-45f8-b46c-9dd3b72d66b9",
   "metadata": {},
   "outputs": [
    {
     "data": {
      "text/html": [
       "<div>\n",
       "<style scoped>\n",
       "    .dataframe tbody tr th:only-of-type {\n",
       "        vertical-align: middle;\n",
       "    }\n",
       "\n",
       "    .dataframe tbody tr th {\n",
       "        vertical-align: top;\n",
       "    }\n",
       "\n",
       "    .dataframe thead th {\n",
       "        text-align: right;\n",
       "    }\n",
       "</style>\n",
       "<table border=\"1\" class=\"dataframe\">\n",
       "  <thead>\n",
       "    <tr style=\"text-align: right;\">\n",
       "      <th></th>\n",
       "      <th>raw_row_number</th>\n",
       "      <th>date</th>\n",
       "      <th>time</th>\n",
       "      <th>zone</th>\n",
       "      <th>subject_race</th>\n",
       "      <th>subject_sex</th>\n",
       "      <th>department_id</th>\n",
       "      <th>type</th>\n",
       "      <th>arrest_made</th>\n",
       "      <th>citation_issued</th>\n",
       "      <th>...</th>\n",
       "      <th>frisk_performed</th>\n",
       "      <th>search_conducted</th>\n",
       "      <th>reason_for_stop</th>\n",
       "      <th>vehicle_make</th>\n",
       "      <th>vehicle_model</th>\n",
       "      <th>raw_BasisForStop</th>\n",
       "      <th>raw_OperatorRace</th>\n",
       "      <th>raw_OperatorSex</th>\n",
       "      <th>raw_ResultOfStop</th>\n",
       "      <th>Violation</th>\n",
       "    </tr>\n",
       "    <tr>\n",
       "      <th>datetime</th>\n",
       "      <th></th>\n",
       "      <th></th>\n",
       "      <th></th>\n",
       "      <th></th>\n",
       "      <th></th>\n",
       "      <th></th>\n",
       "      <th></th>\n",
       "      <th></th>\n",
       "      <th></th>\n",
       "      <th></th>\n",
       "      <th></th>\n",
       "      <th></th>\n",
       "      <th></th>\n",
       "      <th></th>\n",
       "      <th></th>\n",
       "      <th></th>\n",
       "      <th></th>\n",
       "      <th></th>\n",
       "      <th></th>\n",
       "      <th></th>\n",
       "      <th></th>\n",
       "    </tr>\n",
       "  </thead>\n",
       "  <tbody>\n",
       "    <tr>\n",
       "      <th>2005-12-06 19:14:00</th>\n",
       "      <td>269</td>\n",
       "      <td>2005-12-06</td>\n",
       "      <td>19:14:00</td>\n",
       "      <td>K2</td>\n",
       "      <td>white</td>\n",
       "      <td>male</td>\n",
       "      <td>900</td>\n",
       "      <td>vehicular</td>\n",
       "      <td>False</td>\n",
       "      <td>True</td>\n",
       "      <td>...</td>\n",
       "      <td>False</td>\n",
       "      <td>False</td>\n",
       "      <td>Speeding</td>\n",
       "      <td>TOYT</td>\n",
       "      <td>HIGHLA</td>\n",
       "      <td>SP</td>\n",
       "      <td>W</td>\n",
       "      <td>M</td>\n",
       "      <td>M</td>\n",
       "      <td>False</td>\n",
       "    </tr>\n",
       "    <tr>\n",
       "      <th>2005-12-02 09:59:00</th>\n",
       "      <td>283</td>\n",
       "      <td>2005-12-02</td>\n",
       "      <td>09:59:00</td>\n",
       "      <td>K2</td>\n",
       "      <td>black</td>\n",
       "      <td>female</td>\n",
       "      <td>900</td>\n",
       "      <td>vehicular</td>\n",
       "      <td>True</td>\n",
       "      <td>False</td>\n",
       "      <td>...</td>\n",
       "      <td>False</td>\n",
       "      <td>False</td>\n",
       "      <td>Registration Violation</td>\n",
       "      <td>LINC</td>\n",
       "      <td>TOWN CAR</td>\n",
       "      <td>RV</td>\n",
       "      <td>B</td>\n",
       "      <td>F</td>\n",
       "      <td>D</td>\n",
       "      <td>False</td>\n",
       "    </tr>\n",
       "    <tr>\n",
       "      <th>2005-12-06 16:29:00</th>\n",
       "      <td>298</td>\n",
       "      <td>2005-12-06</td>\n",
       "      <td>16:29:00</td>\n",
       "      <td>K2</td>\n",
       "      <td>black</td>\n",
       "      <td>male</td>\n",
       "      <td>900</td>\n",
       "      <td>vehicular</td>\n",
       "      <td>False</td>\n",
       "      <td>True</td>\n",
       "      <td>...</td>\n",
       "      <td>True</td>\n",
       "      <td>True</td>\n",
       "      <td>Registration Violation</td>\n",
       "      <td>AUDI</td>\n",
       "      <td>100S</td>\n",
       "      <td>RV</td>\n",
       "      <td>B</td>\n",
       "      <td>M</td>\n",
       "      <td>M</td>\n",
       "      <td>False</td>\n",
       "    </tr>\n",
       "    <tr>\n",
       "      <th>2005-12-07 13:20:00</th>\n",
       "      <td>547</td>\n",
       "      <td>2005-12-07</td>\n",
       "      <td>13:20:00</td>\n",
       "      <td>X4</td>\n",
       "      <td>white</td>\n",
       "      <td>female</td>\n",
       "      <td>600</td>\n",
       "      <td>vehicular</td>\n",
       "      <td>False</td>\n",
       "      <td>False</td>\n",
       "      <td>...</td>\n",
       "      <td>False</td>\n",
       "      <td>False</td>\n",
       "      <td>Speeding</td>\n",
       "      <td>HYUN</td>\n",
       "      <td>SANTA FE</td>\n",
       "      <td>SP</td>\n",
       "      <td>W</td>\n",
       "      <td>F</td>\n",
       "      <td>W</td>\n",
       "      <td>False</td>\n",
       "    </tr>\n",
       "    <tr>\n",
       "      <th>2005-12-07 14:45:00</th>\n",
       "      <td>549</td>\n",
       "      <td>2005-12-07</td>\n",
       "      <td>14:45:00</td>\n",
       "      <td>X4</td>\n",
       "      <td>white</td>\n",
       "      <td>male</td>\n",
       "      <td>600</td>\n",
       "      <td>vehicular</td>\n",
       "      <td>False</td>\n",
       "      <td>False</td>\n",
       "      <td>...</td>\n",
       "      <td>False</td>\n",
       "      <td>False</td>\n",
       "      <td>Speeding</td>\n",
       "      <td>FORD</td>\n",
       "      <td>EXPEDITION</td>\n",
       "      <td>SP</td>\n",
       "      <td>W</td>\n",
       "      <td>M</td>\n",
       "      <td>W</td>\n",
       "      <td>False</td>\n",
       "    </tr>\n",
       "  </tbody>\n",
       "</table>\n",
       "<p>5 rows × 22 columns</p>\n",
       "</div>"
      ],
      "text/plain": [
       "                     raw_row_number        date      time zone subject_race  \\\n",
       "datetime                                                                      \n",
       "2005-12-06 19:14:00             269  2005-12-06  19:14:00   K2        white   \n",
       "2005-12-02 09:59:00             283  2005-12-02  09:59:00   K2        black   \n",
       "2005-12-06 16:29:00             298  2005-12-06  16:29:00   K2        black   \n",
       "2005-12-07 13:20:00             547  2005-12-07  13:20:00   X4        white   \n",
       "2005-12-07 14:45:00             549  2005-12-07  14:45:00   X4        white   \n",
       "\n",
       "                    subject_sex department_id       type  arrest_made  \\\n",
       "datetime                                                                \n",
       "2005-12-06 19:14:00        male           900  vehicular        False   \n",
       "2005-12-02 09:59:00      female           900  vehicular         True   \n",
       "2005-12-06 16:29:00        male           900  vehicular        False   \n",
       "2005-12-07 13:20:00      female           600  vehicular        False   \n",
       "2005-12-07 14:45:00        male           600  vehicular        False   \n",
       "\n",
       "                     citation_issued  ... frisk_performed search_conducted  \\\n",
       "datetime                              ...                                    \n",
       "2005-12-06 19:14:00             True  ...           False            False   \n",
       "2005-12-02 09:59:00            False  ...           False            False   \n",
       "2005-12-06 16:29:00             True  ...            True             True   \n",
       "2005-12-07 13:20:00            False  ...           False            False   \n",
       "2005-12-07 14:45:00            False  ...           False            False   \n",
       "\n",
       "                            reason_for_stop  vehicle_make vehicle_model  \\\n",
       "datetime                                                                  \n",
       "2005-12-06 19:14:00                Speeding          TOYT        HIGHLA   \n",
       "2005-12-02 09:59:00  Registration Violation          LINC      TOWN CAR   \n",
       "2005-12-06 16:29:00  Registration Violation          AUDI          100S   \n",
       "2005-12-07 13:20:00                Speeding          HYUN      SANTA FE   \n",
       "2005-12-07 14:45:00                Speeding          FORD    EXPEDITION   \n",
       "\n",
       "                    raw_BasisForStop raw_OperatorRace raw_OperatorSex  \\\n",
       "datetime                                                                \n",
       "2005-12-06 19:14:00               SP                W               M   \n",
       "2005-12-02 09:59:00               RV                B               F   \n",
       "2005-12-06 16:29:00               RV                B               M   \n",
       "2005-12-07 13:20:00               SP                W               F   \n",
       "2005-12-07 14:45:00               SP                W               M   \n",
       "\n",
       "                    raw_ResultOfStop Violation  \n",
       "datetime                                        \n",
       "2005-12-06 19:14:00                M     False  \n",
       "2005-12-02 09:59:00                D     False  \n",
       "2005-12-06 16:29:00                M     False  \n",
       "2005-12-07 13:20:00                W     False  \n",
       "2005-12-07 14:45:00                W     False  \n",
       "\n",
       "[5 rows x 22 columns]"
      ]
     },
     "execution_count": 57,
     "metadata": {},
     "output_type": "execute_result"
    }
   ],
   "source": [
    "df.head()"
   ]
  },
  {
   "cell_type": "code",
   "execution_count": 58,
   "id": "93317ac3-ae5a-48d0-8c47-b81ad2184ded",
   "metadata": {},
   "outputs": [
    {
     "data": {
      "text/plain": [
       "dtype('bool')"
      ]
     },
     "execution_count": 58,
     "metadata": {},
     "output_type": "execute_result"
    }
   ],
   "source": [
    "df.Violation.dtype"
   ]
  },
  {
   "cell_type": "code",
   "execution_count": 59,
   "id": "9f260804-4c17-4eb5-b571-994dde59ecc2",
   "metadata": {},
   "outputs": [
    {
     "data": {
      "text/plain": [
       "298"
      ]
     },
     "execution_count": 59,
     "metadata": {},
     "output_type": "execute_result"
    }
   ],
   "source": [
    "df.Violation.sum()"
   ]
  },
  {
   "cell_type": "code",
   "execution_count": 60,
   "id": "df732640-814d-41b9-9b01-32af5346d24c",
   "metadata": {},
   "outputs": [
    {
     "data": {
      "text/plain": [
       "0.0013196584830127184"
      ]
     },
     "execution_count": 60,
     "metadata": {},
     "output_type": "execute_result"
    }
   ],
   "source": [
    "df.Violation.mean()"
   ]
  },
  {
   "cell_type": "markdown",
   "id": "08e6b573-f1df-4036-95cd-512c1bcbddc3",
   "metadata": {},
   "source": [
    "## What violations are caught in each district?"
   ]
  },
  {
   "cell_type": "code",
   "execution_count": 61,
   "id": "b5fe4287-7bd8-4814-9dd7-f04fcaa37bfb",
   "metadata": {},
   "outputs": [
    {
     "data": {
      "text/html": [
       "<div>\n",
       "<style scoped>\n",
       "    .dataframe tbody tr th:only-of-type {\n",
       "        vertical-align: middle;\n",
       "    }\n",
       "\n",
       "    .dataframe tbody tr th {\n",
       "        vertical-align: top;\n",
       "    }\n",
       "\n",
       "    .dataframe thead th {\n",
       "        text-align: right;\n",
       "    }\n",
       "</style>\n",
       "<table border=\"1\" class=\"dataframe\">\n",
       "  <thead>\n",
       "    <tr style=\"text-align: right;\">\n",
       "      <th>subject_sex</th>\n",
       "      <th>female</th>\n",
       "      <th>male</th>\n",
       "    </tr>\n",
       "    <tr>\n",
       "      <th>subject_race</th>\n",
       "      <th></th>\n",
       "      <th></th>\n",
       "    </tr>\n",
       "  </thead>\n",
       "  <tbody>\n",
       "    <tr>\n",
       "      <th>asian/pacific islander</th>\n",
       "      <td>1510</td>\n",
       "      <td>4991</td>\n",
       "    </tr>\n",
       "    <tr>\n",
       "      <th>black</th>\n",
       "      <td>7922</td>\n",
       "      <td>27282</td>\n",
       "    </tr>\n",
       "    <tr>\n",
       "      <th>hispanic</th>\n",
       "      <td>6441</td>\n",
       "      <td>25449</td>\n",
       "    </tr>\n",
       "    <tr>\n",
       "      <th>other</th>\n",
       "      <td>120</td>\n",
       "      <td>469</td>\n",
       "    </tr>\n",
       "    <tr>\n",
       "      <th>white</th>\n",
       "      <td>46136</td>\n",
       "      <td>105496</td>\n",
       "    </tr>\n",
       "  </tbody>\n",
       "</table>\n",
       "</div>"
      ],
      "text/plain": [
       "subject_sex             female    male\n",
       "subject_race                          \n",
       "asian/pacific islander    1510    4991\n",
       "black                     7922   27282\n",
       "hispanic                  6441   25449\n",
       "other                      120     469\n",
       "white                    46136  105496"
      ]
     },
     "execution_count": 61,
     "metadata": {},
     "output_type": "execute_result"
    }
   ],
   "source": [
    "pd.crosstab(df.subject_race,df.subject_sex)"
   ]
  },
  {
   "cell_type": "code",
   "execution_count": 62,
   "id": "1bc31c08-ac11-46fe-aa3f-ae8a727afb15",
   "metadata": {},
   "outputs": [
    {
     "data": {
      "text/plain": [
       "(7922, 22)"
      ]
     },
     "execution_count": 62,
     "metadata": {},
     "output_type": "execute_result"
    }
   ],
   "source": [
    "df[(df.subject_race == 'black') & (df.subject_sex == 'female')].shape"
   ]
  },
  {
   "cell_type": "code",
   "execution_count": 63,
   "id": "0a36265c-26e8-442a-908c-d304a7ec4a9e",
   "metadata": {},
   "outputs": [],
   "source": [
    "table = pd.crosstab(df.subject_race,df.subject_sex)"
   ]
  },
  {
   "cell_type": "markdown",
   "id": "23fa203b-0c23-4f3a-80cb-94d952327bad",
   "metadata": {},
   "source": [
    "### Selecting a DataFrame slice"
   ]
  },
  {
   "cell_type": "code",
   "execution_count": 64,
   "id": "857f8129-8c00-4e9b-823f-202eba13d64b",
   "metadata": {},
   "outputs": [
    {
     "data": {
      "text/html": [
       "<div>\n",
       "<style scoped>\n",
       "    .dataframe tbody tr th:only-of-type {\n",
       "        vertical-align: middle;\n",
       "    }\n",
       "\n",
       "    .dataframe tbody tr th {\n",
       "        vertical-align: top;\n",
       "    }\n",
       "\n",
       "    .dataframe thead th {\n",
       "        text-align: right;\n",
       "    }\n",
       "</style>\n",
       "<table border=\"1\" class=\"dataframe\">\n",
       "  <thead>\n",
       "    <tr style=\"text-align: right;\">\n",
       "      <th>subject_sex</th>\n",
       "      <th>female</th>\n",
       "      <th>male</th>\n",
       "    </tr>\n",
       "    <tr>\n",
       "      <th>subject_race</th>\n",
       "      <th></th>\n",
       "      <th></th>\n",
       "    </tr>\n",
       "  </thead>\n",
       "  <tbody>\n",
       "    <tr>\n",
       "      <th>black</th>\n",
       "      <td>7922</td>\n",
       "      <td>27282</td>\n",
       "    </tr>\n",
       "    <tr>\n",
       "      <th>hispanic</th>\n",
       "      <td>6441</td>\n",
       "      <td>25449</td>\n",
       "    </tr>\n",
       "    <tr>\n",
       "      <th>other</th>\n",
       "      <td>120</td>\n",
       "      <td>469</td>\n",
       "    </tr>\n",
       "  </tbody>\n",
       "</table>\n",
       "</div>"
      ],
      "text/plain": [
       "subject_sex   female   male\n",
       "subject_race               \n",
       "black           7922  27282\n",
       "hispanic        6441  25449\n",
       "other            120    469"
      ]
     },
     "execution_count": 64,
     "metadata": {},
     "output_type": "execute_result"
    }
   ],
   "source": [
    "table.loc['black':'other']"
   ]
  },
  {
   "cell_type": "code",
   "execution_count": 65,
   "id": "b3d58e56-ed54-4374-97df-326652c48084",
   "metadata": {},
   "outputs": [],
   "source": [
    "table = table.loc['black':'other']"
   ]
  },
  {
   "cell_type": "code",
   "execution_count": 66,
   "id": "ede2ad01-31a1-4283-bf38-651b6d7fa60f",
   "metadata": {},
   "outputs": [
    {
     "data": {
      "image/png": "[encoded data removed]",
      "text/plain": [
       "<Figure size 432x288 with 1 Axes>"
      ]
     },
     "metadata": {
      "needs_background": "light"
     },
     "output_type": "display_data"
    }
   ],
   "source": [
    "table.plot()\n",
    "plt.show()"
   ]
  },
  {
   "cell_type": "markdown",
   "id": "099c3691-9f87-4400-aa7f-c32b07967107",
   "metadata": {},
   "source": [
    "### Creating a bar plot"
   ]
  },
  {
   "cell_type": "code",
   "execution_count": 67,
   "id": "74a8bc37-873c-469b-8c41-df9f2bea09ef",
   "metadata": {},
   "outputs": [
    {
     "data": {
      "image/png": "[encoded data removed]",
      "text/plain": [
       "<Figure size 432x288 with 1 Axes>"
      ]
     },
     "metadata": {
      "needs_background": "light"
     },
     "output_type": "display_data"
    }
   ],
   "source": [
    "table.plot(kind='bar')\n",
    "plt.show()"
   ]
  },
  {
   "cell_type": "markdown",
   "id": "ebcf9df3-635d-4c08-b1f2-29d7b69c8756",
   "metadata": {},
   "source": [
    "### Stacking the bars"
   ]
  },
  {
   "cell_type": "code",
   "execution_count": 68,
   "id": "c09170cd-b105-4cb9-8d54-2c48d5fac46e",
   "metadata": {},
   "outputs": [
    {
     "data": {
      "image/png": "[encoded data removed]",
      "text/plain": [
       "<Figure size 432x288 with 1 Axes>"
      ]
     },
     "metadata": {
      "needs_background": "light"
     },
     "output_type": "display_data"
    }
   ],
   "source": [
    "table.plot(kind='bar', stacked=True)\n",
    "plt.show()"
   ]
  },
  {
   "cell_type": "markdown",
   "id": "71020730-6fe8-44ad-be6a-72c2cd63b5d0",
   "metadata": {},
   "source": [
    "## How long might you be stopped for a violation?"
   ]
  },
  {
   "cell_type": "markdown",
   "id": "c6a9469d-5489-49a4-b180-ffac8d60936a",
   "metadata": {},
   "source": [
    "### Calculating the search rate"
   ]
  },
  {
   "cell_type": "code",
   "execution_count": 69,
   "id": "d86add3c-abf3-4a8a-984e-7e96f168abde",
   "metadata": {},
   "outputs": [
    {
     "data": {
      "text/plain": [
       "reason_for_stop\n",
       "APB                                 0.167464\n",
       "Call for Service                    0.079205\n",
       "Equipment/Inspection Violation      0.059926\n",
       "Motorist Assist/Courtesy            0.219178\n",
       "Other Traffic Violation             0.060433\n",
       "Registration Violation              0.073355\n",
       "Seatbelt Violation                  0.032103\n",
       "Special Detail/Directed Patrol      0.010400\n",
       "Speeding                            0.022763\n",
       "Suspicious Person                   0.377358\n",
       "Violation of City/Town Ordinance    0.067114\n",
       "Warrant                             0.300000\n",
       "Name: search_conducted, dtype: float64"
      ]
     },
     "execution_count": 69,
     "metadata": {},
     "output_type": "execute_result"
    }
   ],
   "source": [
    "df.groupby('reason_for_stop').search_conducted.mean()"
   ]
  },
  {
   "cell_type": "code",
   "execution_count": 70,
   "id": "281ba2c8-e2bf-479c-adf0-63a9f7c5c857",
   "metadata": {},
   "outputs": [],
   "source": [
    "search_rate = df.groupby('reason_for_stop').search_conducted.mean()"
   ]
  },
  {
   "cell_type": "code",
   "execution_count": 71,
   "id": "202ee873-5811-4bf2-816f-dc5771a989cb",
   "metadata": {},
   "outputs": [
    {
     "data": {
      "image/png": "[encoded data removed]",
      "text/plain": [
       "<Figure size 432x288 with 1 Axes>"
      ]
     },
     "metadata": {
      "needs_background": "light"
     },
     "output_type": "display_data"
    }
   ],
   "source": [
    "search_rate.plot(kind='bar')\n",
    "plt.show()"
   ]
  },
  {
   "cell_type": "markdown",
   "id": "0f744b03-efcd-4fda-a2a1-0b9fb154cefb",
   "metadata": {},
   "source": [
    "### Ordering the bars"
   ]
  },
  {
   "cell_type": "code",
   "execution_count": 72,
   "id": "03212429-4ba0-44fa-b1dc-4894b08f143c",
   "metadata": {},
   "outputs": [
    {
     "data": {
      "text/plain": [
       "reason_for_stop\n",
       "Special Detail/Directed Patrol      0.010400\n",
       "Speeding                            0.022763\n",
       "Seatbelt Violation                  0.032103\n",
       "Equipment/Inspection Violation      0.059926\n",
       "Other Traffic Violation             0.060433\n",
       "Violation of City/Town Ordinance    0.067114\n",
       "Registration Violation              0.073355\n",
       "Call for Service                    0.079205\n",
       "APB                                 0.167464\n",
       "Motorist Assist/Courtesy            0.219178\n",
       "Warrant                             0.300000\n",
       "Suspicious Person                   0.377358\n",
       "Name: search_conducted, dtype: float64"
      ]
     },
     "execution_count": 72,
     "metadata": {},
     "output_type": "execute_result"
    }
   ],
   "source": [
    "search_rate.sort_values()"
   ]
  },
  {
   "cell_type": "code",
   "execution_count": 73,
   "id": "c42b764e-324c-41c8-97b6-64ea80396210",
   "metadata": {},
   "outputs": [
    {
     "data": {
      "image/png": "[encoded data removed]",
      "text/plain": [
       "<Figure size 432x288 with 1 Axes>"
      ]
     },
     "metadata": {
      "needs_background": "light"
     },
     "output_type": "display_data"
    }
   ],
   "source": [
    "search_rate.sort_values().plot(kind='bar')\n",
    "plt.show()"
   ]
  },
  {
   "cell_type": "code",
   "execution_count": 74,
   "id": "807287ad-23df-493e-908f-e7fe7426e00b",
   "metadata": {},
   "outputs": [
    {
     "data": {
      "image/png": "[encoded data removed]",
      "text/plain": [
       "<Figure size 432x288 with 1 Axes>"
      ]
     },
     "metadata": {
      "needs_background": "light"
     },
     "output_type": "display_data"
    }
   ],
   "source": [
    "search_rate.sort_values().plot(kind='barh')\n",
    "plt.show()"
   ]
  },
  {
   "cell_type": "code",
   "execution_count": null,
   "id": "7a2d143f-6a34-49d7-8b06-4b61c7afbbe2",
   "metadata": {},
   "outputs": [],
   "source": []
  }
 ],
 "metadata": {
  "kernelspec": {
   "display_name": "Python 3.9.12 ('base')",
   "language": "python",
   "name": "python3"
  },
  "language_info": {
   "codemirror_mode": {
    "name": "ipython",
    "version": 3
   },
   "file_extension": ".py",
   "mimetype": "text/x-python",
   "name": "python",
   "nbconvert_exporter": "python",
   "pygments_lexer": "ipython3",
   "version": "3.9.12"
  },
  "vscode": {
   "interpreter": {
    "hash": "d08e5ac616af8a76040f52fac69386f7b6dc78af5bdda54c325a7d218314ce34"
   }
  }
 },
 "nbformat": 4,
 "nbformat_minor": 5
}
